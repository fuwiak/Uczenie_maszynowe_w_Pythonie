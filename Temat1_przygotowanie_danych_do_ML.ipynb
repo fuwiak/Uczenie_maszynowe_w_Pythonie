{
  "nbformat": 4,
  "nbformat_minor": 0,
  "metadata": {
    "kernelspec": {
      "display_name": "Python 3",
      "language": "python",
      "name": "python3"
    },
    "language_info": {
      "codemirror_mode": {
        "name": "ipython",
        "version": 3
      },
      "file_extension": ".py",
      "mimetype": "text/x-python",
      "name": "python",
      "nbconvert_exporter": "python",
      "pygments_lexer": "ipython3",
      "version": "3.7.6"
    },
    "colab": {
      "name": "Temat1_przygotowanie_danych_do_ML.ipynb",
      "provenance": [],
      "collapsed_sections": []
    }
  },
  "cells": [
    {
      "cell_type": "markdown",
      "metadata": {
        "id": "3ZOcQdB3bcW4"
      },
      "source": [
        "# Temat1 przygotowanie_danych\n"
      ]
    },
    {
      "cell_type": "markdown",
      "metadata": {
        "id": "Wkd0Pefdd3q1"
      },
      "source": [
        "# Wstęp \n",
        "Wstępna analiza ma na podstawie dostarczonych danych ma pan pozwolić zrozumieć dane, w celu pozniejszego\n",
        "\n",
        "Przykładowe kroki:\n",
        "- Krótki opis danych wejściowych.\n",
        "- Transformacja surowych danych(uzupełnianie braków, usunięcie kolumn ze zbyt dużą liczbą braków lub nie wnoszących nic do analizy).\n",
        "- stworzenie nowych zmiennych na podstawie już \"doprowadzonych do ładu\", często dopiero nowe zmienne posiadają wartość predykcyjną.\n",
        "- Wykonanie eksploracji i wizualizacji danych, ten krok pozwoli nam odpowiedzięc na wiele pytań, oraz może pokazać informacje, ktore się widocznie na pierwszy rzut oka.\n",
        "- Selekcja kolumn w celu ich póżniejszego modelowania."
      ]
    },
    {
      "cell_type": "markdown",
      "metadata": {
        "id": "0BjbKZo_bcW_"
      },
      "source": [
        "## Zbiór IRIS"
      ]
    },
    {
      "cell_type": "markdown",
      "metadata": {
        "id": "N3D4WwAZbcXB"
      },
      "source": [
        "### Pobranie i prezentacja tekstowa zbioru IRIS"
      ]
    },
    {
      "cell_type": "code",
      "metadata": {
        "colab": {
          "base_uri": "https://localhost:8080/",
          "height": 202
        },
        "id": "WAxEzBfgbcXC",
        "outputId": "987b4d84-836f-4f90-9ae4-5858987564bd"
      },
      "source": [
        "import pandas as pd\n",
        "import matplotlib.pylab as plt\n",
        "import seaborn as sns\n",
        "\n",
        "\n",
        "data = pd.read_csv('http://archive.ics.uci.edu/ml/machine-learning-databases/iris/iris.data', names=['sepal_length','sepal_width','petal_length','petal_width','target'])\n",
        "data.columns = ['sepal length', 'sepal width', 'petal length', 'petal width', 'class']\n",
        "\n",
        "data.head()"
      ],
      "execution_count": 1,
      "outputs": [
        {
          "output_type": "execute_result",
          "data": {
            "text/html": [
              "<div>\n",
              "<style scoped>\n",
              "    .dataframe tbody tr th:only-of-type {\n",
              "        vertical-align: middle;\n",
              "    }\n",
              "\n",
              "    .dataframe tbody tr th {\n",
              "        vertical-align: top;\n",
              "    }\n",
              "\n",
              "    .dataframe thead th {\n",
              "        text-align: right;\n",
              "    }\n",
              "</style>\n",
              "<table border=\"1\" class=\"dataframe\">\n",
              "  <thead>\n",
              "    <tr style=\"text-align: right;\">\n",
              "      <th></th>\n",
              "      <th>sepal length</th>\n",
              "      <th>sepal width</th>\n",
              "      <th>petal length</th>\n",
              "      <th>petal width</th>\n",
              "      <th>class</th>\n",
              "    </tr>\n",
              "  </thead>\n",
              "  <tbody>\n",
              "    <tr>\n",
              "      <th>0</th>\n",
              "      <td>5.1</td>\n",
              "      <td>3.5</td>\n",
              "      <td>1.4</td>\n",
              "      <td>0.2</td>\n",
              "      <td>Iris-setosa</td>\n",
              "    </tr>\n",
              "    <tr>\n",
              "      <th>1</th>\n",
              "      <td>4.9</td>\n",
              "      <td>3.0</td>\n",
              "      <td>1.4</td>\n",
              "      <td>0.2</td>\n",
              "      <td>Iris-setosa</td>\n",
              "    </tr>\n",
              "    <tr>\n",
              "      <th>2</th>\n",
              "      <td>4.7</td>\n",
              "      <td>3.2</td>\n",
              "      <td>1.3</td>\n",
              "      <td>0.2</td>\n",
              "      <td>Iris-setosa</td>\n",
              "    </tr>\n",
              "    <tr>\n",
              "      <th>3</th>\n",
              "      <td>4.6</td>\n",
              "      <td>3.1</td>\n",
              "      <td>1.5</td>\n",
              "      <td>0.2</td>\n",
              "      <td>Iris-setosa</td>\n",
              "    </tr>\n",
              "    <tr>\n",
              "      <th>4</th>\n",
              "      <td>5.0</td>\n",
              "      <td>3.6</td>\n",
              "      <td>1.4</td>\n",
              "      <td>0.2</td>\n",
              "      <td>Iris-setosa</td>\n",
              "    </tr>\n",
              "  </tbody>\n",
              "</table>\n",
              "</div>"
            ],
            "text/plain": [
              "   sepal length  sepal width  petal length  petal width        class\n",
              "0           5.1          3.5           1.4          0.2  Iris-setosa\n",
              "1           4.9          3.0           1.4          0.2  Iris-setosa\n",
              "2           4.7          3.2           1.3          0.2  Iris-setosa\n",
              "3           4.6          3.1           1.5          0.2  Iris-setosa\n",
              "4           5.0          3.6           1.4          0.2  Iris-setosa"
            ]
          },
          "metadata": {},
          "execution_count": 1
        }
      ]
    },
    {
      "cell_type": "markdown",
      "metadata": {
        "id": "4_DhodhzbcXJ"
      },
      "source": [
        "### Podstawowa statystyka dotycząca danych"
      ]
    },
    {
      "cell_type": "code",
      "metadata": {
        "colab": {
          "base_uri": "https://localhost:8080/"
        },
        "id": "qGI-2ArFbcXK",
        "outputId": "e6d62a55-2af4-405c-9fce-57b65f628efe"
      },
      "source": [
        "data['class'].value_counts()  # podsumowanie wystąpień klas\n"
      ],
      "execution_count": 2,
      "outputs": [
        {
          "output_type": "execute_result",
          "data": {
            "text/plain": [
              "Iris-virginica     50\n",
              "Iris-versicolor    50\n",
              "Iris-setosa        50\n",
              "Name: class, dtype: int64"
            ]
          },
          "metadata": {},
          "execution_count": 2
        }
      ]
    },
    {
      "cell_type": "code",
      "metadata": {
        "colab": {
          "base_uri": "https://localhost:8080/",
          "height": 385
        },
        "id": "6O69-kaAb0x5",
        "outputId": "5326250d-6026-494a-c1b6-6821472661b7"
      },
      "source": [
        "data.describe(include='all')  # podsumowanie statystyk w formie czytelnej tabeli"
      ],
      "execution_count": 3,
      "outputs": [
        {
          "output_type": "execute_result",
          "data": {
            "text/html": [
              "<div>\n",
              "<style scoped>\n",
              "    .dataframe tbody tr th:only-of-type {\n",
              "        vertical-align: middle;\n",
              "    }\n",
              "\n",
              "    .dataframe tbody tr th {\n",
              "        vertical-align: top;\n",
              "    }\n",
              "\n",
              "    .dataframe thead th {\n",
              "        text-align: right;\n",
              "    }\n",
              "</style>\n",
              "<table border=\"1\" class=\"dataframe\">\n",
              "  <thead>\n",
              "    <tr style=\"text-align: right;\">\n",
              "      <th></th>\n",
              "      <th>sepal length</th>\n",
              "      <th>sepal width</th>\n",
              "      <th>petal length</th>\n",
              "      <th>petal width</th>\n",
              "      <th>class</th>\n",
              "    </tr>\n",
              "  </thead>\n",
              "  <tbody>\n",
              "    <tr>\n",
              "      <th>count</th>\n",
              "      <td>150.000000</td>\n",
              "      <td>150.000000</td>\n",
              "      <td>150.000000</td>\n",
              "      <td>150.000000</td>\n",
              "      <td>150</td>\n",
              "    </tr>\n",
              "    <tr>\n",
              "      <th>unique</th>\n",
              "      <td>NaN</td>\n",
              "      <td>NaN</td>\n",
              "      <td>NaN</td>\n",
              "      <td>NaN</td>\n",
              "      <td>3</td>\n",
              "    </tr>\n",
              "    <tr>\n",
              "      <th>top</th>\n",
              "      <td>NaN</td>\n",
              "      <td>NaN</td>\n",
              "      <td>NaN</td>\n",
              "      <td>NaN</td>\n",
              "      <td>Iris-virginica</td>\n",
              "    </tr>\n",
              "    <tr>\n",
              "      <th>freq</th>\n",
              "      <td>NaN</td>\n",
              "      <td>NaN</td>\n",
              "      <td>NaN</td>\n",
              "      <td>NaN</td>\n",
              "      <td>50</td>\n",
              "    </tr>\n",
              "    <tr>\n",
              "      <th>mean</th>\n",
              "      <td>5.843333</td>\n",
              "      <td>3.054000</td>\n",
              "      <td>3.758667</td>\n",
              "      <td>1.198667</td>\n",
              "      <td>NaN</td>\n",
              "    </tr>\n",
              "    <tr>\n",
              "      <th>std</th>\n",
              "      <td>0.828066</td>\n",
              "      <td>0.433594</td>\n",
              "      <td>1.764420</td>\n",
              "      <td>0.763161</td>\n",
              "      <td>NaN</td>\n",
              "    </tr>\n",
              "    <tr>\n",
              "      <th>min</th>\n",
              "      <td>4.300000</td>\n",
              "      <td>2.000000</td>\n",
              "      <td>1.000000</td>\n",
              "      <td>0.100000</td>\n",
              "      <td>NaN</td>\n",
              "    </tr>\n",
              "    <tr>\n",
              "      <th>25%</th>\n",
              "      <td>5.100000</td>\n",
              "      <td>2.800000</td>\n",
              "      <td>1.600000</td>\n",
              "      <td>0.300000</td>\n",
              "      <td>NaN</td>\n",
              "    </tr>\n",
              "    <tr>\n",
              "      <th>50%</th>\n",
              "      <td>5.800000</td>\n",
              "      <td>3.000000</td>\n",
              "      <td>4.350000</td>\n",
              "      <td>1.300000</td>\n",
              "      <td>NaN</td>\n",
              "    </tr>\n",
              "    <tr>\n",
              "      <th>75%</th>\n",
              "      <td>6.400000</td>\n",
              "      <td>3.300000</td>\n",
              "      <td>5.100000</td>\n",
              "      <td>1.800000</td>\n",
              "      <td>NaN</td>\n",
              "    </tr>\n",
              "    <tr>\n",
              "      <th>max</th>\n",
              "      <td>7.900000</td>\n",
              "      <td>4.400000</td>\n",
              "      <td>6.900000</td>\n",
              "      <td>2.500000</td>\n",
              "      <td>NaN</td>\n",
              "    </tr>\n",
              "  </tbody>\n",
              "</table>\n",
              "</div>"
            ],
            "text/plain": [
              "        sepal length  sepal width  petal length  petal width           class\n",
              "count     150.000000   150.000000    150.000000   150.000000             150\n",
              "unique           NaN          NaN           NaN          NaN               3\n",
              "top              NaN          NaN           NaN          NaN  Iris-virginica\n",
              "freq             NaN          NaN           NaN          NaN              50\n",
              "mean        5.843333     3.054000      3.758667     1.198667             NaN\n",
              "std         0.828066     0.433594      1.764420     0.763161             NaN\n",
              "min         4.300000     2.000000      1.000000     0.100000             NaN\n",
              "25%         5.100000     2.800000      1.600000     0.300000             NaN\n",
              "50%         5.800000     3.000000      4.350000     1.300000             NaN\n",
              "75%         6.400000     3.300000      5.100000     1.800000             NaN\n",
              "max         7.900000     4.400000      6.900000     2.500000             NaN"
            ]
          },
          "metadata": {},
          "execution_count": 3
        }
      ]
    },
    {
      "cell_type": "markdown",
      "metadata": {
        "id": "Xed9XLiBbcXM"
      },
      "source": [
        "### macierz kowariancji i korelacji"
      ]
    },
    {
      "cell_type": "code",
      "metadata": {
        "colab": {
          "base_uri": "https://localhost:8080/",
          "height": 188
        },
        "id": "5J3aMj66bcXN",
        "outputId": "2f248089-d7f6-4dbd-ffab-28e3b24e5aa7"
      },
      "source": [
        "print('Macierz kowariancji:')\n",
        "data.cov()"
      ],
      "execution_count": 4,
      "outputs": [
        {
          "output_type": "stream",
          "name": "stdout",
          "text": [
            "Macierz kowariancji:\n"
          ]
        },
        {
          "output_type": "execute_result",
          "data": {
            "text/html": [
              "<div>\n",
              "<style scoped>\n",
              "    .dataframe tbody tr th:only-of-type {\n",
              "        vertical-align: middle;\n",
              "    }\n",
              "\n",
              "    .dataframe tbody tr th {\n",
              "        vertical-align: top;\n",
              "    }\n",
              "\n",
              "    .dataframe thead th {\n",
              "        text-align: right;\n",
              "    }\n",
              "</style>\n",
              "<table border=\"1\" class=\"dataframe\">\n",
              "  <thead>\n",
              "    <tr style=\"text-align: right;\">\n",
              "      <th></th>\n",
              "      <th>sepal length</th>\n",
              "      <th>sepal width</th>\n",
              "      <th>petal length</th>\n",
              "      <th>petal width</th>\n",
              "    </tr>\n",
              "  </thead>\n",
              "  <tbody>\n",
              "    <tr>\n",
              "      <th>sepal length</th>\n",
              "      <td>0.685694</td>\n",
              "      <td>-0.039268</td>\n",
              "      <td>1.273682</td>\n",
              "      <td>0.516904</td>\n",
              "    </tr>\n",
              "    <tr>\n",
              "      <th>sepal width</th>\n",
              "      <td>-0.039268</td>\n",
              "      <td>0.188004</td>\n",
              "      <td>-0.321713</td>\n",
              "      <td>-0.117981</td>\n",
              "    </tr>\n",
              "    <tr>\n",
              "      <th>petal length</th>\n",
              "      <td>1.273682</td>\n",
              "      <td>-0.321713</td>\n",
              "      <td>3.113179</td>\n",
              "      <td>1.296387</td>\n",
              "    </tr>\n",
              "    <tr>\n",
              "      <th>petal width</th>\n",
              "      <td>0.516904</td>\n",
              "      <td>-0.117981</td>\n",
              "      <td>1.296387</td>\n",
              "      <td>0.582414</td>\n",
              "    </tr>\n",
              "  </tbody>\n",
              "</table>\n",
              "</div>"
            ],
            "text/plain": [
              "              sepal length  sepal width  petal length  petal width\n",
              "sepal length      0.685694    -0.039268      1.273682     0.516904\n",
              "sepal width      -0.039268     0.188004     -0.321713    -0.117981\n",
              "petal length      1.273682    -0.321713      3.113179     1.296387\n",
              "petal width       0.516904    -0.117981      1.296387     0.582414"
            ]
          },
          "metadata": {},
          "execution_count": 4
        }
      ]
    },
    {
      "cell_type": "code",
      "metadata": {
        "colab": {
          "base_uri": "https://localhost:8080/",
          "height": 188
        },
        "id": "3D41nhipbcXO",
        "outputId": "8ea21aa5-5e4c-4c0c-b52a-44763e92f7b8"
      },
      "source": [
        "print('Macierz korelacji:')\n",
        "data.corr()"
      ],
      "execution_count": 5,
      "outputs": [
        {
          "output_type": "stream",
          "name": "stdout",
          "text": [
            "Macierz korelacji:\n"
          ]
        },
        {
          "output_type": "execute_result",
          "data": {
            "text/html": [
              "<div>\n",
              "<style scoped>\n",
              "    .dataframe tbody tr th:only-of-type {\n",
              "        vertical-align: middle;\n",
              "    }\n",
              "\n",
              "    .dataframe tbody tr th {\n",
              "        vertical-align: top;\n",
              "    }\n",
              "\n",
              "    .dataframe thead th {\n",
              "        text-align: right;\n",
              "    }\n",
              "</style>\n",
              "<table border=\"1\" class=\"dataframe\">\n",
              "  <thead>\n",
              "    <tr style=\"text-align: right;\">\n",
              "      <th></th>\n",
              "      <th>sepal length</th>\n",
              "      <th>sepal width</th>\n",
              "      <th>petal length</th>\n",
              "      <th>petal width</th>\n",
              "    </tr>\n",
              "  </thead>\n",
              "  <tbody>\n",
              "    <tr>\n",
              "      <th>sepal length</th>\n",
              "      <td>1.000000</td>\n",
              "      <td>-0.109369</td>\n",
              "      <td>0.871754</td>\n",
              "      <td>0.817954</td>\n",
              "    </tr>\n",
              "    <tr>\n",
              "      <th>sepal width</th>\n",
              "      <td>-0.109369</td>\n",
              "      <td>1.000000</td>\n",
              "      <td>-0.420516</td>\n",
              "      <td>-0.356544</td>\n",
              "    </tr>\n",
              "    <tr>\n",
              "      <th>petal length</th>\n",
              "      <td>0.871754</td>\n",
              "      <td>-0.420516</td>\n",
              "      <td>1.000000</td>\n",
              "      <td>0.962757</td>\n",
              "    </tr>\n",
              "    <tr>\n",
              "      <th>petal width</th>\n",
              "      <td>0.817954</td>\n",
              "      <td>-0.356544</td>\n",
              "      <td>0.962757</td>\n",
              "      <td>1.000000</td>\n",
              "    </tr>\n",
              "  </tbody>\n",
              "</table>\n",
              "</div>"
            ],
            "text/plain": [
              "              sepal length  sepal width  petal length  petal width\n",
              "sepal length      1.000000    -0.109369      0.871754     0.817954\n",
              "sepal width      -0.109369     1.000000     -0.420516    -0.356544\n",
              "petal length      0.871754    -0.420516      1.000000     0.962757\n",
              "petal width       0.817954    -0.356544      0.962757     1.000000"
            ]
          },
          "metadata": {},
          "execution_count": 5
        }
      ]
    },
    {
      "cell_type": "code",
      "metadata": {
        "colab": {
          "base_uri": "https://localhost:8080/",
          "height": 722
        },
        "id": "R2CUF_wJb7Qi",
        "outputId": "8d9b4c82-674c-4aca-daa0-8e27b6c9b076"
      },
      "source": [
        "plt.figure(figsize=(16,12))\n",
        "sns.heatmap(data.corr(), annot = True)"
      ],
      "execution_count": 6,
      "outputs": [
        {
          "output_type": "execute_result",
          "data": {
            "text/plain": [
              "<matplotlib.axes._subplots.AxesSubplot at 0x7f589f525550>"
            ]
          },
          "metadata": {},
          "execution_count": 6
        },
        {
          "output_type": "display_data",
          "data": {
            "image/png": "[encoded data removed]",
            "text/plain": [
              "<Figure size 1152x864 with 2 Axes>"
            ]
          },
          "metadata": {
            "needs_background": "light"
          }
        }
      ]
    },
    {
      "cell_type": "markdown",
      "metadata": {
        "id": "GEPIK1l8bcXP"
      },
      "source": [
        "### Wizualizacja danych"
      ]
    },
    {
      "cell_type": "code",
      "metadata": {
        "colab": {
          "base_uri": "https://localhost:8080/",
          "height": 298
        },
        "id": "i4_wC_rfbcXQ",
        "outputId": "e16a9c2b-d50d-482d-8b68-a55070e43477"
      },
      "source": [
        "#histogramy\n",
        "\n",
        "import numpy as np\n",
        "import matplotlib.pyplot as plt\n",
        "\n",
        "\n",
        "\n",
        "ax = plt.subplot(2,2,1)\n",
        "bins = np.linspace(4, 8, 9)\n",
        "plt.hist(data['sepal length'], bins=bins, align=\"mid\", alpha=0.5, histtype='bar', ec='black')\n",
        "plt.ylabel('wystąpień')\n",
        "plt.xlabel('sepal length')\n",
        "plt.grid(True)\n",
        "\n",
        "\n",
        "ax = plt.subplot(2,2,2)\n",
        "bins = np.linspace(2, 4.5, 6)\n",
        "plt.hist(data['sepal width'], bins=bins, align=\"mid\", alpha=0.5, histtype='bar', ec='black')\n",
        "plt.xlabel('sepal width')\n",
        "plt.ylabel('wystąpień')\n",
        "plt.grid(True)\n",
        "\n",
        "ax = plt.subplot(2,2,3)\n",
        "bins = np.linspace(3, 7, 5)\n",
        "plt.hist(data['petal length'], bins=bins, align=\"mid\", alpha=0.5, histtype='bar', ec='black')\n",
        "plt.xlabel('petal width')\n",
        "plt.ylabel('wystąpień')\n",
        "plt.grid(True)\n",
        "\n",
        "ax = plt.subplot(2,2,4)\n",
        "bins = np.linspace(0, 2.5, 6)\n",
        "plt.hist(data['petal width'], bins=bins, align=\"mid\", alpha=0.5, histtype='bar', ec='black')\n",
        "plt.xlabel('petal width')\n",
        "plt.ylabel('wystąpień')\n",
        "plt.grid(True)\n",
        "\n",
        "plt.tight_layout(pad=1.0)\n",
        "\n",
        "\n",
        "\n"
      ],
      "execution_count": 7,
      "outputs": [
        {
          "output_type": "display_data",
          "data": {
            "image/png": "[encoded data removed]",
            "text/plain": [
              "<Figure size 432x288 with 4 Axes>"
            ]
          },
          "metadata": {
            "needs_background": "light"
          }
        }
      ]
    },
    {
      "cell_type": "code",
      "metadata": {
        "id": "b1wBBHIkBqki"
      },
      "source": [
        ""
      ],
      "execution_count": 7,
      "outputs": []
    },
    {
      "cell_type": "code",
      "metadata": {
        "id": "-TWmF2meiXqg"
      },
      "source": [
        "#jak histogramy, to i musza byc wykresy slupkowe"
      ],
      "execution_count": 8,
      "outputs": []
    },
    {
      "cell_type": "code",
      "metadata": {
        "colab": {
          "base_uri": "https://localhost:8080/",
          "height": 528
        },
        "id": "SEyjUfGjh3ru",
        "outputId": "0e8d053c-22c6-4278-90ae-c987698cf7b5"
      },
      "source": [
        "col = 'class'\n",
        "\n",
        "plt.figure(figsize=[15,7])\n",
        "plt.xlabel(\"0 - nie spłaci, 1 - spłaci\")\n",
        "plt.ylabel(\"liczba wystąpień danej klasy\")\n",
        "plt.title(\"Rozklad zmiennej loan_status\")\n",
        "sns.countplot(x=col, data=data)\n",
        "plt.plot()\n",
        "data['class'].value_counts()  # podsumowanie wystąpień klas\n"
      ],
      "execution_count": 9,
      "outputs": [
        {
          "output_type": "execute_result",
          "data": {
            "text/plain": [
              "Iris-virginica     50\n",
              "Iris-versicolor    50\n",
              "Iris-setosa        50\n",
              "Name: class, dtype: int64"
            ]
          },
          "metadata": {},
          "execution_count": 9
        },
        {
          "output_type": "display_data",
          "data": {
            "image/png": "[encoded data removed]",
            "text/plain": [
              "<Figure size 1080x504 with 1 Axes>"
            ]
          },
          "metadata": {
            "needs_background": "light"
          }
        }
      ]
    },
    {
      "cell_type": "code",
      "metadata": {
        "colab": {
          "base_uri": "https://localhost:8080/",
          "height": 282
        },
        "id": "r7L0lViKbcXT",
        "outputId": "4eb6b94a-7706-4720-931c-07f1faa6a7f4"
      },
      "source": [
        "%matplotlib inline\n",
        "data.boxplot()"
      ],
      "execution_count": 10,
      "outputs": [
        {
          "output_type": "execute_result",
          "data": {
            "text/plain": [
              "<matplotlib.axes._subplots.AxesSubplot at 0x7f5895c88950>"
            ]
          },
          "metadata": {},
          "execution_count": 10
        },
        {
          "output_type": "display_data",
          "data": {
            "image/png": "[encoded data removed]",
            "text/plain": [
              "<Figure size 432x288 with 1 Axes>"
            ]
          },
          "metadata": {
            "needs_background": "light"
          }
        }
      ]
    },
    {
      "cell_type": "code",
      "metadata": {
        "colab": {
          "base_uri": "https://localhost:8080/",
          "height": 716
        },
        "id": "dWfeqC0abcXV",
        "outputId": "f2ef03f6-c8f8-495f-bfeb-4837f2a76664"
      },
      "source": [
        "import matplotlib.pyplot as plt\n",
        "\n",
        "fig, axes = plt.subplots(3, 2, figsize=(12,12))\n",
        "index = 0\n",
        "for i in range(3):\n",
        "    for j in range(i+1,4):\n",
        "        ax1 = int(index/2)\n",
        "        ax2 = index % 2\n",
        "        axes[ax1][ax2].scatter(data[data.columns[i]], data[data.columns[j]])\n",
        "        axes[ax1][ax2].set_xlabel(data.columns[i])\n",
        "        axes[ax1][ax2].set_ylabel(data.columns[j])\n",
        "        index = index + 1"
      ],
      "execution_count": 11,
      "outputs": [
        {
          "output_type": "display_data",
          "data": {
            "image/png": "[encoded data removed]",
            "text/plain": [
              "<Figure size 864x864 with 6 Axes>"
            ]
          },
          "metadata": {
            "needs_background": "light"
          }
        }
      ]
    },
    {
      "cell_type": "code",
      "metadata": {
        "colab": {
          "base_uri": "https://localhost:8080/",
          "height": 716
        },
        "id": "u8R4QTXMbcXW",
        "outputId": "36459c1a-b912-4f19-f76d-ed7330347fc7"
      },
      "source": [
        "import matplotlib.pyplot as plt\n",
        "\n",
        "fig, axes = plt.subplots(3, 2, figsize=(12,12))\n",
        "index = 0\n",
        "for i in range(3):\n",
        "    for j in range(i+1,4):\n",
        "        ax1 = int(index/2)\n",
        "        ax2 = index % 2\n",
        "        axes[ax1][ax2].scatter(data[data.columns[i]][:50], data[data.columns[j]][:50], color=\"red\", )\n",
        "        axes[ax1][ax2].scatter(data[data.columns[i]][50:100], data[data.columns[j]][50:100], color=\"green\")\n",
        "        axes[ax1][ax2].scatter(data[data.columns[i]][100:150], data[data.columns[j]][100:150], color=\"blue\")\n",
        "        axes[ax1][ax2].set_xlabel(data.columns[i])\n",
        "        axes[ax1][ax2].set_ylabel(data.columns[j])\n",
        "        index = index + 1"
      ],
      "execution_count": 12,
      "outputs": [
        {
          "output_type": "display_data",
          "data": {
            "image/png": "[encoded data removed]",
            "text/plain": [
              "<Figure size 864x864 with 6 Axes>"
            ]
          },
          "metadata": {
            "needs_background": "light"
          }
        }
      ]
    },
    {
      "cell_type": "markdown",
      "metadata": {
        "id": "ZddACNtXbcXY"
      },
      "source": [
        "## Zbiór breast cancer"
      ]
    },
    {
      "cell_type": "markdown",
      "metadata": {
        "id": "pL9z4o3QbcXZ"
      },
      "source": [
        "### Pobranie danych i podstawowa charakterystyka"
      ]
    },
    {
      "cell_type": "code",
      "metadata": {
        "colab": {
          "base_uri": "https://localhost:8080/",
          "height": 254
        },
        "id": "6CtzDC37bcXa",
        "outputId": "2ee8aebe-2ae2-4151-ef66-a10d73eccb1e"
      },
      "source": [
        "import pandas as pd\n",
        "data = pd.read_csv('https://archive.ics.uci.edu/ml/machine-learning-databases/breast-cancer-wisconsin/breast-cancer-wisconsin.data', header=None)\n",
        "data.columns = ['Sample code', 'Clump Thickness', 'Uniformity of Cell Size', 'Uniformity of Cell Shape',\n",
        "                'Marginal Adhesion', 'Single Epithelial Cell Size', 'Bare Nuclei', 'Bland Chromatin',\n",
        "                'Normal Nucleoli', 'Mitoses','Class']\n",
        "\n",
        "data = data.drop(['Sample code'], axis=1)\n",
        "print('Liczba elementów zbioru = %d' % (data.shape[0]))\n",
        "print('Liczba atrybutów (cech) = %d' % (data.shape[1]))\n",
        "data.head()"
      ],
      "execution_count": 13,
      "outputs": [
        {
          "output_type": "stream",
          "name": "stdout",
          "text": [
            "Liczba elementów zbioru = 699\n",
            "Liczba atrybutów (cech) = 10\n"
          ]
        },
        {
          "output_type": "execute_result",
          "data": {
            "text/html": [
              "<div>\n",
              "<style scoped>\n",
              "    .dataframe tbody tr th:only-of-type {\n",
              "        vertical-align: middle;\n",
              "    }\n",
              "\n",
              "    .dataframe tbody tr th {\n",
              "        vertical-align: top;\n",
              "    }\n",
              "\n",
              "    .dataframe thead th {\n",
              "        text-align: right;\n",
              "    }\n",
              "</style>\n",
              "<table border=\"1\" class=\"dataframe\">\n",
              "  <thead>\n",
              "    <tr style=\"text-align: right;\">\n",
              "      <th></th>\n",
              "      <th>Clump Thickness</th>\n",
              "      <th>Uniformity of Cell Size</th>\n",
              "      <th>Uniformity of Cell Shape</th>\n",
              "      <th>Marginal Adhesion</th>\n",
              "      <th>Single Epithelial Cell Size</th>\n",
              "      <th>Bare Nuclei</th>\n",
              "      <th>Bland Chromatin</th>\n",
              "      <th>Normal Nucleoli</th>\n",
              "      <th>Mitoses</th>\n",
              "      <th>Class</th>\n",
              "    </tr>\n",
              "  </thead>\n",
              "  <tbody>\n",
              "    <tr>\n",
              "      <th>0</th>\n",
              "      <td>5</td>\n",
              "      <td>1</td>\n",
              "      <td>1</td>\n",
              "      <td>1</td>\n",
              "      <td>2</td>\n",
              "      <td>1</td>\n",
              "      <td>3</td>\n",
              "      <td>1</td>\n",
              "      <td>1</td>\n",
              "      <td>2</td>\n",
              "    </tr>\n",
              "    <tr>\n",
              "      <th>1</th>\n",
              "      <td>5</td>\n",
              "      <td>4</td>\n",
              "      <td>4</td>\n",
              "      <td>5</td>\n",
              "      <td>7</td>\n",
              "      <td>10</td>\n",
              "      <td>3</td>\n",
              "      <td>2</td>\n",
              "      <td>1</td>\n",
              "      <td>2</td>\n",
              "    </tr>\n",
              "    <tr>\n",
              "      <th>2</th>\n",
              "      <td>3</td>\n",
              "      <td>1</td>\n",
              "      <td>1</td>\n",
              "      <td>1</td>\n",
              "      <td>2</td>\n",
              "      <td>2</td>\n",
              "      <td>3</td>\n",
              "      <td>1</td>\n",
              "      <td>1</td>\n",
              "      <td>2</td>\n",
              "    </tr>\n",
              "    <tr>\n",
              "      <th>3</th>\n",
              "      <td>6</td>\n",
              "      <td>8</td>\n",
              "      <td>8</td>\n",
              "      <td>1</td>\n",
              "      <td>3</td>\n",
              "      <td>4</td>\n",
              "      <td>3</td>\n",
              "      <td>7</td>\n",
              "      <td>1</td>\n",
              "      <td>2</td>\n",
              "    </tr>\n",
              "    <tr>\n",
              "      <th>4</th>\n",
              "      <td>4</td>\n",
              "      <td>1</td>\n",
              "      <td>1</td>\n",
              "      <td>3</td>\n",
              "      <td>2</td>\n",
              "      <td>1</td>\n",
              "      <td>3</td>\n",
              "      <td>1</td>\n",
              "      <td>1</td>\n",
              "      <td>2</td>\n",
              "    </tr>\n",
              "  </tbody>\n",
              "</table>\n",
              "</div>"
            ],
            "text/plain": [
              "   Clump Thickness  Uniformity of Cell Size  ...  Mitoses  Class\n",
              "0                5                        1  ...        1      2\n",
              "1                5                        4  ...        1      2\n",
              "2                3                        1  ...        1      2\n",
              "3                6                        8  ...        1      2\n",
              "4                4                        1  ...        1      2\n",
              "\n",
              "[5 rows x 10 columns]"
            ]
          },
          "metadata": {},
          "execution_count": 13
        }
      ]
    },
    {
      "cell_type": "code",
      "metadata": {
        "id": "DauKjprXBBlU"
      },
      "source": [
        "data = data.replace('?',np.NaN)"
      ],
      "execution_count": 14,
      "outputs": []
    },
    {
      "cell_type": "code",
      "metadata": {
        "colab": {
          "base_uri": "https://localhost:8080/"
        },
        "id": "iDycMIq3foKs",
        "outputId": "f1c129d6-bd15-4db7-c1ca-0f63b472a549"
      },
      "source": [
        "#liczba kolumn\n",
        "len(data.columns)"
      ],
      "execution_count": 15,
      "outputs": [
        {
          "output_type": "execute_result",
          "data": {
            "text/plain": [
              "10"
            ]
          },
          "metadata": {},
          "execution_count": 15
        }
      ]
    },
    {
      "cell_type": "code",
      "metadata": {
        "colab": {
          "base_uri": "https://localhost:8080/",
          "height": 355
        },
        "id": "yRMd_Gehfqwy",
        "outputId": "84d72b46-070a-4880-d0f9-5daefdf3a337"
      },
      "source": [
        "#liczba brakow w columns\n",
        "temp=data.isnull().sum()\n",
        "temp = pd.DataFrame(temp)\n",
        "mapping = {temp.columns[0]:'Count'}\n",
        "temp = temp.rename(columns=mapping)\n",
        "temp.style.set_properties(subset=['Count'], **{'width': '1000px'})"
      ],
      "execution_count": 16,
      "outputs": [
        {
          "output_type": "execute_result",
          "data": {
            "text/html": [
              "<style  type=\"text/css\" >\n",
              "#T_1b2192c6_45af_11ec_8172_0242ac1c0002row0_col0,#T_1b2192c6_45af_11ec_8172_0242ac1c0002row1_col0,#T_1b2192c6_45af_11ec_8172_0242ac1c0002row2_col0,#T_1b2192c6_45af_11ec_8172_0242ac1c0002row3_col0,#T_1b2192c6_45af_11ec_8172_0242ac1c0002row4_col0,#T_1b2192c6_45af_11ec_8172_0242ac1c0002row5_col0,#T_1b2192c6_45af_11ec_8172_0242ac1c0002row6_col0,#T_1b2192c6_45af_11ec_8172_0242ac1c0002row7_col0,#T_1b2192c6_45af_11ec_8172_0242ac1c0002row8_col0,#T_1b2192c6_45af_11ec_8172_0242ac1c0002row9_col0{\n",
              "            width:  1000px;\n",
              "        }</style><table id=\"T_1b2192c6_45af_11ec_8172_0242ac1c0002\" class=\"dataframe\"><thead>    <tr>        <th class=\"blank level0\" ></th>        <th class=\"col_heading level0 col0\" >Count</th>    </tr></thead><tbody>\n",
              "                <tr>\n",
              "                        <th id=\"T_1b2192c6_45af_11ec_8172_0242ac1c0002level0_row0\" class=\"row_heading level0 row0\" >Clump Thickness</th>\n",
              "                        <td id=\"T_1b2192c6_45af_11ec_8172_0242ac1c0002row0_col0\" class=\"data row0 col0\" >0</td>\n",
              "            </tr>\n",
              "            <tr>\n",
              "                        <th id=\"T_1b2192c6_45af_11ec_8172_0242ac1c0002level0_row1\" class=\"row_heading level0 row1\" >Uniformity of Cell Size</th>\n",
              "                        <td id=\"T_1b2192c6_45af_11ec_8172_0242ac1c0002row1_col0\" class=\"data row1 col0\" >0</td>\n",
              "            </tr>\n",
              "            <tr>\n",
              "                        <th id=\"T_1b2192c6_45af_11ec_8172_0242ac1c0002level0_row2\" class=\"row_heading level0 row2\" >Uniformity of Cell Shape</th>\n",
              "                        <td id=\"T_1b2192c6_45af_11ec_8172_0242ac1c0002row2_col0\" class=\"data row2 col0\" >0</td>\n",
              "            </tr>\n",
              "            <tr>\n",
              "                        <th id=\"T_1b2192c6_45af_11ec_8172_0242ac1c0002level0_row3\" class=\"row_heading level0 row3\" >Marginal Adhesion</th>\n",
              "                        <td id=\"T_1b2192c6_45af_11ec_8172_0242ac1c0002row3_col0\" class=\"data row3 col0\" >0</td>\n",
              "            </tr>\n",
              "            <tr>\n",
              "                        <th id=\"T_1b2192c6_45af_11ec_8172_0242ac1c0002level0_row4\" class=\"row_heading level0 row4\" >Single Epithelial Cell Size</th>\n",
              "                        <td id=\"T_1b2192c6_45af_11ec_8172_0242ac1c0002row4_col0\" class=\"data row4 col0\" >0</td>\n",
              "            </tr>\n",
              "            <tr>\n",
              "                        <th id=\"T_1b2192c6_45af_11ec_8172_0242ac1c0002level0_row5\" class=\"row_heading level0 row5\" >Bare Nuclei</th>\n",
              "                        <td id=\"T_1b2192c6_45af_11ec_8172_0242ac1c0002row5_col0\" class=\"data row5 col0\" >16</td>\n",
              "            </tr>\n",
              "            <tr>\n",
              "                        <th id=\"T_1b2192c6_45af_11ec_8172_0242ac1c0002level0_row6\" class=\"row_heading level0 row6\" >Bland Chromatin</th>\n",
              "                        <td id=\"T_1b2192c6_45af_11ec_8172_0242ac1c0002row6_col0\" class=\"data row6 col0\" >0</td>\n",
              "            </tr>\n",
              "            <tr>\n",
              "                        <th id=\"T_1b2192c6_45af_11ec_8172_0242ac1c0002level0_row7\" class=\"row_heading level0 row7\" >Normal Nucleoli</th>\n",
              "                        <td id=\"T_1b2192c6_45af_11ec_8172_0242ac1c0002row7_col0\" class=\"data row7 col0\" >0</td>\n",
              "            </tr>\n",
              "            <tr>\n",
              "                        <th id=\"T_1b2192c6_45af_11ec_8172_0242ac1c0002level0_row8\" class=\"row_heading level0 row8\" >Mitoses</th>\n",
              "                        <td id=\"T_1b2192c6_45af_11ec_8172_0242ac1c0002row8_col0\" class=\"data row8 col0\" >0</td>\n",
              "            </tr>\n",
              "            <tr>\n",
              "                        <th id=\"T_1b2192c6_45af_11ec_8172_0242ac1c0002level0_row9\" class=\"row_heading level0 row9\" >Class</th>\n",
              "                        <td id=\"T_1b2192c6_45af_11ec_8172_0242ac1c0002row9_col0\" class=\"data row9 col0\" >0</td>\n",
              "            </tr>\n",
              "    </tbody></table>"
            ],
            "text/plain": [
              "<pandas.io.formats.style.Styler at 0x7f5895a51310>"
            ]
          },
          "metadata": {},
          "execution_count": 16
        }
      ]
    },
    {
      "cell_type": "code",
      "metadata": {
        "colab": {
          "base_uri": "https://localhost:8080/",
          "height": 355
        },
        "id": "Lk3WFM_xf3an",
        "outputId": "d7be5b82-1042-47c2-b4a2-1d0e089ec14d"
      },
      "source": [
        "# w rozkladzie procentowym\n",
        "temp[\"procent_brakow\"]=(temp[\"Count\"]/len(data))*100\n",
        "temp['procent_brakow'].to_frame().style.set_properties(subset=['procent_brakow'], **{'width': '1000px'})\n"
      ],
      "execution_count": 17,
      "outputs": [
        {
          "output_type": "execute_result",
          "data": {
            "text/html": [
              "<style  type=\"text/css\" >\n",
              "#T_1b25dfc0_45af_11ec_8172_0242ac1c0002row0_col0,#T_1b25dfc0_45af_11ec_8172_0242ac1c0002row1_col0,#T_1b25dfc0_45af_11ec_8172_0242ac1c0002row2_col0,#T_1b25dfc0_45af_11ec_8172_0242ac1c0002row3_col0,#T_1b25dfc0_45af_11ec_8172_0242ac1c0002row4_col0,#T_1b25dfc0_45af_11ec_8172_0242ac1c0002row5_col0,#T_1b25dfc0_45af_11ec_8172_0242ac1c0002row6_col0,#T_1b25dfc0_45af_11ec_8172_0242ac1c0002row7_col0,#T_1b25dfc0_45af_11ec_8172_0242ac1c0002row8_col0,#T_1b25dfc0_45af_11ec_8172_0242ac1c0002row9_col0{\n",
              "            width:  1000px;\n",
              "        }</style><table id=\"T_1b25dfc0_45af_11ec_8172_0242ac1c0002\" class=\"dataframe\"><thead>    <tr>        <th class=\"blank level0\" ></th>        <th class=\"col_heading level0 col0\" >procent_brakow</th>    </tr></thead><tbody>\n",
              "                <tr>\n",
              "                        <th id=\"T_1b25dfc0_45af_11ec_8172_0242ac1c0002level0_row0\" class=\"row_heading level0 row0\" >Clump Thickness</th>\n",
              "                        <td id=\"T_1b25dfc0_45af_11ec_8172_0242ac1c0002row0_col0\" class=\"data row0 col0\" >0.000000</td>\n",
              "            </tr>\n",
              "            <tr>\n",
              "                        <th id=\"T_1b25dfc0_45af_11ec_8172_0242ac1c0002level0_row1\" class=\"row_heading level0 row1\" >Uniformity of Cell Size</th>\n",
              "                        <td id=\"T_1b25dfc0_45af_11ec_8172_0242ac1c0002row1_col0\" class=\"data row1 col0\" >0.000000</td>\n",
              "            </tr>\n",
              "            <tr>\n",
              "                        <th id=\"T_1b25dfc0_45af_11ec_8172_0242ac1c0002level0_row2\" class=\"row_heading level0 row2\" >Uniformity of Cell Shape</th>\n",
              "                        <td id=\"T_1b25dfc0_45af_11ec_8172_0242ac1c0002row2_col0\" class=\"data row2 col0\" >0.000000</td>\n",
              "            </tr>\n",
              "            <tr>\n",
              "                        <th id=\"T_1b25dfc0_45af_11ec_8172_0242ac1c0002level0_row3\" class=\"row_heading level0 row3\" >Marginal Adhesion</th>\n",
              "                        <td id=\"T_1b25dfc0_45af_11ec_8172_0242ac1c0002row3_col0\" class=\"data row3 col0\" >0.000000</td>\n",
              "            </tr>\n",
              "            <tr>\n",
              "                        <th id=\"T_1b25dfc0_45af_11ec_8172_0242ac1c0002level0_row4\" class=\"row_heading level0 row4\" >Single Epithelial Cell Size</th>\n",
              "                        <td id=\"T_1b25dfc0_45af_11ec_8172_0242ac1c0002row4_col0\" class=\"data row4 col0\" >0.000000</td>\n",
              "            </tr>\n",
              "            <tr>\n",
              "                        <th id=\"T_1b25dfc0_45af_11ec_8172_0242ac1c0002level0_row5\" class=\"row_heading level0 row5\" >Bare Nuclei</th>\n",
              "                        <td id=\"T_1b25dfc0_45af_11ec_8172_0242ac1c0002row5_col0\" class=\"data row5 col0\" >2.288984</td>\n",
              "            </tr>\n",
              "            <tr>\n",
              "                        <th id=\"T_1b25dfc0_45af_11ec_8172_0242ac1c0002level0_row6\" class=\"row_heading level0 row6\" >Bland Chromatin</th>\n",
              "                        <td id=\"T_1b25dfc0_45af_11ec_8172_0242ac1c0002row6_col0\" class=\"data row6 col0\" >0.000000</td>\n",
              "            </tr>\n",
              "            <tr>\n",
              "                        <th id=\"T_1b25dfc0_45af_11ec_8172_0242ac1c0002level0_row7\" class=\"row_heading level0 row7\" >Normal Nucleoli</th>\n",
              "                        <td id=\"T_1b25dfc0_45af_11ec_8172_0242ac1c0002row7_col0\" class=\"data row7 col0\" >0.000000</td>\n",
              "            </tr>\n",
              "            <tr>\n",
              "                        <th id=\"T_1b25dfc0_45af_11ec_8172_0242ac1c0002level0_row8\" class=\"row_heading level0 row8\" >Mitoses</th>\n",
              "                        <td id=\"T_1b25dfc0_45af_11ec_8172_0242ac1c0002row8_col0\" class=\"data row8 col0\" >0.000000</td>\n",
              "            </tr>\n",
              "            <tr>\n",
              "                        <th id=\"T_1b25dfc0_45af_11ec_8172_0242ac1c0002level0_row9\" class=\"row_heading level0 row9\" >Class</th>\n",
              "                        <td id=\"T_1b25dfc0_45af_11ec_8172_0242ac1c0002row9_col0\" class=\"data row9 col0\" >0.000000</td>\n",
              "            </tr>\n",
              "    </tbody></table>"
            ],
            "text/plain": [
              "<pandas.io.formats.style.Styler at 0x7f58951943d0>"
            ]
          },
          "metadata": {},
          "execution_count": 17
        }
      ]
    },
    {
      "cell_type": "markdown",
      "metadata": {
        "id": "WotUI0qokVYu"
      },
      "source": [
        "# Uzupełnianie braków\n",
        "Uzupełnianie braków w kolumnach wg określonej strategii:\n",
        "- mean - uzupełnianie braków za pomocą średniej, stosuje się tylko dla danych ilościowych\n",
        "- mode - uzupełnianie braków za pomocą mody, raczej dla wartości dyskretnych, można stosować dla danych kategorycznych\n",
        "- 0 - uzupełnianie braków za pomocą 0, stosuje się w przypadku, gdzie wartość 0 ma jasną interpretację.\n",
        "- specific value - uzywamy w przypadku gdy chcemy użyć jakieś customowej wartości, np 33 lub dwa, ważne żeby wartość była tego samego typu co uzupełniania kolumna.\n",
        "- next_row, previous_row\n",
        "  "
      ]
    },
    {
      "cell_type": "code",
      "metadata": {
        "id": "bzKceNJ3kTPa"
      },
      "source": [
        "# df.fillna(method=\"backfill\", inplace=True) # previous row\n",
        "# df.fillna(method=\"ffill\", inplace=True) #next row\n",
        "# df.fillna(0, inplace=True) #fill by 0\n",
        "# df.fillna(spefic_value, inplace=True) specific_value\n",
        "# df.fillna(df.mean(), inplace=True) mean\n",
        "# df.fillna(df.mode(dropna=True), inplace=True)\n",
        "# df.interpolate()\n"
      ],
      "execution_count": 18,
      "outputs": []
    },
    {
      "cell_type": "markdown",
      "metadata": {
        "id": "-dHKsyTylxR_"
      },
      "source": [
        "W naszym datasecie nie ma brakow danych, wiec stworzmy na szybko spreparowany dataset, by pokazac mozliwosci uzupelniania brakow"
      ]
    },
    {
      "cell_type": "code",
      "metadata": {
        "colab": {
          "base_uri": "https://localhost:8080/",
          "height": 232
        },
        "id": "2HxBWG04l9dN",
        "outputId": "ecea9c8b-e290-4ea1-a897-d56d566c426d"
      },
      "source": [
        "ratings = [['Jan',5,np.NaN,2,1],['Maria',np.NaN,5,3,2],['Robert',4,4,np.NaN,3],['Ela',2,np.NaN,np.NaN,5],['Stanisław',1,2,3,4],['Adam',2,1,5,np.NaN]]\n",
        "titles = ['kinoman','Szczęki','Star Wars','Egzorcysta','Omen']\n",
        "movies = pd.DataFrame(ratings,columns=titles)\n",
        "movies"
      ],
      "execution_count": 19,
      "outputs": [
        {
          "output_type": "execute_result",
          "data": {
            "text/html": [
              "<div>\n",
              "<style scoped>\n",
              "    .dataframe tbody tr th:only-of-type {\n",
              "        vertical-align: middle;\n",
              "    }\n",
              "\n",
              "    .dataframe tbody tr th {\n",
              "        vertical-align: top;\n",
              "    }\n",
              "\n",
              "    .dataframe thead th {\n",
              "        text-align: right;\n",
              "    }\n",
              "</style>\n",
              "<table border=\"1\" class=\"dataframe\">\n",
              "  <thead>\n",
              "    <tr style=\"text-align: right;\">\n",
              "      <th></th>\n",
              "      <th>kinoman</th>\n",
              "      <th>Szczęki</th>\n",
              "      <th>Star Wars</th>\n",
              "      <th>Egzorcysta</th>\n",
              "      <th>Omen</th>\n",
              "    </tr>\n",
              "  </thead>\n",
              "  <tbody>\n",
              "    <tr>\n",
              "      <th>0</th>\n",
              "      <td>Jan</td>\n",
              "      <td>5.0</td>\n",
              "      <td>NaN</td>\n",
              "      <td>2.0</td>\n",
              "      <td>1.0</td>\n",
              "    </tr>\n",
              "    <tr>\n",
              "      <th>1</th>\n",
              "      <td>Maria</td>\n",
              "      <td>NaN</td>\n",
              "      <td>5.0</td>\n",
              "      <td>3.0</td>\n",
              "      <td>2.0</td>\n",
              "    </tr>\n",
              "    <tr>\n",
              "      <th>2</th>\n",
              "      <td>Robert</td>\n",
              "      <td>4.0</td>\n",
              "      <td>4.0</td>\n",
              "      <td>NaN</td>\n",
              "      <td>3.0</td>\n",
              "    </tr>\n",
              "    <tr>\n",
              "      <th>3</th>\n",
              "      <td>Ela</td>\n",
              "      <td>2.0</td>\n",
              "      <td>NaN</td>\n",
              "      <td>NaN</td>\n",
              "      <td>5.0</td>\n",
              "    </tr>\n",
              "    <tr>\n",
              "      <th>4</th>\n",
              "      <td>Stanisław</td>\n",
              "      <td>1.0</td>\n",
              "      <td>2.0</td>\n",
              "      <td>3.0</td>\n",
              "      <td>4.0</td>\n",
              "    </tr>\n",
              "    <tr>\n",
              "      <th>5</th>\n",
              "      <td>Adam</td>\n",
              "      <td>2.0</td>\n",
              "      <td>1.0</td>\n",
              "      <td>5.0</td>\n",
              "      <td>NaN</td>\n",
              "    </tr>\n",
              "  </tbody>\n",
              "</table>\n",
              "</div>"
            ],
            "text/plain": [
              "     kinoman  Szczęki  Star Wars  Egzorcysta  Omen\n",
              "0        Jan      5.0        NaN         2.0   1.0\n",
              "1      Maria      NaN        5.0         3.0   2.0\n",
              "2     Robert      4.0        4.0         NaN   3.0\n",
              "3        Ela      2.0        NaN         NaN   5.0\n",
              "4  Stanisław      1.0        2.0         3.0   4.0\n",
              "5       Adam      2.0        1.0         5.0   NaN"
            ]
          },
          "metadata": {},
          "execution_count": 19
        }
      ]
    },
    {
      "cell_type": "code",
      "metadata": {
        "colab": {
          "base_uri": "https://localhost:8080/",
          "height": 232
        },
        "id": "gGWoTsYInVqT",
        "outputId": "b0be2e77-0485-47ef-c9ef-1f9afe3761de"
      },
      "source": [
        "movies.fillna(method=\"backfill\")\n"
      ],
      "execution_count": 20,
      "outputs": [
        {
          "output_type": "execute_result",
          "data": {
            "text/html": [
              "<div>\n",
              "<style scoped>\n",
              "    .dataframe tbody tr th:only-of-type {\n",
              "        vertical-align: middle;\n",
              "    }\n",
              "\n",
              "    .dataframe tbody tr th {\n",
              "        vertical-align: top;\n",
              "    }\n",
              "\n",
              "    .dataframe thead th {\n",
              "        text-align: right;\n",
              "    }\n",
              "</style>\n",
              "<table border=\"1\" class=\"dataframe\">\n",
              "  <thead>\n",
              "    <tr style=\"text-align: right;\">\n",
              "      <th></th>\n",
              "      <th>kinoman</th>\n",
              "      <th>Szczęki</th>\n",
              "      <th>Star Wars</th>\n",
              "      <th>Egzorcysta</th>\n",
              "      <th>Omen</th>\n",
              "    </tr>\n",
              "  </thead>\n",
              "  <tbody>\n",
              "    <tr>\n",
              "      <th>0</th>\n",
              "      <td>Jan</td>\n",
              "      <td>5.0</td>\n",
              "      <td>5.0</td>\n",
              "      <td>2.0</td>\n",
              "      <td>1.0</td>\n",
              "    </tr>\n",
              "    <tr>\n",
              "      <th>1</th>\n",
              "      <td>Maria</td>\n",
              "      <td>4.0</td>\n",
              "      <td>5.0</td>\n",
              "      <td>3.0</td>\n",
              "      <td>2.0</td>\n",
              "    </tr>\n",
              "    <tr>\n",
              "      <th>2</th>\n",
              "      <td>Robert</td>\n",
              "      <td>4.0</td>\n",
              "      <td>4.0</td>\n",
              "      <td>3.0</td>\n",
              "      <td>3.0</td>\n",
              "    </tr>\n",
              "    <tr>\n",
              "      <th>3</th>\n",
              "      <td>Ela</td>\n",
              "      <td>2.0</td>\n",
              "      <td>2.0</td>\n",
              "      <td>3.0</td>\n",
              "      <td>5.0</td>\n",
              "    </tr>\n",
              "    <tr>\n",
              "      <th>4</th>\n",
              "      <td>Stanisław</td>\n",
              "      <td>1.0</td>\n",
              "      <td>2.0</td>\n",
              "      <td>3.0</td>\n",
              "      <td>4.0</td>\n",
              "    </tr>\n",
              "    <tr>\n",
              "      <th>5</th>\n",
              "      <td>Adam</td>\n",
              "      <td>2.0</td>\n",
              "      <td>1.0</td>\n",
              "      <td>5.0</td>\n",
              "      <td>NaN</td>\n",
              "    </tr>\n",
              "  </tbody>\n",
              "</table>\n",
              "</div>"
            ],
            "text/plain": [
              "     kinoman  Szczęki  Star Wars  Egzorcysta  Omen\n",
              "0        Jan      5.0        5.0         2.0   1.0\n",
              "1      Maria      4.0        5.0         3.0   2.0\n",
              "2     Robert      4.0        4.0         3.0   3.0\n",
              "3        Ela      2.0        2.0         3.0   5.0\n",
              "4  Stanisław      1.0        2.0         3.0   4.0\n",
              "5       Adam      2.0        1.0         5.0   NaN"
            ]
          },
          "metadata": {},
          "execution_count": 20
        }
      ]
    },
    {
      "cell_type": "code",
      "metadata": {
        "colab": {
          "base_uri": "https://localhost:8080/",
          "height": 232
        },
        "id": "nX6-rM3wne1T",
        "outputId": "0114bac5-03c9-45d0-c1cf-f1abe157643b"
      },
      "source": [
        "movies.fillna(method=\"ffill\")\n"
      ],
      "execution_count": 21,
      "outputs": [
        {
          "output_type": "execute_result",
          "data": {
            "text/html": [
              "<div>\n",
              "<style scoped>\n",
              "    .dataframe tbody tr th:only-of-type {\n",
              "        vertical-align: middle;\n",
              "    }\n",
              "\n",
              "    .dataframe tbody tr th {\n",
              "        vertical-align: top;\n",
              "    }\n",
              "\n",
              "    .dataframe thead th {\n",
              "        text-align: right;\n",
              "    }\n",
              "</style>\n",
              "<table border=\"1\" class=\"dataframe\">\n",
              "  <thead>\n",
              "    <tr style=\"text-align: right;\">\n",
              "      <th></th>\n",
              "      <th>kinoman</th>\n",
              "      <th>Szczęki</th>\n",
              "      <th>Star Wars</th>\n",
              "      <th>Egzorcysta</th>\n",
              "      <th>Omen</th>\n",
              "    </tr>\n",
              "  </thead>\n",
              "  <tbody>\n",
              "    <tr>\n",
              "      <th>0</th>\n",
              "      <td>Jan</td>\n",
              "      <td>5.0</td>\n",
              "      <td>NaN</td>\n",
              "      <td>2.0</td>\n",
              "      <td>1.0</td>\n",
              "    </tr>\n",
              "    <tr>\n",
              "      <th>1</th>\n",
              "      <td>Maria</td>\n",
              "      <td>5.0</td>\n",
              "      <td>5.0</td>\n",
              "      <td>3.0</td>\n",
              "      <td>2.0</td>\n",
              "    </tr>\n",
              "    <tr>\n",
              "      <th>2</th>\n",
              "      <td>Robert</td>\n",
              "      <td>4.0</td>\n",
              "      <td>4.0</td>\n",
              "      <td>3.0</td>\n",
              "      <td>3.0</td>\n",
              "    </tr>\n",
              "    <tr>\n",
              "      <th>3</th>\n",
              "      <td>Ela</td>\n",
              "      <td>2.0</td>\n",
              "      <td>4.0</td>\n",
              "      <td>3.0</td>\n",
              "      <td>5.0</td>\n",
              "    </tr>\n",
              "    <tr>\n",
              "      <th>4</th>\n",
              "      <td>Stanisław</td>\n",
              "      <td>1.0</td>\n",
              "      <td>2.0</td>\n",
              "      <td>3.0</td>\n",
              "      <td>4.0</td>\n",
              "    </tr>\n",
              "    <tr>\n",
              "      <th>5</th>\n",
              "      <td>Adam</td>\n",
              "      <td>2.0</td>\n",
              "      <td>1.0</td>\n",
              "      <td>5.0</td>\n",
              "      <td>4.0</td>\n",
              "    </tr>\n",
              "  </tbody>\n",
              "</table>\n",
              "</div>"
            ],
            "text/plain": [
              "     kinoman  Szczęki  Star Wars  Egzorcysta  Omen\n",
              "0        Jan      5.0        NaN         2.0   1.0\n",
              "1      Maria      5.0        5.0         3.0   2.0\n",
              "2     Robert      4.0        4.0         3.0   3.0\n",
              "3        Ela      2.0        4.0         3.0   5.0\n",
              "4  Stanisław      1.0        2.0         3.0   4.0\n",
              "5       Adam      2.0        1.0         5.0   4.0"
            ]
          },
          "metadata": {},
          "execution_count": 21
        }
      ]
    },
    {
      "cell_type": "code",
      "metadata": {
        "colab": {
          "base_uri": "https://localhost:8080/",
          "height": 232
        },
        "id": "wcjHp0rFn3xY",
        "outputId": "ef5d3d8f-9c4f-485c-ead5-a69dec0b1f1d"
      },
      "source": [
        "movies.fillna(0) "
      ],
      "execution_count": 22,
      "outputs": [
        {
          "output_type": "execute_result",
          "data": {
            "text/html": [
              "<div>\n",
              "<style scoped>\n",
              "    .dataframe tbody tr th:only-of-type {\n",
              "        vertical-align: middle;\n",
              "    }\n",
              "\n",
              "    .dataframe tbody tr th {\n",
              "        vertical-align: top;\n",
              "    }\n",
              "\n",
              "    .dataframe thead th {\n",
              "        text-align: right;\n",
              "    }\n",
              "</style>\n",
              "<table border=\"1\" class=\"dataframe\">\n",
              "  <thead>\n",
              "    <tr style=\"text-align: right;\">\n",
              "      <th></th>\n",
              "      <th>kinoman</th>\n",
              "      <th>Szczęki</th>\n",
              "      <th>Star Wars</th>\n",
              "      <th>Egzorcysta</th>\n",
              "      <th>Omen</th>\n",
              "    </tr>\n",
              "  </thead>\n",
              "  <tbody>\n",
              "    <tr>\n",
              "      <th>0</th>\n",
              "      <td>Jan</td>\n",
              "      <td>5.0</td>\n",
              "      <td>0.0</td>\n",
              "      <td>2.0</td>\n",
              "      <td>1.0</td>\n",
              "    </tr>\n",
              "    <tr>\n",
              "      <th>1</th>\n",
              "      <td>Maria</td>\n",
              "      <td>0.0</td>\n",
              "      <td>5.0</td>\n",
              "      <td>3.0</td>\n",
              "      <td>2.0</td>\n",
              "    </tr>\n",
              "    <tr>\n",
              "      <th>2</th>\n",
              "      <td>Robert</td>\n",
              "      <td>4.0</td>\n",
              "      <td>4.0</td>\n",
              "      <td>0.0</td>\n",
              "      <td>3.0</td>\n",
              "    </tr>\n",
              "    <tr>\n",
              "      <th>3</th>\n",
              "      <td>Ela</td>\n",
              "      <td>2.0</td>\n",
              "      <td>0.0</td>\n",
              "      <td>0.0</td>\n",
              "      <td>5.0</td>\n",
              "    </tr>\n",
              "    <tr>\n",
              "      <th>4</th>\n",
              "      <td>Stanisław</td>\n",
              "      <td>1.0</td>\n",
              "      <td>2.0</td>\n",
              "      <td>3.0</td>\n",
              "      <td>4.0</td>\n",
              "    </tr>\n",
              "    <tr>\n",
              "      <th>5</th>\n",
              "      <td>Adam</td>\n",
              "      <td>2.0</td>\n",
              "      <td>1.0</td>\n",
              "      <td>5.0</td>\n",
              "      <td>0.0</td>\n",
              "    </tr>\n",
              "  </tbody>\n",
              "</table>\n",
              "</div>"
            ],
            "text/plain": [
              "     kinoman  Szczęki  Star Wars  Egzorcysta  Omen\n",
              "0        Jan      5.0        0.0         2.0   1.0\n",
              "1      Maria      0.0        5.0         3.0   2.0\n",
              "2     Robert      4.0        4.0         0.0   3.0\n",
              "3        Ela      2.0        0.0         0.0   5.0\n",
              "4  Stanisław      1.0        2.0         3.0   4.0\n",
              "5       Adam      2.0        1.0         5.0   0.0"
            ]
          },
          "metadata": {},
          "execution_count": 22
        }
      ]
    },
    {
      "cell_type": "code",
      "metadata": {
        "colab": {
          "base_uri": "https://localhost:8080/",
          "height": 232
        },
        "id": "4O7ahkk_oEt3",
        "outputId": "d8e34516-d6cb-4c79-87be-c4552b98b2c4"
      },
      "source": [
        "movies.fillna(-1) "
      ],
      "execution_count": 23,
      "outputs": [
        {
          "output_type": "execute_result",
          "data": {
            "text/html": [
              "<div>\n",
              "<style scoped>\n",
              "    .dataframe tbody tr th:only-of-type {\n",
              "        vertical-align: middle;\n",
              "    }\n",
              "\n",
              "    .dataframe tbody tr th {\n",
              "        vertical-align: top;\n",
              "    }\n",
              "\n",
              "    .dataframe thead th {\n",
              "        text-align: right;\n",
              "    }\n",
              "</style>\n",
              "<table border=\"1\" class=\"dataframe\">\n",
              "  <thead>\n",
              "    <tr style=\"text-align: right;\">\n",
              "      <th></th>\n",
              "      <th>kinoman</th>\n",
              "      <th>Szczęki</th>\n",
              "      <th>Star Wars</th>\n",
              "      <th>Egzorcysta</th>\n",
              "      <th>Omen</th>\n",
              "    </tr>\n",
              "  </thead>\n",
              "  <tbody>\n",
              "    <tr>\n",
              "      <th>0</th>\n",
              "      <td>Jan</td>\n",
              "      <td>5.0</td>\n",
              "      <td>-1.0</td>\n",
              "      <td>2.0</td>\n",
              "      <td>1.0</td>\n",
              "    </tr>\n",
              "    <tr>\n",
              "      <th>1</th>\n",
              "      <td>Maria</td>\n",
              "      <td>-1.0</td>\n",
              "      <td>5.0</td>\n",
              "      <td>3.0</td>\n",
              "      <td>2.0</td>\n",
              "    </tr>\n",
              "    <tr>\n",
              "      <th>2</th>\n",
              "      <td>Robert</td>\n",
              "      <td>4.0</td>\n",
              "      <td>4.0</td>\n",
              "      <td>-1.0</td>\n",
              "      <td>3.0</td>\n",
              "    </tr>\n",
              "    <tr>\n",
              "      <th>3</th>\n",
              "      <td>Ela</td>\n",
              "      <td>2.0</td>\n",
              "      <td>-1.0</td>\n",
              "      <td>-1.0</td>\n",
              "      <td>5.0</td>\n",
              "    </tr>\n",
              "    <tr>\n",
              "      <th>4</th>\n",
              "      <td>Stanisław</td>\n",
              "      <td>1.0</td>\n",
              "      <td>2.0</td>\n",
              "      <td>3.0</td>\n",
              "      <td>4.0</td>\n",
              "    </tr>\n",
              "    <tr>\n",
              "      <th>5</th>\n",
              "      <td>Adam</td>\n",
              "      <td>2.0</td>\n",
              "      <td>1.0</td>\n",
              "      <td>5.0</td>\n",
              "      <td>-1.0</td>\n",
              "    </tr>\n",
              "  </tbody>\n",
              "</table>\n",
              "</div>"
            ],
            "text/plain": [
              "     kinoman  Szczęki  Star Wars  Egzorcysta  Omen\n",
              "0        Jan      5.0       -1.0         2.0   1.0\n",
              "1      Maria     -1.0        5.0         3.0   2.0\n",
              "2     Robert      4.0        4.0        -1.0   3.0\n",
              "3        Ela      2.0       -1.0        -1.0   5.0\n",
              "4  Stanisław      1.0        2.0         3.0   4.0\n",
              "5       Adam      2.0        1.0         5.0  -1.0"
            ]
          },
          "metadata": {},
          "execution_count": 23
        }
      ]
    },
    {
      "cell_type": "code",
      "metadata": {
        "colab": {
          "base_uri": "https://localhost:8080/",
          "height": 232
        },
        "id": "GkGbcbEJobli",
        "outputId": "c332e392-ad71-460a-c8b0-3ee94bdcd342"
      },
      "source": [
        "movies.fillna(movies.mean()) #mean"
      ],
      "execution_count": 24,
      "outputs": [
        {
          "output_type": "execute_result",
          "data": {
            "text/html": [
              "<div>\n",
              "<style scoped>\n",
              "    .dataframe tbody tr th:only-of-type {\n",
              "        vertical-align: middle;\n",
              "    }\n",
              "\n",
              "    .dataframe tbody tr th {\n",
              "        vertical-align: top;\n",
              "    }\n",
              "\n",
              "    .dataframe thead th {\n",
              "        text-align: right;\n",
              "    }\n",
              "</style>\n",
              "<table border=\"1\" class=\"dataframe\">\n",
              "  <thead>\n",
              "    <tr style=\"text-align: right;\">\n",
              "      <th></th>\n",
              "      <th>kinoman</th>\n",
              "      <th>Szczęki</th>\n",
              "      <th>Star Wars</th>\n",
              "      <th>Egzorcysta</th>\n",
              "      <th>Omen</th>\n",
              "    </tr>\n",
              "  </thead>\n",
              "  <tbody>\n",
              "    <tr>\n",
              "      <th>0</th>\n",
              "      <td>Jan</td>\n",
              "      <td>5.0</td>\n",
              "      <td>3.0</td>\n",
              "      <td>2.00</td>\n",
              "      <td>1.0</td>\n",
              "    </tr>\n",
              "    <tr>\n",
              "      <th>1</th>\n",
              "      <td>Maria</td>\n",
              "      <td>2.8</td>\n",
              "      <td>5.0</td>\n",
              "      <td>3.00</td>\n",
              "      <td>2.0</td>\n",
              "    </tr>\n",
              "    <tr>\n",
              "      <th>2</th>\n",
              "      <td>Robert</td>\n",
              "      <td>4.0</td>\n",
              "      <td>4.0</td>\n",
              "      <td>3.25</td>\n",
              "      <td>3.0</td>\n",
              "    </tr>\n",
              "    <tr>\n",
              "      <th>3</th>\n",
              "      <td>Ela</td>\n",
              "      <td>2.0</td>\n",
              "      <td>3.0</td>\n",
              "      <td>3.25</td>\n",
              "      <td>5.0</td>\n",
              "    </tr>\n",
              "    <tr>\n",
              "      <th>4</th>\n",
              "      <td>Stanisław</td>\n",
              "      <td>1.0</td>\n",
              "      <td>2.0</td>\n",
              "      <td>3.00</td>\n",
              "      <td>4.0</td>\n",
              "    </tr>\n",
              "    <tr>\n",
              "      <th>5</th>\n",
              "      <td>Adam</td>\n",
              "      <td>2.0</td>\n",
              "      <td>1.0</td>\n",
              "      <td>5.00</td>\n",
              "      <td>3.0</td>\n",
              "    </tr>\n",
              "  </tbody>\n",
              "</table>\n",
              "</div>"
            ],
            "text/plain": [
              "     kinoman  Szczęki  Star Wars  Egzorcysta  Omen\n",
              "0        Jan      5.0        3.0        2.00   1.0\n",
              "1      Maria      2.8        5.0        3.00   2.0\n",
              "2     Robert      4.0        4.0        3.25   3.0\n",
              "3        Ela      2.0        3.0        3.25   5.0\n",
              "4  Stanisław      1.0        2.0        3.00   4.0\n",
              "5       Adam      2.0        1.0        5.00   3.0"
            ]
          },
          "metadata": {},
          "execution_count": 24
        }
      ]
    },
    {
      "cell_type": "code",
      "metadata": {
        "colab": {
          "base_uri": "https://localhost:8080/",
          "height": 232
        },
        "id": "YcFn2v5kosIi",
        "outputId": "4f965f57-6ca7-46e3-edf9-30078c0a7960"
      },
      "source": [
        "movies"
      ],
      "execution_count": 25,
      "outputs": [
        {
          "output_type": "execute_result",
          "data": {
            "text/html": [
              "<div>\n",
              "<style scoped>\n",
              "    .dataframe tbody tr th:only-of-type {\n",
              "        vertical-align: middle;\n",
              "    }\n",
              "\n",
              "    .dataframe tbody tr th {\n",
              "        vertical-align: top;\n",
              "    }\n",
              "\n",
              "    .dataframe thead th {\n",
              "        text-align: right;\n",
              "    }\n",
              "</style>\n",
              "<table border=\"1\" class=\"dataframe\">\n",
              "  <thead>\n",
              "    <tr style=\"text-align: right;\">\n",
              "      <th></th>\n",
              "      <th>kinoman</th>\n",
              "      <th>Szczęki</th>\n",
              "      <th>Star Wars</th>\n",
              "      <th>Egzorcysta</th>\n",
              "      <th>Omen</th>\n",
              "    </tr>\n",
              "  </thead>\n",
              "  <tbody>\n",
              "    <tr>\n",
              "      <th>0</th>\n",
              "      <td>Jan</td>\n",
              "      <td>5.0</td>\n",
              "      <td>NaN</td>\n",
              "      <td>2.0</td>\n",
              "      <td>1.0</td>\n",
              "    </tr>\n",
              "    <tr>\n",
              "      <th>1</th>\n",
              "      <td>Maria</td>\n",
              "      <td>NaN</td>\n",
              "      <td>5.0</td>\n",
              "      <td>3.0</td>\n",
              "      <td>2.0</td>\n",
              "    </tr>\n",
              "    <tr>\n",
              "      <th>2</th>\n",
              "      <td>Robert</td>\n",
              "      <td>4.0</td>\n",
              "      <td>4.0</td>\n",
              "      <td>NaN</td>\n",
              "      <td>3.0</td>\n",
              "    </tr>\n",
              "    <tr>\n",
              "      <th>3</th>\n",
              "      <td>Ela</td>\n",
              "      <td>2.0</td>\n",
              "      <td>NaN</td>\n",
              "      <td>NaN</td>\n",
              "      <td>5.0</td>\n",
              "    </tr>\n",
              "    <tr>\n",
              "      <th>4</th>\n",
              "      <td>Stanisław</td>\n",
              "      <td>1.0</td>\n",
              "      <td>2.0</td>\n",
              "      <td>3.0</td>\n",
              "      <td>4.0</td>\n",
              "    </tr>\n",
              "    <tr>\n",
              "      <th>5</th>\n",
              "      <td>Adam</td>\n",
              "      <td>2.0</td>\n",
              "      <td>1.0</td>\n",
              "      <td>5.0</td>\n",
              "      <td>NaN</td>\n",
              "    </tr>\n",
              "  </tbody>\n",
              "</table>\n",
              "</div>"
            ],
            "text/plain": [
              "     kinoman  Szczęki  Star Wars  Egzorcysta  Omen\n",
              "0        Jan      5.0        NaN         2.0   1.0\n",
              "1      Maria      NaN        5.0         3.0   2.0\n",
              "2     Robert      4.0        4.0         NaN   3.0\n",
              "3        Ela      2.0        NaN         NaN   5.0\n",
              "4  Stanisław      1.0        2.0         3.0   4.0\n",
              "5       Adam      2.0        1.0         5.0   NaN"
            ]
          },
          "metadata": {},
          "execution_count": 25
        }
      ]
    },
    {
      "cell_type": "code",
      "metadata": {
        "colab": {
          "base_uri": "https://localhost:8080/",
          "height": 232
        },
        "id": "1hG2AGObq1YL",
        "outputId": "905b8665-8882-407d-ed92-a44c54371563"
      },
      "source": [
        "movies.interpolate()"
      ],
      "execution_count": 26,
      "outputs": [
        {
          "output_type": "execute_result",
          "data": {
            "text/html": [
              "<div>\n",
              "<style scoped>\n",
              "    .dataframe tbody tr th:only-of-type {\n",
              "        vertical-align: middle;\n",
              "    }\n",
              "\n",
              "    .dataframe tbody tr th {\n",
              "        vertical-align: top;\n",
              "    }\n",
              "\n",
              "    .dataframe thead th {\n",
              "        text-align: right;\n",
              "    }\n",
              "</style>\n",
              "<table border=\"1\" class=\"dataframe\">\n",
              "  <thead>\n",
              "    <tr style=\"text-align: right;\">\n",
              "      <th></th>\n",
              "      <th>kinoman</th>\n",
              "      <th>Szczęki</th>\n",
              "      <th>Star Wars</th>\n",
              "      <th>Egzorcysta</th>\n",
              "      <th>Omen</th>\n",
              "    </tr>\n",
              "  </thead>\n",
              "  <tbody>\n",
              "    <tr>\n",
              "      <th>0</th>\n",
              "      <td>Jan</td>\n",
              "      <td>5.0</td>\n",
              "      <td>NaN</td>\n",
              "      <td>2.0</td>\n",
              "      <td>1.0</td>\n",
              "    </tr>\n",
              "    <tr>\n",
              "      <th>1</th>\n",
              "      <td>Maria</td>\n",
              "      <td>4.5</td>\n",
              "      <td>5.0</td>\n",
              "      <td>3.0</td>\n",
              "      <td>2.0</td>\n",
              "    </tr>\n",
              "    <tr>\n",
              "      <th>2</th>\n",
              "      <td>Robert</td>\n",
              "      <td>4.0</td>\n",
              "      <td>4.0</td>\n",
              "      <td>3.0</td>\n",
              "      <td>3.0</td>\n",
              "    </tr>\n",
              "    <tr>\n",
              "      <th>3</th>\n",
              "      <td>Ela</td>\n",
              "      <td>2.0</td>\n",
              "      <td>3.0</td>\n",
              "      <td>3.0</td>\n",
              "      <td>5.0</td>\n",
              "    </tr>\n",
              "    <tr>\n",
              "      <th>4</th>\n",
              "      <td>Stanisław</td>\n",
              "      <td>1.0</td>\n",
              "      <td>2.0</td>\n",
              "      <td>3.0</td>\n",
              "      <td>4.0</td>\n",
              "    </tr>\n",
              "    <tr>\n",
              "      <th>5</th>\n",
              "      <td>Adam</td>\n",
              "      <td>2.0</td>\n",
              "      <td>1.0</td>\n",
              "      <td>5.0</td>\n",
              "      <td>4.0</td>\n",
              "    </tr>\n",
              "  </tbody>\n",
              "</table>\n",
              "</div>"
            ],
            "text/plain": [
              "     kinoman  Szczęki  Star Wars  Egzorcysta  Omen\n",
              "0        Jan      5.0        NaN         2.0   1.0\n",
              "1      Maria      4.5        5.0         3.0   2.0\n",
              "2     Robert      4.0        4.0         3.0   3.0\n",
              "3        Ela      2.0        3.0         3.0   5.0\n",
              "4  Stanisław      1.0        2.0         3.0   4.0\n",
              "5       Adam      2.0        1.0         5.0   4.0"
            ]
          },
          "metadata": {},
          "execution_count": 26
        }
      ]
    },
    {
      "cell_type": "code",
      "metadata": {
        "colab": {
          "base_uri": "https://localhost:8080/",
          "height": 232
        },
        "id": "YcHeNz3nukme",
        "outputId": "d8afe16b-6279-4d10-c9e8-a14079c52c4e"
      },
      "source": [
        "fill_mode = lambda col: col.fillna(col.mode().iloc[0])\n",
        "movies.apply(fill_mode, axis=0)"
      ],
      "execution_count": 27,
      "outputs": [
        {
          "output_type": "execute_result",
          "data": {
            "text/html": [
              "<div>\n",
              "<style scoped>\n",
              "    .dataframe tbody tr th:only-of-type {\n",
              "        vertical-align: middle;\n",
              "    }\n",
              "\n",
              "    .dataframe tbody tr th {\n",
              "        vertical-align: top;\n",
              "    }\n",
              "\n",
              "    .dataframe thead th {\n",
              "        text-align: right;\n",
              "    }\n",
              "</style>\n",
              "<table border=\"1\" class=\"dataframe\">\n",
              "  <thead>\n",
              "    <tr style=\"text-align: right;\">\n",
              "      <th></th>\n",
              "      <th>kinoman</th>\n",
              "      <th>Szczęki</th>\n",
              "      <th>Star Wars</th>\n",
              "      <th>Egzorcysta</th>\n",
              "      <th>Omen</th>\n",
              "    </tr>\n",
              "  </thead>\n",
              "  <tbody>\n",
              "    <tr>\n",
              "      <th>0</th>\n",
              "      <td>Jan</td>\n",
              "      <td>5.0</td>\n",
              "      <td>1.0</td>\n",
              "      <td>2.0</td>\n",
              "      <td>1.0</td>\n",
              "    </tr>\n",
              "    <tr>\n",
              "      <th>1</th>\n",
              "      <td>Maria</td>\n",
              "      <td>2.0</td>\n",
              "      <td>5.0</td>\n",
              "      <td>3.0</td>\n",
              "      <td>2.0</td>\n",
              "    </tr>\n",
              "    <tr>\n",
              "      <th>2</th>\n",
              "      <td>Robert</td>\n",
              "      <td>4.0</td>\n",
              "      <td>4.0</td>\n",
              "      <td>3.0</td>\n",
              "      <td>3.0</td>\n",
              "    </tr>\n",
              "    <tr>\n",
              "      <th>3</th>\n",
              "      <td>Ela</td>\n",
              "      <td>2.0</td>\n",
              "      <td>1.0</td>\n",
              "      <td>3.0</td>\n",
              "      <td>5.0</td>\n",
              "    </tr>\n",
              "    <tr>\n",
              "      <th>4</th>\n",
              "      <td>Stanisław</td>\n",
              "      <td>1.0</td>\n",
              "      <td>2.0</td>\n",
              "      <td>3.0</td>\n",
              "      <td>4.0</td>\n",
              "    </tr>\n",
              "    <tr>\n",
              "      <th>5</th>\n",
              "      <td>Adam</td>\n",
              "      <td>2.0</td>\n",
              "      <td>1.0</td>\n",
              "      <td>5.0</td>\n",
              "      <td>1.0</td>\n",
              "    </tr>\n",
              "  </tbody>\n",
              "</table>\n",
              "</div>"
            ],
            "text/plain": [
              "     kinoman  Szczęki  Star Wars  Egzorcysta  Omen\n",
              "0        Jan      5.0        1.0         2.0   1.0\n",
              "1      Maria      2.0        5.0         3.0   2.0\n",
              "2     Robert      4.0        4.0         3.0   3.0\n",
              "3        Ela      2.0        1.0         3.0   5.0\n",
              "4  Stanisław      1.0        2.0         3.0   4.0\n",
              "5       Adam      2.0        1.0         5.0   1.0"
            ]
          },
          "metadata": {},
          "execution_count": 27
        }
      ]
    },
    {
      "cell_type": "code",
      "metadata": {
        "id": "bsDa3g2Ao_i8",
        "colab": {
          "base_uri": "https://localhost:8080/"
        },
        "outputId": "8ec68ede-cc90-4e2a-fb6a-0f40a223cc68"
      },
      "source": [
        "#one column\n",
        "num = movies[\"Egzorcysta\"].mode().iloc[0]\n",
        "\n",
        "movies[\"Egzorcysta\"].fillna(num)"
      ],
      "execution_count": 28,
      "outputs": [
        {
          "output_type": "execute_result",
          "data": {
            "text/plain": [
              "0    2.0\n",
              "1    3.0\n",
              "2    3.0\n",
              "3    3.0\n",
              "4    3.0\n",
              "5    5.0\n",
              "Name: Egzorcysta, dtype: float64"
            ]
          },
          "metadata": {},
          "execution_count": 28
        }
      ]
    },
    {
      "cell_type": "markdown",
      "metadata": {
        "id": "B8f4sb9Rw6ET"
      },
      "source": [
        "# Usuwanie kolumn"
      ]
    },
    {
      "cell_type": "code",
      "metadata": {
        "colab": {
          "base_uri": "https://localhost:8080/",
          "height": 232
        },
        "id": "owsgoAAjw5M3",
        "outputId": "cd9913fd-290c-488b-aa3f-859a1651ed80"
      },
      "source": [
        "ratings = [['Jan',5,np.NaN,2,1],['Maria',np.NaN,5,3,2],['Robert',4,4,np.NaN,3],['Ela',2,np.NaN,np.NaN,np.NaN],['Stanisław',1,2,np.NaN,4],['Adam',2,1,5,np.NaN]]\n",
        "titles = ['kinoman','Szczęki','Star Wars','Egzorcysta','Omen']\n",
        "movies2 = pd.DataFrame(ratings,columns=titles)\n",
        "movies2"
      ],
      "execution_count": 29,
      "outputs": [
        {
          "output_type": "execute_result",
          "data": {
            "text/html": [
              "<div>\n",
              "<style scoped>\n",
              "    .dataframe tbody tr th:only-of-type {\n",
              "        vertical-align: middle;\n",
              "    }\n",
              "\n",
              "    .dataframe tbody tr th {\n",
              "        vertical-align: top;\n",
              "    }\n",
              "\n",
              "    .dataframe thead th {\n",
              "        text-align: right;\n",
              "    }\n",
              "</style>\n",
              "<table border=\"1\" class=\"dataframe\">\n",
              "  <thead>\n",
              "    <tr style=\"text-align: right;\">\n",
              "      <th></th>\n",
              "      <th>kinoman</th>\n",
              "      <th>Szczęki</th>\n",
              "      <th>Star Wars</th>\n",
              "      <th>Egzorcysta</th>\n",
              "      <th>Omen</th>\n",
              "    </tr>\n",
              "  </thead>\n",
              "  <tbody>\n",
              "    <tr>\n",
              "      <th>0</th>\n",
              "      <td>Jan</td>\n",
              "      <td>5.0</td>\n",
              "      <td>NaN</td>\n",
              "      <td>2.0</td>\n",
              "      <td>1.0</td>\n",
              "    </tr>\n",
              "    <tr>\n",
              "      <th>1</th>\n",
              "      <td>Maria</td>\n",
              "      <td>NaN</td>\n",
              "      <td>5.0</td>\n",
              "      <td>3.0</td>\n",
              "      <td>2.0</td>\n",
              "    </tr>\n",
              "    <tr>\n",
              "      <th>2</th>\n",
              "      <td>Robert</td>\n",
              "      <td>4.0</td>\n",
              "      <td>4.0</td>\n",
              "      <td>NaN</td>\n",
              "      <td>3.0</td>\n",
              "    </tr>\n",
              "    <tr>\n",
              "      <th>3</th>\n",
              "      <td>Ela</td>\n",
              "      <td>2.0</td>\n",
              "      <td>NaN</td>\n",
              "      <td>NaN</td>\n",
              "      <td>NaN</td>\n",
              "    </tr>\n",
              "    <tr>\n",
              "      <th>4</th>\n",
              "      <td>Stanisław</td>\n",
              "      <td>1.0</td>\n",
              "      <td>2.0</td>\n",
              "      <td>NaN</td>\n",
              "      <td>4.0</td>\n",
              "    </tr>\n",
              "    <tr>\n",
              "      <th>5</th>\n",
              "      <td>Adam</td>\n",
              "      <td>2.0</td>\n",
              "      <td>1.0</td>\n",
              "      <td>5.0</td>\n",
              "      <td>NaN</td>\n",
              "    </tr>\n",
              "  </tbody>\n",
              "</table>\n",
              "</div>"
            ],
            "text/plain": [
              "     kinoman  Szczęki  Star Wars  Egzorcysta  Omen\n",
              "0        Jan      5.0        NaN         2.0   1.0\n",
              "1      Maria      NaN        5.0         3.0   2.0\n",
              "2     Robert      4.0        4.0         NaN   3.0\n",
              "3        Ela      2.0        NaN         NaN   NaN\n",
              "4  Stanisław      1.0        2.0         NaN   4.0\n",
              "5       Adam      2.0        1.0         5.0   NaN"
            ]
          },
          "metadata": {},
          "execution_count": 29
        }
      ]
    },
    {
      "cell_type": "code",
      "metadata": {
        "colab": {
          "base_uri": "https://localhost:8080/",
          "height": 232
        },
        "id": "XW6Aogo8w5PY",
        "outputId": "eb2d07d0-7d25-4031-bb04-8955cc136732"
      },
      "source": [
        "movies2.dropna(how='any',axis=1,thresh=5) #conajmniej 5 elementow nie pustych\n"
      ],
      "execution_count": 30,
      "outputs": [
        {
          "output_type": "execute_result",
          "data": {
            "text/html": [
              "<div>\n",
              "<style scoped>\n",
              "    .dataframe tbody tr th:only-of-type {\n",
              "        vertical-align: middle;\n",
              "    }\n",
              "\n",
              "    .dataframe tbody tr th {\n",
              "        vertical-align: top;\n",
              "    }\n",
              "\n",
              "    .dataframe thead th {\n",
              "        text-align: right;\n",
              "    }\n",
              "</style>\n",
              "<table border=\"1\" class=\"dataframe\">\n",
              "  <thead>\n",
              "    <tr style=\"text-align: right;\">\n",
              "      <th></th>\n",
              "      <th>kinoman</th>\n",
              "      <th>Szczęki</th>\n",
              "    </tr>\n",
              "  </thead>\n",
              "  <tbody>\n",
              "    <tr>\n",
              "      <th>0</th>\n",
              "      <td>Jan</td>\n",
              "      <td>5.0</td>\n",
              "    </tr>\n",
              "    <tr>\n",
              "      <th>1</th>\n",
              "      <td>Maria</td>\n",
              "      <td>NaN</td>\n",
              "    </tr>\n",
              "    <tr>\n",
              "      <th>2</th>\n",
              "      <td>Robert</td>\n",
              "      <td>4.0</td>\n",
              "    </tr>\n",
              "    <tr>\n",
              "      <th>3</th>\n",
              "      <td>Ela</td>\n",
              "      <td>2.0</td>\n",
              "    </tr>\n",
              "    <tr>\n",
              "      <th>4</th>\n",
              "      <td>Stanisław</td>\n",
              "      <td>1.0</td>\n",
              "    </tr>\n",
              "    <tr>\n",
              "      <th>5</th>\n",
              "      <td>Adam</td>\n",
              "      <td>2.0</td>\n",
              "    </tr>\n",
              "  </tbody>\n",
              "</table>\n",
              "</div>"
            ],
            "text/plain": [
              "     kinoman  Szczęki\n",
              "0        Jan      5.0\n",
              "1      Maria      NaN\n",
              "2     Robert      4.0\n",
              "3        Ela      2.0\n",
              "4  Stanisław      1.0\n",
              "5       Adam      2.0"
            ]
          },
          "metadata": {},
          "execution_count": 30
        }
      ]
    },
    {
      "cell_type": "code",
      "metadata": {
        "colab": {
          "base_uri": "https://localhost:8080/",
          "height": 232
        },
        "id": "7IhsqwSV-GJ6",
        "outputId": "6c7fe09f-e9a9-4772-ff6e-a7b9f2661f14"
      },
      "source": [
        "ratings = [['Jan',5,5,5,5],['Maria',5,5,3,2],['Robert',5,4,np.NaN,3],['Ela',5,np.NaN,np.NaN,np.NaN],['Stanisław',5,2,np.NaN,4],['Adam',5,1,5,np.NaN]]\n",
        "titles = ['kinoman','Szczęki','Star Wars','Egzorcysta','Omen']\n",
        "movies3 = pd.DataFrame(ratings,columns=titles)\n",
        "movies3\n",
        "\n",
        "\n",
        "\n"
      ],
      "execution_count": 31,
      "outputs": [
        {
          "output_type": "execute_result",
          "data": {
            "text/html": [
              "<div>\n",
              "<style scoped>\n",
              "    .dataframe tbody tr th:only-of-type {\n",
              "        vertical-align: middle;\n",
              "    }\n",
              "\n",
              "    .dataframe tbody tr th {\n",
              "        vertical-align: top;\n",
              "    }\n",
              "\n",
              "    .dataframe thead th {\n",
              "        text-align: right;\n",
              "    }\n",
              "</style>\n",
              "<table border=\"1\" class=\"dataframe\">\n",
              "  <thead>\n",
              "    <tr style=\"text-align: right;\">\n",
              "      <th></th>\n",
              "      <th>kinoman</th>\n",
              "      <th>Szczęki</th>\n",
              "      <th>Star Wars</th>\n",
              "      <th>Egzorcysta</th>\n",
              "      <th>Omen</th>\n",
              "    </tr>\n",
              "  </thead>\n",
              "  <tbody>\n",
              "    <tr>\n",
              "      <th>0</th>\n",
              "      <td>Jan</td>\n",
              "      <td>5</td>\n",
              "      <td>5.0</td>\n",
              "      <td>5.0</td>\n",
              "      <td>5.0</td>\n",
              "    </tr>\n",
              "    <tr>\n",
              "      <th>1</th>\n",
              "      <td>Maria</td>\n",
              "      <td>5</td>\n",
              "      <td>5.0</td>\n",
              "      <td>3.0</td>\n",
              "      <td>2.0</td>\n",
              "    </tr>\n",
              "    <tr>\n",
              "      <th>2</th>\n",
              "      <td>Robert</td>\n",
              "      <td>5</td>\n",
              "      <td>4.0</td>\n",
              "      <td>NaN</td>\n",
              "      <td>3.0</td>\n",
              "    </tr>\n",
              "    <tr>\n",
              "      <th>3</th>\n",
              "      <td>Ela</td>\n",
              "      <td>5</td>\n",
              "      <td>NaN</td>\n",
              "      <td>NaN</td>\n",
              "      <td>NaN</td>\n",
              "    </tr>\n",
              "    <tr>\n",
              "      <th>4</th>\n",
              "      <td>Stanisław</td>\n",
              "      <td>5</td>\n",
              "      <td>2.0</td>\n",
              "      <td>NaN</td>\n",
              "      <td>4.0</td>\n",
              "    </tr>\n",
              "    <tr>\n",
              "      <th>5</th>\n",
              "      <td>Adam</td>\n",
              "      <td>5</td>\n",
              "      <td>1.0</td>\n",
              "      <td>5.0</td>\n",
              "      <td>NaN</td>\n",
              "    </tr>\n",
              "  </tbody>\n",
              "</table>\n",
              "</div>"
            ],
            "text/plain": [
              "     kinoman  Szczęki  Star Wars  Egzorcysta  Omen\n",
              "0        Jan        5        5.0         5.0   5.0\n",
              "1      Maria        5        5.0         3.0   2.0\n",
              "2     Robert        5        4.0         NaN   3.0\n",
              "3        Ela        5        NaN         NaN   NaN\n",
              "4  Stanisław        5        2.0         NaN   4.0\n",
              "5       Adam        5        1.0         5.0   NaN"
            ]
          },
          "metadata": {},
          "execution_count": 31
        }
      ]
    },
    {
      "cell_type": "code",
      "metadata": {
        "colab": {
          "base_uri": "https://localhost:8080/",
          "height": 232
        },
        "id": "bBL1V6ri-GDg",
        "outputId": "fc49dffd-12d2-4f86-9f64-e7c0d92bb1ae"
      },
      "source": [
        "movies3.loc[:, movies3.apply(pd.Series.nunique) != 1] #usuniecie kolumn z ta sama wartoscia"
      ],
      "execution_count": 32,
      "outputs": [
        {
          "output_type": "execute_result",
          "data": {
            "text/html": [
              "<div>\n",
              "<style scoped>\n",
              "    .dataframe tbody tr th:only-of-type {\n",
              "        vertical-align: middle;\n",
              "    }\n",
              "\n",
              "    .dataframe tbody tr th {\n",
              "        vertical-align: top;\n",
              "    }\n",
              "\n",
              "    .dataframe thead th {\n",
              "        text-align: right;\n",
              "    }\n",
              "</style>\n",
              "<table border=\"1\" class=\"dataframe\">\n",
              "  <thead>\n",
              "    <tr style=\"text-align: right;\">\n",
              "      <th></th>\n",
              "      <th>kinoman</th>\n",
              "      <th>Star Wars</th>\n",
              "      <th>Egzorcysta</th>\n",
              "      <th>Omen</th>\n",
              "    </tr>\n",
              "  </thead>\n",
              "  <tbody>\n",
              "    <tr>\n",
              "      <th>0</th>\n",
              "      <td>Jan</td>\n",
              "      <td>5.0</td>\n",
              "      <td>5.0</td>\n",
              "      <td>5.0</td>\n",
              "    </tr>\n",
              "    <tr>\n",
              "      <th>1</th>\n",
              "      <td>Maria</td>\n",
              "      <td>5.0</td>\n",
              "      <td>3.0</td>\n",
              "      <td>2.0</td>\n",
              "    </tr>\n",
              "    <tr>\n",
              "      <th>2</th>\n",
              "      <td>Robert</td>\n",
              "      <td>4.0</td>\n",
              "      <td>NaN</td>\n",
              "      <td>3.0</td>\n",
              "    </tr>\n",
              "    <tr>\n",
              "      <th>3</th>\n",
              "      <td>Ela</td>\n",
              "      <td>NaN</td>\n",
              "      <td>NaN</td>\n",
              "      <td>NaN</td>\n",
              "    </tr>\n",
              "    <tr>\n",
              "      <th>4</th>\n",
              "      <td>Stanisław</td>\n",
              "      <td>2.0</td>\n",
              "      <td>NaN</td>\n",
              "      <td>4.0</td>\n",
              "    </tr>\n",
              "    <tr>\n",
              "      <th>5</th>\n",
              "      <td>Adam</td>\n",
              "      <td>1.0</td>\n",
              "      <td>5.0</td>\n",
              "      <td>NaN</td>\n",
              "    </tr>\n",
              "  </tbody>\n",
              "</table>\n",
              "</div>"
            ],
            "text/plain": [
              "     kinoman  Star Wars  Egzorcysta  Omen\n",
              "0        Jan        5.0         5.0   5.0\n",
              "1      Maria        5.0         3.0   2.0\n",
              "2     Robert        4.0         NaN   3.0\n",
              "3        Ela        NaN         NaN   NaN\n",
              "4  Stanisław        2.0         NaN   4.0\n",
              "5       Adam        1.0         5.0   NaN"
            ]
          },
          "metadata": {},
          "execution_count": 32
        }
      ]
    },
    {
      "cell_type": "markdown",
      "metadata": {
        "id": "j5aAl2Kh-v9r"
      },
      "source": [
        "Zad1"
      ]
    },
    {
      "cell_type": "code",
      "metadata": {
        "id": "vEto8BsV-vjJ"
      },
      "source": [
        "#uzyj zmiennej movies2, pokaz jaki procent w kazdej kolumnie stanowia braki\n",
        "#uzupelnij braki wartoscia maksymalna z odpowiedniej kolumny\n"
      ],
      "execution_count": 33,
      "outputs": []
    },
    {
      "cell_type": "markdown",
      "metadata": {
        "id": "cjst3Y7-g7P2"
      },
      "source": [
        "# Selekcja kolumn tekstowych"
      ]
    },
    {
      "cell_type": "code",
      "metadata": {
        "colab": {
          "base_uri": "https://localhost:8080/",
          "height": 414
        },
        "id": "Xlux2wTPg6CD",
        "outputId": "63439c04-d8af-4195-d20d-594628587ac5"
      },
      "source": [
        "data.select_dtypes(include='object')"
      ],
      "execution_count": 34,
      "outputs": [
        {
          "output_type": "execute_result",
          "data": {
            "text/html": [
              "<div>\n",
              "<style scoped>\n",
              "    .dataframe tbody tr th:only-of-type {\n",
              "        vertical-align: middle;\n",
              "    }\n",
              "\n",
              "    .dataframe tbody tr th {\n",
              "        vertical-align: top;\n",
              "    }\n",
              "\n",
              "    .dataframe thead th {\n",
              "        text-align: right;\n",
              "    }\n",
              "</style>\n",
              "<table border=\"1\" class=\"dataframe\">\n",
              "  <thead>\n",
              "    <tr style=\"text-align: right;\">\n",
              "      <th></th>\n",
              "      <th>Bare Nuclei</th>\n",
              "    </tr>\n",
              "  </thead>\n",
              "  <tbody>\n",
              "    <tr>\n",
              "      <th>0</th>\n",
              "      <td>1</td>\n",
              "    </tr>\n",
              "    <tr>\n",
              "      <th>1</th>\n",
              "      <td>10</td>\n",
              "    </tr>\n",
              "    <tr>\n",
              "      <th>2</th>\n",
              "      <td>2</td>\n",
              "    </tr>\n",
              "    <tr>\n",
              "      <th>3</th>\n",
              "      <td>4</td>\n",
              "    </tr>\n",
              "    <tr>\n",
              "      <th>4</th>\n",
              "      <td>1</td>\n",
              "    </tr>\n",
              "    <tr>\n",
              "      <th>...</th>\n",
              "      <td>...</td>\n",
              "    </tr>\n",
              "    <tr>\n",
              "      <th>694</th>\n",
              "      <td>2</td>\n",
              "    </tr>\n",
              "    <tr>\n",
              "      <th>695</th>\n",
              "      <td>1</td>\n",
              "    </tr>\n",
              "    <tr>\n",
              "      <th>696</th>\n",
              "      <td>3</td>\n",
              "    </tr>\n",
              "    <tr>\n",
              "      <th>697</th>\n",
              "      <td>4</td>\n",
              "    </tr>\n",
              "    <tr>\n",
              "      <th>698</th>\n",
              "      <td>5</td>\n",
              "    </tr>\n",
              "  </tbody>\n",
              "</table>\n",
              "<p>699 rows × 1 columns</p>\n",
              "</div>"
            ],
            "text/plain": [
              "    Bare Nuclei\n",
              "0             1\n",
              "1            10\n",
              "2             2\n",
              "3             4\n",
              "4             1\n",
              "..          ...\n",
              "694           2\n",
              "695           1\n",
              "696           3\n",
              "697           4\n",
              "698           5\n",
              "\n",
              "[699 rows x 1 columns]"
            ]
          },
          "metadata": {},
          "execution_count": 34
        }
      ]
    },
    {
      "cell_type": "markdown",
      "metadata": {
        "id": "vYuNoVHmhGAO"
      },
      "source": [
        "# Selekcja kolumn liczbowych"
      ]
    },
    {
      "cell_type": "code",
      "metadata": {
        "colab": {
          "base_uri": "https://localhost:8080/",
          "height": 414
        },
        "id": "szA3-oXthEVM",
        "outputId": "8eaa6298-a42b-45bd-a3e2-7c5e4068d0c0"
      },
      "source": [
        "data.select_dtypes(exclude='object')"
      ],
      "execution_count": 35,
      "outputs": [
        {
          "output_type": "execute_result",
          "data": {
            "text/html": [
              "<div>\n",
              "<style scoped>\n",
              "    .dataframe tbody tr th:only-of-type {\n",
              "        vertical-align: middle;\n",
              "    }\n",
              "\n",
              "    .dataframe tbody tr th {\n",
              "        vertical-align: top;\n",
              "    }\n",
              "\n",
              "    .dataframe thead th {\n",
              "        text-align: right;\n",
              "    }\n",
              "</style>\n",
              "<table border=\"1\" class=\"dataframe\">\n",
              "  <thead>\n",
              "    <tr style=\"text-align: right;\">\n",
              "      <th></th>\n",
              "      <th>Clump Thickness</th>\n",
              "      <th>Uniformity of Cell Size</th>\n",
              "      <th>Uniformity of Cell Shape</th>\n",
              "      <th>Marginal Adhesion</th>\n",
              "      <th>Single Epithelial Cell Size</th>\n",
              "      <th>Bland Chromatin</th>\n",
              "      <th>Normal Nucleoli</th>\n",
              "      <th>Mitoses</th>\n",
              "      <th>Class</th>\n",
              "    </tr>\n",
              "  </thead>\n",
              "  <tbody>\n",
              "    <tr>\n",
              "      <th>0</th>\n",
              "      <td>5</td>\n",
              "      <td>1</td>\n",
              "      <td>1</td>\n",
              "      <td>1</td>\n",
              "      <td>2</td>\n",
              "      <td>3</td>\n",
              "      <td>1</td>\n",
              "      <td>1</td>\n",
              "      <td>2</td>\n",
              "    </tr>\n",
              "    <tr>\n",
              "      <th>1</th>\n",
              "      <td>5</td>\n",
              "      <td>4</td>\n",
              "      <td>4</td>\n",
              "      <td>5</td>\n",
              "      <td>7</td>\n",
              "      <td>3</td>\n",
              "      <td>2</td>\n",
              "      <td>1</td>\n",
              "      <td>2</td>\n",
              "    </tr>\n",
              "    <tr>\n",
              "      <th>2</th>\n",
              "      <td>3</td>\n",
              "      <td>1</td>\n",
              "      <td>1</td>\n",
              "      <td>1</td>\n",
              "      <td>2</td>\n",
              "      <td>3</td>\n",
              "      <td>1</td>\n",
              "      <td>1</td>\n",
              "      <td>2</td>\n",
              "    </tr>\n",
              "    <tr>\n",
              "      <th>3</th>\n",
              "      <td>6</td>\n",
              "      <td>8</td>\n",
              "      <td>8</td>\n",
              "      <td>1</td>\n",
              "      <td>3</td>\n",
              "      <td>3</td>\n",
              "      <td>7</td>\n",
              "      <td>1</td>\n",
              "      <td>2</td>\n",
              "    </tr>\n",
              "    <tr>\n",
              "      <th>4</th>\n",
              "      <td>4</td>\n",
              "      <td>1</td>\n",
              "      <td>1</td>\n",
              "      <td>3</td>\n",
              "      <td>2</td>\n",
              "      <td>3</td>\n",
              "      <td>1</td>\n",
              "      <td>1</td>\n",
              "      <td>2</td>\n",
              "    </tr>\n",
              "    <tr>\n",
              "      <th>...</th>\n",
              "      <td>...</td>\n",
              "      <td>...</td>\n",
              "      <td>...</td>\n",
              "      <td>...</td>\n",
              "      <td>...</td>\n",
              "      <td>...</td>\n",
              "      <td>...</td>\n",
              "      <td>...</td>\n",
              "      <td>...</td>\n",
              "    </tr>\n",
              "    <tr>\n",
              "      <th>694</th>\n",
              "      <td>3</td>\n",
              "      <td>1</td>\n",
              "      <td>1</td>\n",
              "      <td>1</td>\n",
              "      <td>3</td>\n",
              "      <td>1</td>\n",
              "      <td>1</td>\n",
              "      <td>1</td>\n",
              "      <td>2</td>\n",
              "    </tr>\n",
              "    <tr>\n",
              "      <th>695</th>\n",
              "      <td>2</td>\n",
              "      <td>1</td>\n",
              "      <td>1</td>\n",
              "      <td>1</td>\n",
              "      <td>2</td>\n",
              "      <td>1</td>\n",
              "      <td>1</td>\n",
              "      <td>1</td>\n",
              "      <td>2</td>\n",
              "    </tr>\n",
              "    <tr>\n",
              "      <th>696</th>\n",
              "      <td>5</td>\n",
              "      <td>10</td>\n",
              "      <td>10</td>\n",
              "      <td>3</td>\n",
              "      <td>7</td>\n",
              "      <td>8</td>\n",
              "      <td>10</td>\n",
              "      <td>2</td>\n",
              "      <td>4</td>\n",
              "    </tr>\n",
              "    <tr>\n",
              "      <th>697</th>\n",
              "      <td>4</td>\n",
              "      <td>8</td>\n",
              "      <td>6</td>\n",
              "      <td>4</td>\n",
              "      <td>3</td>\n",
              "      <td>10</td>\n",
              "      <td>6</td>\n",
              "      <td>1</td>\n",
              "      <td>4</td>\n",
              "    </tr>\n",
              "    <tr>\n",
              "      <th>698</th>\n",
              "      <td>4</td>\n",
              "      <td>8</td>\n",
              "      <td>8</td>\n",
              "      <td>5</td>\n",
              "      <td>4</td>\n",
              "      <td>10</td>\n",
              "      <td>4</td>\n",
              "      <td>1</td>\n",
              "      <td>4</td>\n",
              "    </tr>\n",
              "  </tbody>\n",
              "</table>\n",
              "<p>699 rows × 9 columns</p>\n",
              "</div>"
            ],
            "text/plain": [
              "     Clump Thickness  Uniformity of Cell Size  ...  Mitoses  Class\n",
              "0                  5                        1  ...        1      2\n",
              "1                  5                        4  ...        1      2\n",
              "2                  3                        1  ...        1      2\n",
              "3                  6                        8  ...        1      2\n",
              "4                  4                        1  ...        1      2\n",
              "..               ...                      ...  ...      ...    ...\n",
              "694                3                        1  ...        1      2\n",
              "695                2                        1  ...        1      2\n",
              "696                5                       10  ...        2      4\n",
              "697                4                        8  ...        1      4\n",
              "698                4                        8  ...        1      4\n",
              "\n",
              "[699 rows x 9 columns]"
            ]
          },
          "metadata": {},
          "execution_count": 35
        }
      ]
    },
    {
      "cell_type": "markdown",
      "metadata": {
        "id": "r36lc0GDji15"
      },
      "source": [
        "# Wybieranie kolumn wg konkretnego typu zmiennej"
      ]
    },
    {
      "cell_type": "code",
      "metadata": {
        "id": "cJlK3TN6jiGv"
      },
      "source": [
        "numerics = ['int16', 'int32', 'int64', 'float16', 'float32', 'float64']\n",
        "numerical_columns = data.select_dtypes(include=numerics)"
      ],
      "execution_count": 36,
      "outputs": []
    },
    {
      "cell_type": "code",
      "metadata": {
        "id": "7OD6AFEMj7vB"
      },
      "source": [
        ""
      ],
      "execution_count": 36,
      "outputs": []
    },
    {
      "cell_type": "markdown",
      "metadata": {
        "id": "kithGzUOhR7G"
      },
      "source": [
        "# Zmiana typu zmiennej"
      ]
    },
    {
      "cell_type": "code",
      "metadata": {
        "id": "F2zdGtUVhWTs"
      },
      "source": [
        "data['Bare Nuclei'] = data['Bare Nuclei'].astype(float)"
      ],
      "execution_count": 37,
      "outputs": []
    },
    {
      "cell_type": "code",
      "metadata": {
        "colab": {
          "base_uri": "https://localhost:8080/"
        },
        "id": "AWPPlM3Uhe_6",
        "outputId": "776fe5ec-90a5-4cad-c050-94c1e27557a5"
      },
      "source": [
        "data['Bare Nuclei'].dtype"
      ],
      "execution_count": 38,
      "outputs": [
        {
          "output_type": "execute_result",
          "data": {
            "text/plain": [
              "dtype('float64')"
            ]
          },
          "metadata": {},
          "execution_count": 38
        }
      ]
    },
    {
      "cell_type": "markdown",
      "metadata": {
        "id": "Gfo_bNh8B5B2"
      },
      "source": [
        "# Standaryzacja"
      ]
    },
    {
      "cell_type": "code",
      "metadata": {
        "colab": {
          "base_uri": "https://localhost:8080/",
          "height": 298
        },
        "id": "fPeEe9hDB4Y2",
        "outputId": "dc2446bc-c433-46ef-8d43-532f2b811797"
      },
      "source": [
        "data = pd.read_csv('http://archive.ics.uci.edu/ml/machine-learning-databases/iris/iris.data', names=['sepal_length','sepal_width','petal_length','petal_width','target'])\n",
        "data.columns = ['sepal length', 'sepal width', 'petal length', 'petal width', 'class']\n",
        "ax = plt.subplot(1,1,1)\n",
        "bins = np.linspace(0, 2.5, 6)\n",
        "plt.hist(data['petal width'], bins=bins, align=\"mid\", alpha=0.5, histtype='bar', ec='black')\n",
        "plt.xlabel('petal width')\n",
        "plt.ylabel('wystąpień')\n",
        "plt.grid(True)\n",
        "\n",
        "plt.tight_layout(pad=1.0)"
      ],
      "execution_count": 39,
      "outputs": [
        {
          "output_type": "display_data",
          "data": {
            "image/png": "[encoded data removed]",
            "text/plain": [
              "<Figure size 432x288 with 1 Axes>"
            ]
          },
          "metadata": {
            "needs_background": "light"
          }
        }
      ]
    },
    {
      "cell_type": "code",
      "metadata": {
        "id": "a8w4SBVvCMol"
      },
      "source": [
        "def standarization(df):\n",
        "    standarized = df.apply(lambda x: (x - x.mean()) /max(x))\n",
        "    return standarized"
      ],
      "execution_count": 40,
      "outputs": []
    },
    {
      "cell_type": "code",
      "metadata": {
        "colab": {
          "base_uri": "https://localhost:8080/",
          "height": 298
        },
        "id": "sNzpb86ACVtC",
        "outputId": "ec792123-e069-4e2c-d7a0-b3db8dcfd84d"
      },
      "source": [
        "temp = data['petal width']\n",
        "temp_std = (data['petal width']-data['petal width'].mean())/data['petal width'].std()\n",
        "ax = plt.subplot(1,1,1)\n",
        "bins = np.linspace(0, 2.5, 6)\n",
        "plt.hist(temp_std, bins=bins, align=\"mid\", alpha=0.5, histtype='bar', ec='black')\n",
        "plt.title(\"petal width standarized\")\n",
        "plt.xlabel('petal width')\n",
        "plt.ylabel('wystąpień')\n",
        "plt.grid(True)\n",
        "\n",
        "plt.tight_layout(pad=1.0)"
      ],
      "execution_count": 41,
      "outputs": [
        {
          "output_type": "display_data",
          "data": {
            "image/png": "[encoded data removed]",
            "text/plain": [
              "<Figure size 432x288 with 1 Axes>"
            ]
          },
          "metadata": {
            "needs_background": "light"
          }
        }
      ]
    },
    {
      "cell_type": "code",
      "metadata": {
        "id": "V3zdcdehDg-L"
      },
      "source": [
        "#zad2 - wykonaj normalizacje(przez co rozumiem podzielenie kolumny przez jej wartosc maksymalna z kolumny)\n",
        "#uzyj do tego kolumny data[\"Clump Thickness\"] ze zbiory cancer\n",
        "#ustaw 3 wykresy(subploty) obok siebie - oryginalny Clump, znormalizowany, standaryzowane.\n",
        "#Czy i gdzie widac roznice miedzy danymi wykresami?\n",
        "\n"
      ],
      "execution_count": 44,
      "outputs": []
    }
  ]
}