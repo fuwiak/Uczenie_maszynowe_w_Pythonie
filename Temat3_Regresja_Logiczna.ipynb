{
  "nbformat": 4,
  "nbformat_minor": 0,
  "metadata": {
    "celltoolbar": "Slideshow",
    "kernelspec": {
      "display_name": "Python 3",
      "language": "python",
      "name": "python3"
    },
    "language_info": {
      "codemirror_mode": {
        "name": "ipython",
        "version": 3
      },
      "file_extension": ".py",
      "mimetype": "text/x-python",
      "name": "python",
      "nbconvert_exporter": "python",
      "pygments_lexer": "ipython3",
      "version": "3.7.7"
    },
    "toc": {
      "base_numbering": 1,
      "nav_menu": {},
      "number_sections": true,
      "sideBar": true,
      "skip_h1_title": false,
      "title_cell": "Table of Contents",
      "title_sidebar": "Contents",
      "toc_cell": true,
      "toc_position": {},
      "toc_section_display": true,
      "toc_window_display": false
    },
    "colab": {
      "name": "Temat3_Regresja_Logiczna.ipynb",
      "provenance": [],
      "collapsed_sections": []
    }
  },
  "cells": [
    {
      "cell_type": "markdown",
      "metadata": {
        "id": "1-oxpGbi6nz8"
      },
      "source": [
        "# Regresja logistyczna\n",
        "\n",
        "Regresja logistyczna jest algorytmem klasyfikacji uczenia maszynowego, który jest używany do przewidywania prawdopodobieństwa kategorycznej zmiennej zależnej. W regresji logistycznej, zmienna zależna jest zmienną binarną, która zawiera dane zakodowane jako 1 (tak, sukces, itp.) lub 0 (nie, porażka, itp.). Innymi słowy, model regresji logistycznej przewiduje P(Y=1) jako funkcję X.\n",
        "\n",
        "Skoro w nazwie jest słowo regresja, to czemu ten model jest jednak algorytmem klasyfikacji? Regresja sama w sobie przewiduje prawdopodobieństwo przynależności do danej klasy, co samo w samo jest problemem regresji. Natomiast to prawdopodobienstwo jest zamieniane od pewnego progu np p>-0.5 dla klasę 1, oraz 0 w przeciwnym wypadku.\n",
        "\n"
      ]
    },
    {
      "cell_type": "markdown",
      "metadata": {
        "id": "J4vVu5vc6nz-"
      },
      "source": [
        "## Ważne informacje\n",
        "\n",
        "- Używamy regresji logistycznej, aby wytrenować model do przewidywania między 2 klasami: Yes/No, Black/White, True/False. \n",
        "- Żadna zmienna zależna(**y**) nie powinna znajdować się wśród zestawu cech(**X**). Należy zbadać korelację pomiędzy cechami oddzielnie.\n",
        "- Dane wejściowe(**X**) zostaną poddane normalizacji i standaryzacji.\n",
        "Wyjściem regresji logistycznej jest zawsze log prawdopodobieństwa. \n"
      ]
    },
    {
      "cell_type": "code",
      "metadata": {
        "id": "ZkDQaA2_6n0A",
        "colab": {
          "base_uri": "https://localhost:8080/"
        },
        "outputId": "c7614436-1a0e-4d80-b520-c8499a7b9147"
      },
      "source": [
        "import pandas as pd\n",
        "import matplotlib.pyplot as plt\n",
        "import numpy as np\n",
        "import seaborn as sns\n",
        "import statsmodels.api as sm\n",
        "\n",
        "from sklearn import metrics\n",
        "from sklearn.preprocessing import OneHotEncoder, LabelEncoder, LabelBinarizer\n",
        "from sklearn.pipeline import make_pipeline\n",
        "from sklearn_pandas import DataFrameMapper\n",
        "from sklearn.feature_selection import RFE\n",
        "from sklearn.linear_model import LogisticRegression\n",
        "from sklearn.model_selection import train_test_split\n",
        "from sklearn.metrics import confusion_matrix, classification_report\n",
        "from sklearn.metrics import roc_auc_score, roc_curve, accuracy_score\n",
        "from matplotlib.gridspec import GridSpec\n",
        "\n",
        "from xgboost import XGBClassifier\n",
        "from sklearn.metrics import classification_report,confusion_matrix\n",
        "from sklearn.metrics import precision_score\n",
        "from sklearn.metrics import roc_curve, auc, accuracy_score, recall_score, precision_score\n",
        "\n",
        "from sklearn import model_selection, tree, linear_model, neighbors, naive_bayes, ensemble\n",
        "from xgboost import XGBClassifier\n",
        "from sklearn.ensemble import GradientBoostingClassifier, AdaBoostClassifier\n",
        "\n",
        "from sklearn.preprocessing import StandardScaler\n",
        "from sklearn.feature_selection import RFE\n",
        "from sklearn.linear_model import LogisticRegression\n",
        "import xgboost as xgb\n",
        "from imblearn.over_sampling import SMOTE\n",
        "\n",
        "import lightgbm as lgb\n",
        "from sklearn.model_selection import train_test_split\n",
        "from sklearn.model_selection import cross_validate\n",
        "\n",
        "\n",
        "import numpy.random as npr\n",
        "import scipy.stats as stats\n",
        "\n",
        "# formulat interface to statsmodels (standard linear models)\n",
        "import statsmodels.formula.api as smf\n",
        "\n",
        "from scipy.cluster.vq import vq, kmeans\n",
        "import matplotlib.patches as mpatches\n",
        "from collections import defaultdict\n",
        "\n",
        "from sklearn.decomposition import TruncatedSVD\n",
        "from sklearn.preprocessing import StandardScaler\n",
        "from sklearn.decomposition import PCA\n",
        "from sklearn.model_selection import cross_validate\n",
        "from sklearn.model_selection import cross_val_predict\n",
        "from sklearn.metrics import accuracy_score\n",
        "from sklearn.metrics import recall_score\n",
        "from sklearn import preprocessing  # to normalise existing X"
      ],
      "execution_count": 109,
      "outputs": [
        {
          "output_type": "stream",
          "name": "stderr",
          "text": [
            "/usr/local/lib/python3.7/dist-packages/sklearn/externals/six.py:31: FutureWarning: The module is deprecated in version 0.21 and will be removed in version 0.23 since we've dropped support for Python 2.7. Please rely on the official version of six (https://pypi.org/project/six/).\n",
            "  \"(https://pypi.org/project/six/).\", FutureWarning)\n",
            "/usr/local/lib/python3.7/dist-packages/sklearn/utils/deprecation.py:144: FutureWarning: The sklearn.neighbors.base module is  deprecated in version 0.22 and will be removed in version 0.24. The corresponding classes / functions should instead be imported from sklearn.neighbors. Anything that cannot be imported from sklearn.neighbors is now part of the private API.\n",
            "  warnings.warn(message, FutureWarning)\n"
          ]
        }
      ]
    },
    {
      "cell_type": "code",
      "metadata": {
        "id": "QuVBSE506n0C",
        "colab": {
          "base_uri": "https://localhost:8080/",
          "height": 202
        },
        "outputId": "595e77dc-238a-49d3-9403-0dc1c3a294a3"
      },
      "source": [
        "#titanic.csv\n",
        "url = \"https://raw.githubusercontent.com/datasciencedojo/datasets/master/titanic.csv\"\n",
        "\n",
        "data = pd.read_csv(url)\n",
        "data.head()"
      ],
      "execution_count": null,
      "outputs": [
        {
          "output_type": "execute_result",
          "data": {
            "text/html": [
              "<div>\n",
              "<style scoped>\n",
              "    .dataframe tbody tr th:only-of-type {\n",
              "        vertical-align: middle;\n",
              "    }\n",
              "\n",
              "    .dataframe tbody tr th {\n",
              "        vertical-align: top;\n",
              "    }\n",
              "\n",
              "    .dataframe thead th {\n",
              "        text-align: right;\n",
              "    }\n",
              "</style>\n",
              "<table border=\"1\" class=\"dataframe\">\n",
              "  <thead>\n",
              "    <tr style=\"text-align: right;\">\n",
              "      <th></th>\n",
              "      <th>PassengerId</th>\n",
              "      <th>Survived</th>\n",
              "      <th>Pclass</th>\n",
              "      <th>Name</th>\n",
              "      <th>Sex</th>\n",
              "      <th>Age</th>\n",
              "      <th>SibSp</th>\n",
              "      <th>Parch</th>\n",
              "      <th>Ticket</th>\n",
              "      <th>Fare</th>\n",
              "      <th>Cabin</th>\n",
              "      <th>Embarked</th>\n",
              "    </tr>\n",
              "  </thead>\n",
              "  <tbody>\n",
              "    <tr>\n",
              "      <th>0</th>\n",
              "      <td>1</td>\n",
              "      <td>0</td>\n",
              "      <td>3</td>\n",
              "      <td>Braund, Mr. Owen Harris</td>\n",
              "      <td>male</td>\n",
              "      <td>22.0</td>\n",
              "      <td>1</td>\n",
              "      <td>0</td>\n",
              "      <td>A/5 21171</td>\n",
              "      <td>7.2500</td>\n",
              "      <td>NaN</td>\n",
              "      <td>S</td>\n",
              "    </tr>\n",
              "    <tr>\n",
              "      <th>1</th>\n",
              "      <td>2</td>\n",
              "      <td>1</td>\n",
              "      <td>1</td>\n",
              "      <td>Cumings, Mrs. John Bradley (Florence Briggs Th...</td>\n",
              "      <td>female</td>\n",
              "      <td>38.0</td>\n",
              "      <td>1</td>\n",
              "      <td>0</td>\n",
              "      <td>PC 17599</td>\n",
              "      <td>71.2833</td>\n",
              "      <td>C85</td>\n",
              "      <td>C</td>\n",
              "    </tr>\n",
              "    <tr>\n",
              "      <th>2</th>\n",
              "      <td>3</td>\n",
              "      <td>1</td>\n",
              "      <td>3</td>\n",
              "      <td>Heikkinen, Miss. Laina</td>\n",
              "      <td>female</td>\n",
              "      <td>26.0</td>\n",
              "      <td>0</td>\n",
              "      <td>0</td>\n",
              "      <td>STON/O2. 3101282</td>\n",
              "      <td>7.9250</td>\n",
              "      <td>NaN</td>\n",
              "      <td>S</td>\n",
              "    </tr>\n",
              "    <tr>\n",
              "      <th>3</th>\n",
              "      <td>4</td>\n",
              "      <td>1</td>\n",
              "      <td>1</td>\n",
              "      <td>Futrelle, Mrs. Jacques Heath (Lily May Peel)</td>\n",
              "      <td>female</td>\n",
              "      <td>35.0</td>\n",
              "      <td>1</td>\n",
              "      <td>0</td>\n",
              "      <td>113803</td>\n",
              "      <td>53.1000</td>\n",
              "      <td>C123</td>\n",
              "      <td>S</td>\n",
              "    </tr>\n",
              "    <tr>\n",
              "      <th>4</th>\n",
              "      <td>5</td>\n",
              "      <td>0</td>\n",
              "      <td>3</td>\n",
              "      <td>Allen, Mr. William Henry</td>\n",
              "      <td>male</td>\n",
              "      <td>35.0</td>\n",
              "      <td>0</td>\n",
              "      <td>0</td>\n",
              "      <td>373450</td>\n",
              "      <td>8.0500</td>\n",
              "      <td>NaN</td>\n",
              "      <td>S</td>\n",
              "    </tr>\n",
              "  </tbody>\n",
              "</table>\n",
              "</div>"
            ],
            "text/plain": [
              "   PassengerId  Survived  Pclass  ...     Fare Cabin  Embarked\n",
              "0            1         0       3  ...   7.2500   NaN         S\n",
              "1            2         1       1  ...  71.2833   C85         C\n",
              "2            3         1       3  ...   7.9250   NaN         S\n",
              "3            4         1       1  ...  53.1000  C123         S\n",
              "4            5         0       3  ...   8.0500   NaN         S\n",
              "\n",
              "[5 rows x 12 columns]"
            ]
          },
          "metadata": {},
          "execution_count": 48
        }
      ]
    },
    {
      "cell_type": "markdown",
      "metadata": {
        "id": "9xkjgOZS6n0G"
      },
      "source": [
        "## Informacje o datasecie"
      ]
    },
    {
      "cell_type": "code",
      "metadata": {
        "id": "2yiuQxCi6n0H"
      },
      "source": [
        "def dataframe_metainformation(df):\n",
        "    meta = dict()\n",
        "    descr = pd.DataFrame({'dtype': df.dtypes, 'NAs': df.isna().sum()})\n",
        "    categorical_features = descr.loc[descr['dtype'] == 'object'].index.values.tolist()\n",
        "    numerical_features = descr.loc[descr['dtype'] != 'object'].index.values.tolist()\n",
        "    numerical_features_na = descr.loc[(descr['dtype'] != 'object') & (descr['NAs'] > 0)].index.values.tolist()\n",
        "    categorical_features_na = descr.loc[(descr['dtype'] == 'object') & (descr['NAs'] > 0)].index.values.tolist()\n",
        "    complete_features = descr.loc[descr['NAs'] == 0].index.values.tolist()\n",
        "    meta['description'] = descr\n",
        "    meta['categorical_features'] = categorical_features\n",
        "    meta['categorical_features'] = categorical_features\n",
        "    meta['categorical_features_na'] = categorical_features_na\n",
        "    meta['numerical_features'] = numerical_features\n",
        "    meta['numerical_features_na'] = numerical_features_na\n",
        "    meta['complete_features'] = complete_features\n",
        "    return meta\n",
        "\n",
        "def print_metainformation(meta):\n",
        "    print('Available types:', meta['description']['dtype'].unique())\n",
        "    print('{} Features'.format(meta['description'].shape[0]))\n",
        "    print('{} categorical features'.format(len(meta['categorical_features'])))\n",
        "    print('{} numerical features'.format(len(meta['numerical_features'])))\n",
        "    print('{} categorical features with NAs'.format(len(meta['categorical_features_na'])))\n",
        "    print('{} numerical features with NAs'.format(len(meta['numerical_features_na'])))\n",
        "    print('{} Complete features'.format(len(meta['complete_features'])))"
      ],
      "execution_count": null,
      "outputs": []
    },
    {
      "cell_type": "code",
      "metadata": {
        "id": "saTT0YE76n0H",
        "colab": {
          "base_uri": "https://localhost:8080/"
        },
        "outputId": "fc10fae6-e71d-402b-ed55-d312d07aabd6"
      },
      "source": [
        "meta = dataframe_metainformation(data)\n",
        "print_metainformation(meta)"
      ],
      "execution_count": null,
      "outputs": [
        {
          "output_type": "stream",
          "name": "stdout",
          "text": [
            "Available types: [dtype('int64') dtype('O') dtype('float64')]\n",
            "12 Features\n",
            "5 categorical features\n",
            "7 numerical features\n",
            "2 categorical features with NAs\n",
            "1 numerical features with NAs\n",
            "9 Complete features\n"
          ]
        }
      ]
    },
    {
      "cell_type": "code",
      "metadata": {
        "id": "k42yHp_qJ7Kw"
      },
      "source": [
        "#Uzupelnienie brakow przez mode\n",
        "\n",
        "fill_mode = lambda col: col.fillna(col.mode().iloc[0])\n",
        "data = data.apply(fill_mode, axis=0)"
      ],
      "execution_count": null,
      "outputs": []
    },
    {
      "cell_type": "code",
      "metadata": {
        "colab": {
          "base_uri": "https://localhost:8080/"
        },
        "id": "ZFCkhI6pKbEL",
        "outputId": "9be90983-2917-41a2-d41f-2f70cb504779"
      },
      "source": [
        "#Sprawdzamy czy rzeczywiscie uzupelnilismy braki\n",
        "meta = dataframe_metainformation(data)\n",
        "print_metainformation(meta)"
      ],
      "execution_count": null,
      "outputs": [
        {
          "output_type": "stream",
          "name": "stdout",
          "text": [
            "Available types: [dtype('int64') dtype('O') dtype('float64')]\n",
            "12 Features\n",
            "5 categorical features\n",
            "7 numerical features\n",
            "0 categorical features with NAs\n",
            "0 numerical features with NAs\n",
            "12 Complete features\n"
          ]
        }
      ]
    },
    {
      "cell_type": "markdown",
      "metadata": {
        "id": "uzQLgLpp6n0K"
      },
      "source": [
        "Sprawdzamy zbalansowanie zmiennej przewidywanej"
      ]
    },
    {
      "cell_type": "code",
      "metadata": {
        "id": "_sPbIvkB6n0L",
        "colab": {
          "base_uri": "https://localhost:8080/",
          "height": 278
        },
        "outputId": "fab53a9a-fc7f-46bc-a5d8-901752245454"
      },
      "source": [
        "sns.countplot(x='Survived', data=data);\n",
        "plt.show();"
      ],
      "execution_count": null,
      "outputs": [
        {
          "output_type": "display_data",
          "data": {
            "image/png": "[encoded data removed]",
            "text/plain": [
              "<Figure size 432x288 with 1 Axes>"
            ]
          },
          "metadata": {
            "needs_background": "light"
          }
        }
      ]
    },
    {
      "cell_type": "code",
      "metadata": {
        "id": "EkyrZ2ON6n0N"
      },
      "source": [
        "#kodowanie danych zmiennych kategorycznych - One hot encoding \n",
        "\n",
        "def encode_and_bind(original_dataframe, feature_to_encode):\n",
        "    dummies = pd.get_dummies(original_dataframe[[feature_to_encode]])\n",
        "    res = pd.concat([original_dataframe, dummies], axis=1)\n",
        "    res = res.drop([feature_to_encode], axis=1)\n",
        "    return(res) "
      ],
      "execution_count": null,
      "outputs": []
    },
    {
      "cell_type": "code",
      "metadata": {
        "colab": {
          "base_uri": "https://localhost:8080/",
          "height": 414
        },
        "id": "Xckpms0kJe4N",
        "outputId": "49942860-c448-4301-dc03-57319288e9db"
      },
      "source": [
        "data_enc = encode_and_bind(data, \"Sex\")\n",
        "data_enc"
      ],
      "execution_count": null,
      "outputs": [
        {
          "output_type": "execute_result",
          "data": {
            "text/html": [
              "<div>\n",
              "<style scoped>\n",
              "    .dataframe tbody tr th:only-of-type {\n",
              "        vertical-align: middle;\n",
              "    }\n",
              "\n",
              "    .dataframe tbody tr th {\n",
              "        vertical-align: top;\n",
              "    }\n",
              "\n",
              "    .dataframe thead th {\n",
              "        text-align: right;\n",
              "    }\n",
              "</style>\n",
              "<table border=\"1\" class=\"dataframe\">\n",
              "  <thead>\n",
              "    <tr style=\"text-align: right;\">\n",
              "      <th></th>\n",
              "      <th>PassengerId</th>\n",
              "      <th>Survived</th>\n",
              "      <th>Pclass</th>\n",
              "      <th>Name</th>\n",
              "      <th>Age</th>\n",
              "      <th>SibSp</th>\n",
              "      <th>Parch</th>\n",
              "      <th>Ticket</th>\n",
              "      <th>Fare</th>\n",
              "      <th>Cabin</th>\n",
              "      <th>Embarked</th>\n",
              "      <th>Sex_female</th>\n",
              "      <th>Sex_male</th>\n",
              "    </tr>\n",
              "  </thead>\n",
              "  <tbody>\n",
              "    <tr>\n",
              "      <th>0</th>\n",
              "      <td>1</td>\n",
              "      <td>0</td>\n",
              "      <td>3</td>\n",
              "      <td>Braund, Mr. Owen Harris</td>\n",
              "      <td>22.0</td>\n",
              "      <td>1</td>\n",
              "      <td>0</td>\n",
              "      <td>A/5 21171</td>\n",
              "      <td>7.2500</td>\n",
              "      <td>B96 B98</td>\n",
              "      <td>S</td>\n",
              "      <td>0</td>\n",
              "      <td>1</td>\n",
              "    </tr>\n",
              "    <tr>\n",
              "      <th>1</th>\n",
              "      <td>2</td>\n",
              "      <td>1</td>\n",
              "      <td>1</td>\n",
              "      <td>Cumings, Mrs. John Bradley (Florence Briggs Th...</td>\n",
              "      <td>38.0</td>\n",
              "      <td>1</td>\n",
              "      <td>0</td>\n",
              "      <td>PC 17599</td>\n",
              "      <td>71.2833</td>\n",
              "      <td>C85</td>\n",
              "      <td>C</td>\n",
              "      <td>1</td>\n",
              "      <td>0</td>\n",
              "    </tr>\n",
              "    <tr>\n",
              "      <th>2</th>\n",
              "      <td>3</td>\n",
              "      <td>1</td>\n",
              "      <td>3</td>\n",
              "      <td>Heikkinen, Miss. Laina</td>\n",
              "      <td>26.0</td>\n",
              "      <td>0</td>\n",
              "      <td>0</td>\n",
              "      <td>STON/O2. 3101282</td>\n",
              "      <td>7.9250</td>\n",
              "      <td>B96 B98</td>\n",
              "      <td>S</td>\n",
              "      <td>1</td>\n",
              "      <td>0</td>\n",
              "    </tr>\n",
              "    <tr>\n",
              "      <th>3</th>\n",
              "      <td>4</td>\n",
              "      <td>1</td>\n",
              "      <td>1</td>\n",
              "      <td>Futrelle, Mrs. Jacques Heath (Lily May Peel)</td>\n",
              "      <td>35.0</td>\n",
              "      <td>1</td>\n",
              "      <td>0</td>\n",
              "      <td>113803</td>\n",
              "      <td>53.1000</td>\n",
              "      <td>C123</td>\n",
              "      <td>S</td>\n",
              "      <td>1</td>\n",
              "      <td>0</td>\n",
              "    </tr>\n",
              "    <tr>\n",
              "      <th>4</th>\n",
              "      <td>5</td>\n",
              "      <td>0</td>\n",
              "      <td>3</td>\n",
              "      <td>Allen, Mr. William Henry</td>\n",
              "      <td>35.0</td>\n",
              "      <td>0</td>\n",
              "      <td>0</td>\n",
              "      <td>373450</td>\n",
              "      <td>8.0500</td>\n",
              "      <td>B96 B98</td>\n",
              "      <td>S</td>\n",
              "      <td>0</td>\n",
              "      <td>1</td>\n",
              "    </tr>\n",
              "    <tr>\n",
              "      <th>...</th>\n",
              "      <td>...</td>\n",
              "      <td>...</td>\n",
              "      <td>...</td>\n",
              "      <td>...</td>\n",
              "      <td>...</td>\n",
              "      <td>...</td>\n",
              "      <td>...</td>\n",
              "      <td>...</td>\n",
              "      <td>...</td>\n",
              "      <td>...</td>\n",
              "      <td>...</td>\n",
              "      <td>...</td>\n",
              "      <td>...</td>\n",
              "    </tr>\n",
              "    <tr>\n",
              "      <th>886</th>\n",
              "      <td>887</td>\n",
              "      <td>0</td>\n",
              "      <td>2</td>\n",
              "      <td>Montvila, Rev. Juozas</td>\n",
              "      <td>27.0</td>\n",
              "      <td>0</td>\n",
              "      <td>0</td>\n",
              "      <td>211536</td>\n",
              "      <td>13.0000</td>\n",
              "      <td>B96 B98</td>\n",
              "      <td>S</td>\n",
              "      <td>0</td>\n",
              "      <td>1</td>\n",
              "    </tr>\n",
              "    <tr>\n",
              "      <th>887</th>\n",
              "      <td>888</td>\n",
              "      <td>1</td>\n",
              "      <td>1</td>\n",
              "      <td>Graham, Miss. Margaret Edith</td>\n",
              "      <td>19.0</td>\n",
              "      <td>0</td>\n",
              "      <td>0</td>\n",
              "      <td>112053</td>\n",
              "      <td>30.0000</td>\n",
              "      <td>B42</td>\n",
              "      <td>S</td>\n",
              "      <td>1</td>\n",
              "      <td>0</td>\n",
              "    </tr>\n",
              "    <tr>\n",
              "      <th>888</th>\n",
              "      <td>889</td>\n",
              "      <td>0</td>\n",
              "      <td>3</td>\n",
              "      <td>Johnston, Miss. Catherine Helen \"Carrie\"</td>\n",
              "      <td>24.0</td>\n",
              "      <td>1</td>\n",
              "      <td>2</td>\n",
              "      <td>W./C. 6607</td>\n",
              "      <td>23.4500</td>\n",
              "      <td>B96 B98</td>\n",
              "      <td>S</td>\n",
              "      <td>1</td>\n",
              "      <td>0</td>\n",
              "    </tr>\n",
              "    <tr>\n",
              "      <th>889</th>\n",
              "      <td>890</td>\n",
              "      <td>1</td>\n",
              "      <td>1</td>\n",
              "      <td>Behr, Mr. Karl Howell</td>\n",
              "      <td>26.0</td>\n",
              "      <td>0</td>\n",
              "      <td>0</td>\n",
              "      <td>111369</td>\n",
              "      <td>30.0000</td>\n",
              "      <td>C148</td>\n",
              "      <td>C</td>\n",
              "      <td>0</td>\n",
              "      <td>1</td>\n",
              "    </tr>\n",
              "    <tr>\n",
              "      <th>890</th>\n",
              "      <td>891</td>\n",
              "      <td>0</td>\n",
              "      <td>3</td>\n",
              "      <td>Dooley, Mr. Patrick</td>\n",
              "      <td>32.0</td>\n",
              "      <td>0</td>\n",
              "      <td>0</td>\n",
              "      <td>370376</td>\n",
              "      <td>7.7500</td>\n",
              "      <td>B96 B98</td>\n",
              "      <td>Q</td>\n",
              "      <td>0</td>\n",
              "      <td>1</td>\n",
              "    </tr>\n",
              "  </tbody>\n",
              "</table>\n",
              "<p>891 rows × 13 columns</p>\n",
              "</div>"
            ],
            "text/plain": [
              "     PassengerId  Survived  Pclass  ... Embarked  Sex_female  Sex_male\n",
              "0              1         0       3  ...        S           0         1\n",
              "1              2         1       1  ...        C           1         0\n",
              "2              3         1       3  ...        S           1         0\n",
              "3              4         1       1  ...        S           1         0\n",
              "4              5         0       3  ...        S           0         1\n",
              "..           ...       ...     ...  ...      ...         ...       ...\n",
              "886          887         0       2  ...        S           0         1\n",
              "887          888         1       1  ...        S           1         0\n",
              "888          889         0       3  ...        S           1         0\n",
              "889          890         1       1  ...        C           0         1\n",
              "890          891         0       3  ...        Q           0         1\n",
              "\n",
              "[891 rows x 13 columns]"
            ]
          },
          "metadata": {},
          "execution_count": 53
        }
      ]
    },
    {
      "cell_type": "code",
      "metadata": {
        "colab": {
          "base_uri": "https://localhost:8080/"
        },
        "id": "_6_egTJJLfKn",
        "outputId": "d0207550-577e-4cca-df87-400e1023fc05"
      },
      "source": [
        "data_enc.dtypes"
      ],
      "execution_count": null,
      "outputs": [
        {
          "output_type": "execute_result",
          "data": {
            "text/plain": [
              "PassengerId      int64\n",
              "Survived         int64\n",
              "Pclass           int64\n",
              "Name            object\n",
              "Age            float64\n",
              "SibSp            int64\n",
              "Parch            int64\n",
              "Ticket          object\n",
              "Fare           float64\n",
              "Cabin           object\n",
              "Embarked        object\n",
              "Sex_female       uint8\n",
              "Sex_male         uint8\n",
              "dtype: object"
            ]
          },
          "metadata": {},
          "execution_count": 54
        }
      ]
    },
    {
      "cell_type": "code",
      "metadata": {
        "id": "sF-_YmlpLfHC"
      },
      "source": [
        "X_selected = [\"Pclass\", \"Age\", \"SibSp\", \"Parch\", \"Fare\", \"Sex_female\", \"Sex_male\"]"
      ],
      "execution_count": null,
      "outputs": []
    },
    {
      "cell_type": "markdown",
      "metadata": {
        "id": "D6m4ZTq1SPo_"
      },
      "source": [
        "# Selekcja zmiennych"
      ]
    },
    {
      "cell_type": "markdown",
      "metadata": {
        "id": "LapYhmki6n0O"
      },
      "source": [
        "### Recursive Feature Elimination\n",
        "Recursive Feature Elimination (RFE) opiera się na idei wielokrotnego konstruowania modelu i wybierania cechy o najlepszych lub najgorszych wynikach, odkładania jej na bok i powtarzania procesu z pozostałymi cechami. Proces ten jest stosowany do momentu, gdy wszystkie cechy w zbiorze danych zostaną wyczerpane. Celem RFE jest wybór cech poprzez rekurencyjne rozpatrywanie coraz mniejszych zbiorów cech."
      ]
    },
    {
      "cell_type": "code",
      "metadata": {
        "id": "QwKKk1ta6n0O",
        "colab": {
          "base_uri": "https://localhost:8080/"
        },
        "outputId": "bcc86761-139e-470a-f9aa-33c7f82c017e"
      },
      "source": [
        "from sklearn.exceptions import ConvergenceWarning\n",
        "import warnings\n",
        "warnings.filterwarnings(action='ignore', category=ConvergenceWarning)\n",
        "\n",
        "X = data_enc[X_selected]\n",
        "y = data_enc[\"Survived\"]\n",
        "\n",
        "\n",
        "logreg = LogisticRegression(solver='lbfgs', max_iter=250)\n",
        "rfe = RFE(logreg, 5) #top 5\n",
        "rfe = rfe.fit(X, y)\n",
        "\n",
        "selectK_mask=rfe.get_support()\n",
        "K_featnames = np.array(X_selected)[selectK_mask]\n",
        "print(\"Wybrane kolumny\", list(K_featnames))"
      ],
      "execution_count": null,
      "outputs": [
        {
          "output_type": "stream",
          "name": "stdout",
          "text": [
            "Wybrane kolumny ['Pclass', 'SibSp', 'Parch', 'Sex_female', 'Sex_male']\n"
          ]
        }
      ]
    },
    {
      "cell_type": "code",
      "metadata": {
        "id": "uct2xlndM2Rr"
      },
      "source": [
        "#zad1\n",
        "#dodaj do wybranych kolumn zmienna Embarked, zakoduj sa kodowaniem one-hot i sprawdz czy to zmieni wynik RFE\n",
        "#masz jakies wnioski?\n"
      ],
      "execution_count": 58,
      "outputs": []
    },
    {
      "cell_type": "markdown",
      "metadata": {
        "id": "aEcC-V596n0P"
      },
      "source": [
        "## Budowanie modelu\n",
        "\n"
      ]
    },
    {
      "cell_type": "code",
      "metadata": {
        "id": "ZdzttL6dRKys"
      },
      "source": [
        "# Używamy pakietu `statmodels`, ponieważ chcemy mieć łatwy dostęp do wszystkich wskaźników statystycznych, do których może prowadzić regresja logistyczna"
      ],
      "execution_count": null,
      "outputs": []
    },
    {
      "cell_type": "code",
      "metadata": {
        "id": "rvW-eMuQ6n0Q",
        "colab": {
          "base_uri": "https://localhost:8080/"
        },
        "outputId": "e7d1c7dd-bb79-4747-b673-ba3701585fa2"
      },
      "source": [
        "\n",
        "X = data_enc[list(K_featnames)]\n",
        "y = data_enc[\"Survived\"]\n",
        "\n",
        "logit_model=sm.Logit(y, X)\n",
        "result=logit_model.fit(method='bfgs')\n",
        "print(result.summary2())"
      ],
      "execution_count": 60,
      "outputs": [
        {
          "output_type": "stream",
          "name": "stdout",
          "text": [
            "Optimization terminated successfully.\n",
            "         Current function value: 0.456833\n",
            "         Iterations: 26\n",
            "         Function evaluations: 27\n",
            "         Gradient evaluations: 27\n",
            "                         Results: Logit\n",
            "=================================================================\n",
            "Model:              Logit            Pseudo R-squared: 0.314     \n",
            "Dependent Variable: Survived         AIC:              824.0772  \n",
            "Date:               2021-11-15 06:26 BIC:              848.0389  \n",
            "No. Observations:   891              Log-Likelihood:   -407.04   \n",
            "Df Model:           4                LL-Null:          -593.33   \n",
            "Df Residuals:       886              LLR p-value:      2.3348e-79\n",
            "Converged:          1.0000           Scale:            1.0000    \n",
            "------------------------------------------------------------------\n",
            "               Coef.   Std.Err.     z     P>|z|    [0.025   0.975]\n",
            "------------------------------------------------------------------\n",
            "Pclass        -0.9326    0.1069  -8.7271  0.0000  -1.1420  -0.7231\n",
            "SibSp         -0.2258    0.0946  -2.3873  0.0170  -0.4112  -0.0404\n",
            "Sex_female     3.7028    0.3313  11.1755  0.0000   3.0534   4.3522\n",
            "Sex_male       0.9960    0.2790   3.5697  0.0004   0.4492   1.5429\n",
            "Embarked_S    -0.4438    0.1936  -2.2930  0.0218  -0.8232  -0.0645\n",
            "=================================================================\n",
            "\n"
          ]
        }
      ]
    },
    {
      "cell_type": "markdown",
      "metadata": {
        "id": "c1ZnETjc6n0R"
      },
      "source": [
        "### P-Values and feature selection\n",
        "\n",
        "Usuwamy zmienne p>0.05, jako nieistotne statystycznie\n",
        "\n"
      ]
    },
    {
      "cell_type": "code",
      "metadata": {
        "id": "GT5yfE-y6n0R",
        "colab": {
          "base_uri": "https://localhost:8080/"
        },
        "outputId": "bc30ed79-6716-44b8-f29c-57d8a6873c6a"
      },
      "source": [
        "to_remove = result.pvalues[result.pvalues > 0.05].index.tolist()\n",
        "X.drop(to_remove, inplace=True, axis=1)\n",
        "\n",
        "logit_model=sm.Logit(y, X)\n",
        "result=logit_model.fit(method='bfgs')\n",
        "print(result.summary2())"
      ],
      "execution_count": 61,
      "outputs": [
        {
          "output_type": "stream",
          "name": "stdout",
          "text": [
            "Optimization terminated successfully.\n",
            "         Current function value: 0.456833\n",
            "         Iterations: 26\n",
            "         Function evaluations: 27\n",
            "         Gradient evaluations: 27\n",
            "                         Results: Logit\n",
            "=================================================================\n",
            "Model:              Logit            Pseudo R-squared: 0.314     \n",
            "Dependent Variable: Survived         AIC:              824.0772  \n",
            "Date:               2021-11-15 06:28 BIC:              848.0389  \n",
            "No. Observations:   891              Log-Likelihood:   -407.04   \n",
            "Df Model:           4                LL-Null:          -593.33   \n",
            "Df Residuals:       886              LLR p-value:      2.3348e-79\n",
            "Converged:          1.0000           Scale:            1.0000    \n",
            "------------------------------------------------------------------\n",
            "               Coef.   Std.Err.     z     P>|z|    [0.025   0.975]\n",
            "------------------------------------------------------------------\n",
            "Pclass        -0.9326    0.1069  -8.7271  0.0000  -1.1420  -0.7231\n",
            "SibSp         -0.2258    0.0946  -2.3873  0.0170  -0.4112  -0.0404\n",
            "Sex_female     3.7028    0.3313  11.1755  0.0000   3.0534   4.3522\n",
            "Sex_male       0.9960    0.2790   3.5697  0.0004   0.4492   1.5429\n",
            "Embarked_S    -0.4438    0.1936  -2.2930  0.0218  -0.8232  -0.0645\n",
            "=================================================================\n",
            "\n"
          ]
        },
        {
          "output_type": "stream",
          "name": "stderr",
          "text": [
            "/usr/local/lib/python3.7/dist-packages/pandas/core/frame.py:4174: SettingWithCopyWarning: \n",
            "A value is trying to be set on a copy of a slice from a DataFrame\n",
            "\n",
            "See the caveats in the documentation: https://pandas.pydata.org/pandas-docs/stable/user_guide/indexing.html#returning-a-view-versus-a-copy\n",
            "  errors=errors,\n"
          ]
        }
      ]
    },
    {
      "cell_type": "code",
      "metadata": {
        "colab": {
          "base_uri": "https://localhost:8080/",
          "height": 414
        },
        "id": "OXhS67idSFDR",
        "outputId": "edb0d5c6-b0c9-417f-bf7d-9e3d1352c94b"
      },
      "source": [
        "#tak przefiltrowane dane możemy wrzucić do modelu"
      ],
      "execution_count": 62,
      "outputs": [
        {
          "output_type": "execute_result",
          "data": {
            "text/html": [
              "<div>\n",
              "<style scoped>\n",
              "    .dataframe tbody tr th:only-of-type {\n",
              "        vertical-align: middle;\n",
              "    }\n",
              "\n",
              "    .dataframe tbody tr th {\n",
              "        vertical-align: top;\n",
              "    }\n",
              "\n",
              "    .dataframe thead th {\n",
              "        text-align: right;\n",
              "    }\n",
              "</style>\n",
              "<table border=\"1\" class=\"dataframe\">\n",
              "  <thead>\n",
              "    <tr style=\"text-align: right;\">\n",
              "      <th></th>\n",
              "      <th>Pclass</th>\n",
              "      <th>SibSp</th>\n",
              "      <th>Sex_female</th>\n",
              "      <th>Sex_male</th>\n",
              "      <th>Embarked_S</th>\n",
              "    </tr>\n",
              "  </thead>\n",
              "  <tbody>\n",
              "    <tr>\n",
              "      <th>0</th>\n",
              "      <td>3</td>\n",
              "      <td>1</td>\n",
              "      <td>0</td>\n",
              "      <td>1</td>\n",
              "      <td>1</td>\n",
              "    </tr>\n",
              "    <tr>\n",
              "      <th>1</th>\n",
              "      <td>1</td>\n",
              "      <td>1</td>\n",
              "      <td>1</td>\n",
              "      <td>0</td>\n",
              "      <td>0</td>\n",
              "    </tr>\n",
              "    <tr>\n",
              "      <th>2</th>\n",
              "      <td>3</td>\n",
              "      <td>0</td>\n",
              "      <td>1</td>\n",
              "      <td>0</td>\n",
              "      <td>1</td>\n",
              "    </tr>\n",
              "    <tr>\n",
              "      <th>3</th>\n",
              "      <td>1</td>\n",
              "      <td>1</td>\n",
              "      <td>1</td>\n",
              "      <td>0</td>\n",
              "      <td>1</td>\n",
              "    </tr>\n",
              "    <tr>\n",
              "      <th>4</th>\n",
              "      <td>3</td>\n",
              "      <td>0</td>\n",
              "      <td>0</td>\n",
              "      <td>1</td>\n",
              "      <td>1</td>\n",
              "    </tr>\n",
              "    <tr>\n",
              "      <th>...</th>\n",
              "      <td>...</td>\n",
              "      <td>...</td>\n",
              "      <td>...</td>\n",
              "      <td>...</td>\n",
              "      <td>...</td>\n",
              "    </tr>\n",
              "    <tr>\n",
              "      <th>886</th>\n",
              "      <td>2</td>\n",
              "      <td>0</td>\n",
              "      <td>0</td>\n",
              "      <td>1</td>\n",
              "      <td>1</td>\n",
              "    </tr>\n",
              "    <tr>\n",
              "      <th>887</th>\n",
              "      <td>1</td>\n",
              "      <td>0</td>\n",
              "      <td>1</td>\n",
              "      <td>0</td>\n",
              "      <td>1</td>\n",
              "    </tr>\n",
              "    <tr>\n",
              "      <th>888</th>\n",
              "      <td>3</td>\n",
              "      <td>1</td>\n",
              "      <td>1</td>\n",
              "      <td>0</td>\n",
              "      <td>1</td>\n",
              "    </tr>\n",
              "    <tr>\n",
              "      <th>889</th>\n",
              "      <td>1</td>\n",
              "      <td>0</td>\n",
              "      <td>0</td>\n",
              "      <td>1</td>\n",
              "      <td>0</td>\n",
              "    </tr>\n",
              "    <tr>\n",
              "      <th>890</th>\n",
              "      <td>3</td>\n",
              "      <td>0</td>\n",
              "      <td>0</td>\n",
              "      <td>1</td>\n",
              "      <td>0</td>\n",
              "    </tr>\n",
              "  </tbody>\n",
              "</table>\n",
              "<p>891 rows × 5 columns</p>\n",
              "</div>"
            ],
            "text/plain": [
              "     Pclass  SibSp  Sex_female  Sex_male  Embarked_S\n",
              "0         3      1           0         1           1\n",
              "1         1      1           1         0           0\n",
              "2         3      0           1         0           1\n",
              "3         1      1           1         0           1\n",
              "4         3      0           0         1           1\n",
              "..      ...    ...         ...       ...         ...\n",
              "886       2      0           0         1           1\n",
              "887       1      0           1         0           1\n",
              "888       3      1           1         0           1\n",
              "889       1      0           0         1           0\n",
              "890       3      0           0         1           0\n",
              "\n",
              "[891 rows x 5 columns]"
            ]
          },
          "metadata": {},
          "execution_count": 62
        }
      ]
    },
    {
      "cell_type": "code",
      "metadata": {
        "id": "DXgoe2f9WjIK"
      },
      "source": [
        "#logistyczna regresja"
      ],
      "execution_count": 104,
      "outputs": []
    },
    {
      "cell_type": "code",
      "metadata": {
        "id": "1uPCZDj66n0U",
        "colab": {
          "base_uri": "https://localhost:8080/"
        },
        "outputId": "bca0375c-28db-4b8e-8859-570e6ffc165f"
      },
      "source": [
        "X_train, X_test, y_train, y_test = train_test_split(X, y, \n",
        "                                                    test_size=0.3, \n",
        "                                                    random_state=0)\n",
        "logreg = LogisticRegression(solver='lbfgs')\n",
        "logreg.fit(X_train, y_train)\n",
        "\n",
        "y_pred = logreg.predict(X_test)\n",
        "print('Accuracy on test: {:.2f}'.format(logreg.score(X_test, y_test)))\n",
        "print(confusion_matrix(y_test, y_pred))\n",
        "print(classification_report(y_test, y_pred))"
      ],
      "execution_count": 105,
      "outputs": [
        {
          "output_type": "stream",
          "name": "stdout",
          "text": [
            "Accuracy on test: 0.79\n",
            "[[139  29]\n",
            " [ 26  74]]\n",
            "              precision    recall  f1-score   support\n",
            "\n",
            "           0       0.84      0.83      0.83       168\n",
            "           1       0.72      0.74      0.73       100\n",
            "\n",
            "    accuracy                           0.79       268\n",
            "   macro avg       0.78      0.78      0.78       268\n",
            "weighted avg       0.80      0.79      0.80       268\n",
            "\n"
          ]
        }
      ]
    },
    {
      "cell_type": "markdown",
      "metadata": {
        "id": "J0Zeidof6n0W"
      },
      "source": [
        "### ROC Curve\n",
        "\n",
        "The receiver operating characteristic (ROC) curve is another common tool used with binary classifiers. The dotted line represents the ROC curve of a purely random classifier; a good classifier stays as far away from that line as possible (toward the top-left corner)."
      ]
    },
    {
      "cell_type": "code",
      "metadata": {
        "id": "zDL_fABG6n0X"
      },
      "source": [
        "logit_roc_auc = roc_auc_score(y_test, logreg.predict(X_test))\n",
        "fpr, tpr, thresholds = roc_curve(y_test, logreg.predict_proba(X_test)[:,1])"
      ],
      "execution_count": 106,
      "outputs": []
    },
    {
      "cell_type": "markdown",
      "metadata": {
        "id": "tkfz1QYK6n0X"
      },
      "source": [
        "Plot the FPR vs. TPR, and the diagonal line representing the null model."
      ]
    },
    {
      "cell_type": "code",
      "metadata": {
        "id": "HglPLts96n0X"
      },
      "source": [
        "def plot_roc(fpr, tpr, logit_roc_auc):\n",
        "    plt.figure()\n",
        "    plt.plot(fpr, tpr, label='Logistic Regression (area = %0.2f)' % logit_roc_auc)\n",
        "    plt.plot([0, 1], [0, 1], 'r--')\n",
        "    plt.xlim([0.0, 1.05])\n",
        "    plt.ylim([0.0, 1.05])\n",
        "    plt.xlabel('False Positive Rate')\n",
        "    plt.ylabel('True Positive Rate')\n",
        "    plt.title('ROC curve')\n",
        "    plt.legend(loc=\"lower right\")\n",
        "    # plt.savefig('Log_ROC')\n",
        "    plt.show();"
      ],
      "execution_count": 107,
      "outputs": []
    },
    {
      "cell_type": "code",
      "metadata": {
        "scrolled": true,
        "id": "efHKW2eB6n0Y",
        "colab": {
          "base_uri": "https://localhost:8080/",
          "height": 294
        },
        "outputId": "92df3f5f-e112-4020-a46b-31a62ea13dce"
      },
      "source": [
        "plot_roc(fpr, tpr, logit_roc_auc)"
      ],
      "execution_count": 108,
      "outputs": [
        {
          "output_type": "display_data",
          "data": {
            "image/png": "[encoded data removed]",
            "text/plain": [
              "<Figure size 432x288 with 1 Axes>"
            ]
          },
          "metadata": {
            "needs_background": "light"
          }
        }
      ]
    },
    {
      "cell_type": "markdown",
      "metadata": {
        "id": "SmXm2IpU6n0a"
      },
      "source": [
        "### Explore logit predictions\n",
        "\n",
        "Szukamy optymalnego punktu odciecia"
      ]
    },
    {
      "cell_type": "code",
      "metadata": {
        "id": "moe7GOKm6n0a"
      },
      "source": [
        "pred_proba_df = pd.DataFrame(logreg.predict_proba(X_test))\n",
        "threshold_list = np.arange(0.05, 1.0, 0.05)\n",
        "accuracy_list = np.array([])\n",
        "for threshold in threshold_list:\n",
        "    y_test_pred = pred_proba_df.applymap(lambda prob: 1 if prob > threshold else 0)\n",
        "    test_accuracy = accuracy_score(y_test.values,\n",
        "                                   y_test_pred[1].values.reshape(-1, 1))\n",
        "    accuracy_list = np.append(accuracy_list, test_accuracy)"
      ],
      "execution_count": 67,
      "outputs": []
    },
    {
      "cell_type": "code",
      "metadata": {
        "id": "2nfMg4KW6n0b",
        "colab": {
          "base_uri": "https://localhost:8080/",
          "height": 294
        },
        "outputId": "81d82a6c-9e4d-46dc-c6e2-b48b5a31c04b"
      },
      "source": [
        "plt.plot(range(accuracy_list.shape[0]), accuracy_list, 'o-', label='Accuracy')\n",
        "plt.title('Accuracy for different threshold values')\n",
        "plt.xlabel('Threshold')\n",
        "plt.ylabel('Accuracy')\n",
        "plt.xticks([i for i in range(1, accuracy_list.shape[0], 2)], \n",
        "           np.round(threshold_list[1::2], 1))\n",
        "plt.grid()\n",
        "plt.show();"
      ],
      "execution_count": 68,
      "outputs": [
        {
          "output_type": "display_data",
          "data": {
            "image/png": "[encoded data removed]",
            "text/plain": [
              "<Figure size 432x288 with 1 Axes>"
            ]
          },
          "metadata": {
            "needs_background": "light"
          }
        }
      ]
    },
    {
      "cell_type": "code",
      "metadata": {
        "id": "nnxXbcpVZufj"
      },
      "source": [
        "#porownanie logistycznej regresjii z innymi klasyfikatorami = na ten moment uznajmy, ze znamy ich tylko nazwy"
      ],
      "execution_count": null,
      "outputs": []
    },
    {
      "cell_type": "code",
      "metadata": {
        "id": "84yC7GVaZLey"
      },
      "source": [
        "MLA = [logreg, \n",
        "       ensemble.RandomForestClassifier(),\n",
        "\n",
        "       tree.DecisionTreeClassifier(),\n",
        "       XGBClassifier(),\n",
        "       AdaBoostClassifier(),\n",
        "       GradientBoostingClassifier()\n",
        "    ]"
      ],
      "execution_count": 114,
      "outputs": []
    },
    {
      "cell_type": "code",
      "metadata": {
        "id": "02ZNfE7sZYdL"
      },
      "source": [
        "def compare_algorithms2df(MLA, X_train, X_test, y_train, y_test, sorted_by_measure='accuracy'):\n",
        "  #show grid with compared results - accuracy, recall, ppv, f1-measure, mcc\n",
        "  \n",
        "  MLA_columns = []\n",
        "  MLA_compare = pd.DataFrame(columns = MLA_columns)\n",
        "\n",
        "\n",
        "  row_index = 0\n",
        "  for alg in MLA:\n",
        "\n",
        "    predicted = alg.fit(X_train, y_train).predict(X_test)\n",
        "    fp, tp, th = roc_curve(y_test, predicted)\n",
        "    MLA_name = alg.__class__.__name__\n",
        "    MLA_compare.loc[row_index,'MLA Name'] = MLA_name\n",
        "    MLA_compare.loc[row_index, 'MLA Train Accuracy'] = round(alg.score(X_train, y_train), 4)\n",
        "    MLA_compare.loc[row_index, 'MLA Test Accuracy'] = round(alg.score(X_test, y_test), 4)\n",
        "    MLA_compare.loc[row_index, 'MLA Precission'] = precision_score(y_test, predicted)\n",
        "    MLA_compare.loc[row_index, 'MLA Recall'] = recall_score(y_test, predicted)\n",
        "    MLA_compare.loc[row_index, 'MLA AUC'] = auc(fp, tp)\n",
        "    row_index+=1\n",
        "  \n",
        "  MLA_compare.sort_values(by = ['MLA AUC'], ascending = False, inplace = True)    \n",
        "  return MLA_compare\n",
        "\n",
        "\n",
        "def roc_curve_MLA(MLA,X_train, X_test, y_train, y_test):\n",
        "  index = 1\n",
        "  for alg in MLA:\n",
        "\n",
        "\n",
        "      predicted = alg.fit(X_train, y_train).predict(X_test)\n",
        "      fp, tp, th = roc_curve(y_test, predicted)\n",
        "      roc_auc_mla = auc(fp, tp)\n",
        "      MLA_name = alg.__class__.__name__\n",
        "      plt.plot(fp, tp, lw=2, alpha=0.3, label='ROC %s (AUC = %0.2f)'  % (MLA_name, roc_auc_mla))\n",
        "\n",
        "      index+=1\n",
        "\n",
        "  plt.title('ROC Curve comparison')\n",
        "  plt.legend(bbox_to_anchor=(1.05, 1), loc=2, borderaxespad=0.)\n",
        "  plt.plot([0,1],[0,1],'r--')\n",
        "  plt.xlim([0,1])\n",
        "  plt.ylim([0,1])\n",
        "  plt.ylabel('True Positive Rate')\n",
        "  plt.xlabel('False Positive Rate')    \n",
        "  plt.show()"
      ],
      "execution_count": 115,
      "outputs": []
    },
    {
      "cell_type": "code",
      "metadata": {
        "colab": {
          "base_uri": "https://localhost:8080/",
          "height": 294
        },
        "id": "F_AAgSe2ZcPo",
        "outputId": "0733fef8-3542-4194-d4e2-0edb6fd6c8dc"
      },
      "source": [
        "roc_curve_MLA(MLA,X_train, X_test, y_train, y_test)"
      ],
      "execution_count": 116,
      "outputs": [
        {
          "output_type": "display_data",
          "data": {
            "image/png": "[encoded data removed]",
            "text/plain": [
              "<Figure size 432x288 with 1 Axes>"
            ]
          },
          "metadata": {
            "needs_background": "light"
          }
        }
      ]
    },
    {
      "cell_type": "code",
      "metadata": {
        "colab": {
          "base_uri": "https://localhost:8080/",
          "height": 232
        },
        "id": "m57tOVr-ZgcE",
        "outputId": "53affad4-6fb8-403f-fea6-66557b2b691f"
      },
      "source": [
        "df_ml = compare_algorithms2df(MLA,X_train, X_test, y_train, y_test)\n",
        "df_ml"
      ],
      "execution_count": 117,
      "outputs": [
        {
          "output_type": "execute_result",
          "data": {
            "text/html": [
              "<div>\n",
              "<style scoped>\n",
              "    .dataframe tbody tr th:only-of-type {\n",
              "        vertical-align: middle;\n",
              "    }\n",
              "\n",
              "    .dataframe tbody tr th {\n",
              "        vertical-align: top;\n",
              "    }\n",
              "\n",
              "    .dataframe thead th {\n",
              "        text-align: right;\n",
              "    }\n",
              "</style>\n",
              "<table border=\"1\" class=\"dataframe\">\n",
              "  <thead>\n",
              "    <tr style=\"text-align: right;\">\n",
              "      <th></th>\n",
              "      <th>MLA Name</th>\n",
              "      <th>MLA Train Accuracy</th>\n",
              "      <th>MLA Test Accuracy</th>\n",
              "      <th>MLA Precission</th>\n",
              "      <th>MLA Recall</th>\n",
              "      <th>MLA AUC</th>\n",
              "    </tr>\n",
              "  </thead>\n",
              "  <tbody>\n",
              "    <tr>\n",
              "      <th>0</th>\n",
              "      <td>LogisticRegression</td>\n",
              "      <td>0.7913</td>\n",
              "      <td>0.7948</td>\n",
              "      <td>0.718447</td>\n",
              "      <td>0.74</td>\n",
              "      <td>0.783690</td>\n",
              "    </tr>\n",
              "    <tr>\n",
              "      <th>3</th>\n",
              "      <td>XGBClassifier</td>\n",
              "      <td>0.8138</td>\n",
              "      <td>0.7985</td>\n",
              "      <td>0.750000</td>\n",
              "      <td>0.69</td>\n",
              "      <td>0.776548</td>\n",
              "    </tr>\n",
              "    <tr>\n",
              "      <th>5</th>\n",
              "      <td>GradientBoostingClassifier</td>\n",
              "      <td>0.8186</td>\n",
              "      <td>0.7985</td>\n",
              "      <td>0.761364</td>\n",
              "      <td>0.67</td>\n",
              "      <td>0.772500</td>\n",
              "    </tr>\n",
              "    <tr>\n",
              "      <th>4</th>\n",
              "      <td>AdaBoostClassifier</td>\n",
              "      <td>0.8042</td>\n",
              "      <td>0.7873</td>\n",
              "      <td>0.721649</td>\n",
              "      <td>0.70</td>\n",
              "      <td>0.769643</td>\n",
              "    </tr>\n",
              "    <tr>\n",
              "      <th>1</th>\n",
              "      <td>RandomForestClassifier</td>\n",
              "      <td>0.8186</td>\n",
              "      <td>0.8022</td>\n",
              "      <td>0.821918</td>\n",
              "      <td>0.60</td>\n",
              "      <td>0.761310</td>\n",
              "    </tr>\n",
              "    <tr>\n",
              "      <th>2</th>\n",
              "      <td>DecisionTreeClassifier</td>\n",
              "      <td>0.8186</td>\n",
              "      <td>0.8022</td>\n",
              "      <td>0.821918</td>\n",
              "      <td>0.60</td>\n",
              "      <td>0.761310</td>\n",
              "    </tr>\n",
              "  </tbody>\n",
              "</table>\n",
              "</div>"
            ],
            "text/plain": [
              "                     MLA Name  MLA Train Accuracy  ...  MLA Recall   MLA AUC\n",
              "0          LogisticRegression              0.7913  ...        0.74  0.783690\n",
              "3               XGBClassifier              0.8138  ...        0.69  0.776548\n",
              "5  GradientBoostingClassifier              0.8186  ...        0.67  0.772500\n",
              "4          AdaBoostClassifier              0.8042  ...        0.70  0.769643\n",
              "1      RandomForestClassifier              0.8186  ...        0.60  0.761310\n",
              "2      DecisionTreeClassifier              0.8186  ...        0.60  0.761310\n",
              "\n",
              "[6 rows x 6 columns]"
            ]
          },
          "metadata": {},
          "execution_count": 117
        }
      ]
    },
    {
      "cell_type": "code",
      "metadata": {
        "id": "j9ITIgGKZgXq"
      },
      "source": [
        "#zad2\n",
        "#Korzystajac z dokumentacji\n",
        "#https://scikit-learn.org/stable/modules/generated/sklearn.linear_model.LogisticRegression.html\n",
        "#zrob zestawienie w jak dl_ml, tylko dla 3 zestawow regresjii logistycznej\n",
        "# 1) model1: C:0.5, regularyzacja L1\n",
        "# 2) model2: maksymalna liczba iteracji: 500, solver newton\n",
        "# 3) model3: toleracja na blad 0.01\n",
        "\n",
        "\n",
        "\n"
      ],
      "execution_count": null,
      "outputs": []
    }
  ]
}