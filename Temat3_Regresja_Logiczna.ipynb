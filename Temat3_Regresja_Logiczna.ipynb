{
  "nbformat": 4,
  "nbformat_minor": 0,
  "metadata": {
    "celltoolbar": "Slideshow",
    "kernelspec": {
      "display_name": "Python 3",
      "language": "python",
      "name": "python3"
    },
    "language_info": {
      "codemirror_mode": {
        "name": "ipython",
        "version": 3
      },
      "file_extension": ".py",
      "mimetype": "text/x-python",
      "name": "python",
      "nbconvert_exporter": "python",
      "pygments_lexer": "ipython3",
      "version": "3.7.7"
    },
    "toc": {
      "base_numbering": 1,
      "nav_menu": {},
      "number_sections": true,
      "sideBar": true,
      "skip_h1_title": false,
      "title_cell": "Table of Contents",
      "title_sidebar": "Contents",
      "toc_cell": true,
      "toc_position": {},
      "toc_section_display": true,
      "toc_window_display": false
    },
    "colab": {
      "name": "Regresja_Logiczna.ipynb",
      "provenance": [],
      "collapsed_sections": []
    }
  },
  "cells": [
    {
      "cell_type": "markdown",
      "metadata": {
        "toc": true,
        "id": "JiX8Gwjq6nz1"
      },
      "source": [
        "<h1>Table of Contents<span class=\"tocSkip\"></span></h1>\n",
        "<div class=\"toc\"><ul class=\"toc-item\"><li><span><a href=\"#Logistic-Regression\" data-toc-modified-id=\"Logistic-Regression-1\"><span class=\"toc-item-num\">1&nbsp;&nbsp;</span>Regresja logistyczna</a></span><ul class=\"toc-item\"><li><span><a href=\"#Important-considerations\" data-toc-modified-id=\"Important-considerations-1.1\"><span class=\"toc-item-num\">1.1&nbsp;&nbsp;</span>Important considerations</a></span><ul class=\"toc-item\"><li><span><a href=\"#Can-we-build-a-model-that-will-predict-the-contents-of-one-of-those-categorical-columns-with-NAs?\" data-toc-modified-id=\"Can-we-build-a-model-that-will-predict-the-contents-of-one-of-those-categorical-columns-with-NAs?-1.1.1\"><span class=\"toc-item-num\">1.1.1&nbsp;&nbsp;</span>Can we build a model that will predict the contents of one of those categorical columns with NAs?</a></span></li><li><span><a href=\"#Recursive-Feature-Elimination\" data-toc-modified-id=\"Recursive-Feature-Elimination-1.1.2\"><span class=\"toc-item-num\">1.1.2&nbsp;&nbsp;</span>Recursive Feature Elimination</a></span></li></ul></li><li><span><a href=\"#Building-the-model\" data-toc-modified-id=\"Building-the-model-1.2\"><span class=\"toc-item-num\">1.2&nbsp;&nbsp;</span>Building the model</a></span><ul class=\"toc-item\"><li><span><a href=\"#P-Values-and-feature-selection\" data-toc-modified-id=\"P-Values-and-feature-selection-1.2.1\"><span class=\"toc-item-num\">1.2.1&nbsp;&nbsp;</span>P-Values and feature selection</a></span></li><li><span><a href=\"#The-Logit-model\" data-toc-modified-id=\"The-Logit-model-1.2.2\"><span class=\"toc-item-num\">1.2.2&nbsp;&nbsp;</span>The Logit model</a></span></li><li><span><a href=\"#ROC-Curve\" data-toc-modified-id=\"ROC-Curve-1.2.3\"><span class=\"toc-item-num\">1.2.3&nbsp;&nbsp;</span>ROC Curve</a></span></li><li><span><a href=\"#Explore-logit-predictions\" data-toc-modified-id=\"Explore-logit-predictions-1.2.4\"><span class=\"toc-item-num\">1.2.4&nbsp;&nbsp;</span>Explore logit predictions</a></span></li></ul></li><li><span><a href=\"#Default-Dataset\" data-toc-modified-id=\"Default-Dataset-1.3\"><span class=\"toc-item-num\">1.3&nbsp;&nbsp;</span>Default Dataset</a></span></li><li><span><a href=\"#Next-steps\" data-toc-modified-id=\"Next-steps-1.4\"><span class=\"toc-item-num\">1.4&nbsp;&nbsp;</span>Next steps</a></span></li></ul></li></ul></div>"
      ]
    },
    {
      "cell_type": "markdown",
      "metadata": {
        "id": "1-oxpGbi6nz8"
      },
      "source": [
        "# Logistic Regression\n",
        "\n",
        "Regresja logistyczna jest algorytmem klasyfikacji uczenia maszynowego, który jest używany do przewidywania prawdopodobieństwa kategorycznej zmiennej zależnej. W regresji logistycznej, zmienna zależna jest zmienną binarną, która zawiera dane zakodowane jako 1 (tak, sukces, itp.) lub 0 (nie, porażka, itp.). Innymi słowy, model regresji logistycznej przewiduje P(Y=1) jako funkcję X.\n",
        "\n",
        "Działa to bardzo podobnie do Regresji Liniowej, z tym wyjątkiem, że funkcją optymalizującą nie jest OLS, ale [_maximum likelihood_](https://en.wikipedia.org/wiki/Maximum_likelihood_estimation)."
      ]
    },
    {
      "cell_type": "markdown",
      "metadata": {
        "id": "J4vVu5vc6nz-"
      },
      "source": [
        "## Ważne informacje\n",
        "\n",
        "- Używamy regresji logistycznej, aby wytrenować model do przewidywania między 2 klasami: Yes/No, Black/White, True/False. Jeśli potrzebujemy przewidzieć więcej niż dwie klasy, musimy zbudować pewne artefakty regresji logistycznej, które zostaną wyjaśnione na końcu tego zeszytu.\n",
        "- Żadna zmienna zależna(**y**) nie powinna znajdować się wśród zestawu cech(**X**). Należy zbadać korelację pomiędzy cechami oddzielnie.\n",
        "- Dane wejściowe(**X**) zostaną poddane normalizacji i standaryzacji.\n",
        "Wyjściem regresji logistycznej jest zawsze log prawdopodobieństwa. Będziemy analizować to pojęcie w dalszej części ćwiczenia.\n",
        "\n",
        "Wyjściem regresji logistycznej jest zawsze log prawdopodobieństwa. Będziemy analizować to pojęcie w dalszej części ćwiczenia."
      ]
    },
    {
      "cell_type": "code",
      "metadata": {
        "id": "ZkDQaA2_6n0A"
      },
      "source": [
        "import pandas as pd\n",
        "import matplotlib.pyplot as plt\n",
        "import numpy as np\n",
        "import seaborn as sns\n",
        "import statsmodels.api as sm\n",
        "\n",
        "from sklearn import metrics\n",
        "from sklearn.preprocessing import OneHotEncoder, LabelEncoder, LabelBinarizer\n",
        "from sklearn.pipeline import make_pipeline\n",
        "from sklearn_pandas import DataFrameMapper\n",
        "from sklearn.feature_selection import RFE\n",
        "from sklearn.linear_model import LogisticRegression\n",
        "from sklearn.model_selection import train_test_split\n",
        "from sklearn.metrics import confusion_matrix, classification_report\n",
        "from sklearn.metrics import roc_auc_score, roc_curve, accuracy_score\n",
        "from matplotlib.gridspec import GridSpec"
      ],
      "execution_count": null,
      "outputs": []
    },
    {
      "cell_type": "code",
      "metadata": {
        "id": "QuVBSE506n0C",
        "outputId": "a43cfc12-be00-4e69-bf0d-f2a0f508480f"
      },
      "source": [
        "data = pd.read_csv('./data/houseprices_prepared.csv.gz')\n",
        "data.head()"
      ],
      "execution_count": null,
      "outputs": [
        {
          "data": {
            "text/html": [
              "<div>\n",
              "<style scoped>\n",
              "    .dataframe tbody tr th:only-of-type {\n",
              "        vertical-align: middle;\n",
              "    }\n",
              "\n",
              "    .dataframe tbody tr th {\n",
              "        vertical-align: top;\n",
              "    }\n",
              "\n",
              "    .dataframe thead th {\n",
              "        text-align: right;\n",
              "    }\n",
              "</style>\n",
              "<table border=\"1\" class=\"dataframe\">\n",
              "  <thead>\n",
              "    <tr style=\"text-align: right;\">\n",
              "      <th></th>\n",
              "      <th>Id</th>\n",
              "      <th>MSSubClass</th>\n",
              "      <th>MSZoning</th>\n",
              "      <th>LotArea</th>\n",
              "      <th>Street</th>\n",
              "      <th>Alley</th>\n",
              "      <th>LotShape</th>\n",
              "      <th>LandContour</th>\n",
              "      <th>Utilities</th>\n",
              "      <th>LotConfig</th>\n",
              "      <th>...</th>\n",
              "      <th>PoolQC</th>\n",
              "      <th>Fence</th>\n",
              "      <th>MiscFeature</th>\n",
              "      <th>MiscVal</th>\n",
              "      <th>MoSold</th>\n",
              "      <th>YrSold</th>\n",
              "      <th>SaleType</th>\n",
              "      <th>SaleCondition</th>\n",
              "      <th>SalePrice</th>\n",
              "      <th>LotFrontage</th>\n",
              "    </tr>\n",
              "  </thead>\n",
              "  <tbody>\n",
              "    <tr>\n",
              "      <th>0</th>\n",
              "      <td>8</td>\n",
              "      <td>60</td>\n",
              "      <td>RL</td>\n",
              "      <td>10382</td>\n",
              "      <td>Pave</td>\n",
              "      <td>NaN</td>\n",
              "      <td>IR1</td>\n",
              "      <td>Lvl</td>\n",
              "      <td>AllPub</td>\n",
              "      <td>Corner</td>\n",
              "      <td>...</td>\n",
              "      <td>NaN</td>\n",
              "      <td>NaN</td>\n",
              "      <td>Shed</td>\n",
              "      <td>350</td>\n",
              "      <td>11</td>\n",
              "      <td>2009</td>\n",
              "      <td>WD</td>\n",
              "      <td>Normal</td>\n",
              "      <td>200000</td>\n",
              "      <td>80.115468</td>\n",
              "    </tr>\n",
              "    <tr>\n",
              "      <th>1</th>\n",
              "      <td>51</td>\n",
              "      <td>60</td>\n",
              "      <td>RL</td>\n",
              "      <td>13869</td>\n",
              "      <td>Pave</td>\n",
              "      <td>NaN</td>\n",
              "      <td>IR2</td>\n",
              "      <td>Lvl</td>\n",
              "      <td>AllPub</td>\n",
              "      <td>Corner</td>\n",
              "      <td>...</td>\n",
              "      <td>NaN</td>\n",
              "      <td>NaN</td>\n",
              "      <td>NaN</td>\n",
              "      <td>0</td>\n",
              "      <td>7</td>\n",
              "      <td>2007</td>\n",
              "      <td>WD</td>\n",
              "      <td>Normal</td>\n",
              "      <td>177000</td>\n",
              "      <td>76.703758</td>\n",
              "    </tr>\n",
              "    <tr>\n",
              "      <th>2</th>\n",
              "      <td>112</td>\n",
              "      <td>80</td>\n",
              "      <td>RL</td>\n",
              "      <td>7750</td>\n",
              "      <td>Pave</td>\n",
              "      <td>NaN</td>\n",
              "      <td>IR1</td>\n",
              "      <td>Lvl</td>\n",
              "      <td>AllPub</td>\n",
              "      <td>Inside</td>\n",
              "      <td>...</td>\n",
              "      <td>NaN</td>\n",
              "      <td>NaN</td>\n",
              "      <td>NaN</td>\n",
              "      <td>0</td>\n",
              "      <td>4</td>\n",
              "      <td>2010</td>\n",
              "      <td>WD</td>\n",
              "      <td>Normal</td>\n",
              "      <td>180000</td>\n",
              "      <td>67.285313</td>\n",
              "    </tr>\n",
              "    <tr>\n",
              "      <th>3</th>\n",
              "      <td>148</td>\n",
              "      <td>60</td>\n",
              "      <td>RL</td>\n",
              "      <td>9505</td>\n",
              "      <td>Pave</td>\n",
              "      <td>NaN</td>\n",
              "      <td>IR1</td>\n",
              "      <td>Lvl</td>\n",
              "      <td>AllPub</td>\n",
              "      <td>CulDSac</td>\n",
              "      <td>...</td>\n",
              "      <td>NaN</td>\n",
              "      <td>NaN</td>\n",
              "      <td>NaN</td>\n",
              "      <td>0</td>\n",
              "      <td>5</td>\n",
              "      <td>2010</td>\n",
              "      <td>WD</td>\n",
              "      <td>Normal</td>\n",
              "      <td>222500</td>\n",
              "      <td>69.803112</td>\n",
              "    </tr>\n",
              "    <tr>\n",
              "      <th>4</th>\n",
              "      <td>178</td>\n",
              "      <td>50</td>\n",
              "      <td>RL</td>\n",
              "      <td>13650</td>\n",
              "      <td>Pave</td>\n",
              "      <td>NaN</td>\n",
              "      <td>Reg</td>\n",
              "      <td>Lvl</td>\n",
              "      <td>AllPub</td>\n",
              "      <td>Inside</td>\n",
              "      <td>...</td>\n",
              "      <td>NaN</td>\n",
              "      <td>NaN</td>\n",
              "      <td>NaN</td>\n",
              "      <td>0</td>\n",
              "      <td>7</td>\n",
              "      <td>2006</td>\n",
              "      <td>WD</td>\n",
              "      <td>Normal</td>\n",
              "      <td>172500</td>\n",
              "      <td>75.799522</td>\n",
              "    </tr>\n",
              "  </tbody>\n",
              "</table>\n",
              "<p>5 rows × 80 columns</p>\n",
              "</div>"
            ],
            "text/plain": [
              "    Id  MSSubClass MSZoning  LotArea Street Alley LotShape LandContour  \\\n",
              "0    8          60       RL    10382   Pave   NaN      IR1         Lvl   \n",
              "1   51          60       RL    13869   Pave   NaN      IR2         Lvl   \n",
              "2  112          80       RL     7750   Pave   NaN      IR1         Lvl   \n",
              "3  148          60       RL     9505   Pave   NaN      IR1         Lvl   \n",
              "4  178          50       RL    13650   Pave   NaN      Reg         Lvl   \n",
              "\n",
              "  Utilities LotConfig     ...      PoolQC Fence MiscFeature MiscVal MoSold  \\\n",
              "0    AllPub    Corner     ...         NaN   NaN        Shed     350     11   \n",
              "1    AllPub    Corner     ...         NaN   NaN         NaN       0      7   \n",
              "2    AllPub    Inside     ...         NaN   NaN         NaN       0      4   \n",
              "3    AllPub   CulDSac     ...         NaN   NaN         NaN       0      5   \n",
              "4    AllPub    Inside     ...         NaN   NaN         NaN       0      7   \n",
              "\n",
              "  YrSold  SaleType  SaleCondition  SalePrice  LotFrontage  \n",
              "0   2009        WD         Normal     200000    80.115468  \n",
              "1   2007        WD         Normal     177000    76.703758  \n",
              "2   2010        WD         Normal     180000    67.285313  \n",
              "3   2010        WD         Normal     222500    69.803112  \n",
              "4   2006        WD         Normal     172500    75.799522  \n",
              "\n",
              "[5 rows x 80 columns]"
            ]
          },
          "execution_count": 6,
          "metadata": {},
          "output_type": "execute_result"
        }
      ]
    },
    {
      "cell_type": "markdown",
      "metadata": {
        "id": "9xkjgOZS6n0G"
      },
      "source": [
        "Lets build a dataframe that will contain the type and number of NAs that each feature contains. We will use it to decide what variables to select. We will now from there what features are numerical and categorical, and how many contain NAs."
      ]
    },
    {
      "cell_type": "code",
      "metadata": {
        "id": "2yiuQxCi6n0H"
      },
      "source": [
        "def dataframe_metainformation(df):\n",
        "    meta = dict()\n",
        "    descr = pd.DataFrame({'dtype': df.dtypes, 'NAs': df.isna().sum()})\n",
        "    categorical_features = descr.loc[descr['dtype'] == 'object'].index.values.tolist()\n",
        "    numerical_features = descr.loc[descr['dtype'] != 'object'].index.values.tolist()\n",
        "    numerical_features_na = descr.loc[(descr['dtype'] != 'object') & (descr['NAs'] > 0)].index.values.tolist()\n",
        "    categorical_features_na = descr.loc[(descr['dtype'] == 'object') & (descr['NAs'] > 0)].index.values.tolist()\n",
        "    complete_features = descr.loc[descr['NAs'] == 0].index.values.tolist()\n",
        "    meta['description'] = descr\n",
        "    meta['categorical_features'] = categorical_features\n",
        "    meta['categorical_features'] = categorical_features\n",
        "    meta['categorical_features_na'] = categorical_features_na\n",
        "    meta['numerical_features'] = numerical_features\n",
        "    meta['numerical_features_na'] = numerical_features_na\n",
        "    meta['complete_features'] = complete_features\n",
        "    return meta\n",
        "\n",
        "def print_metainformation(meta):\n",
        "    print('Available types:', meta['description']['dtype'].unique())\n",
        "    print('{} Features'.format(meta['description'].shape[0]))\n",
        "    print('{} categorical features'.format(len(meta['categorical_features'])))\n",
        "    print('{} numerical features'.format(len(meta['numerical_features'])))\n",
        "    print('{} categorical features with NAs'.format(len(meta['categorical_features_na'])))\n",
        "    print('{} numerical features with NAs'.format(len(meta['numerical_features_na'])))\n",
        "    print('{} Complete features'.format(len(meta['complete_features'])))"
      ],
      "execution_count": null,
      "outputs": []
    },
    {
      "cell_type": "code",
      "metadata": {
        "id": "saTT0YE76n0H",
        "outputId": "58c657a3-b622-4d33-8d2d-310bc6913650"
      },
      "source": [
        "meta = dataframe_metainformation(data)\n",
        "print_metainformation(meta)"
      ],
      "execution_count": null,
      "outputs": [
        {
          "name": "stdout",
          "output_type": "stream",
          "text": [
            "Available types: [dtype('int64') dtype('O') dtype('float64')]\n",
            "80 Features\n",
            "43 categorical features\n",
            "37 numerical features\n",
            "16 categorical features with NAs\n",
            "0 numerical features with NAs\n",
            "64 Complete features\n"
          ]
        }
      ]
    },
    {
      "cell_type": "markdown",
      "metadata": {
        "id": "vRNDQdXv6n0I"
      },
      "source": [
        "### Can we build a model that will predict the contents of one of those categorical columns with NAs?\n",
        "\n",
        "Let's try! I will start with `FireplaceQu` that presents a decent amount of NAs.\n",
        "\n",
        "Define **target** and **features** to hold the variable we want to predict and the features I can use (those with no NAs). We remove the `Id` from the list of features to be used by our model. Finally, we establish what is the source dataset, by using only those rows from `data` that are not equal to NA.\n",
        "\n",
        "Lastly, we will encode all categorical features (but the target) to have a proper setup for running the logistic regression. To encode, we'll use OneHotEncoding by calling `get_dummies`. The resulting dataset will have all numerical features."
      ]
    },
    {
      "cell_type": "code",
      "metadata": {
        "scrolled": true,
        "id": "Pe68zgQW6n0J",
        "outputId": "649b2f19-52af-42e0-b313-64f239b5f097"
      },
      "source": [
        "target = 'FireplaceQu'\n",
        "features = meta['complete_features']\n",
        "features.remove('Id')\n",
        "print('Selecting {} features'.format(len(features)))\n",
        "\n",
        "data_complete = data.filter(features + [target])\n",
        "data_complete = data_complete[data_complete[target].notnull()]\n",
        "\n",
        "meta_complete = dataframe_metainformation(data_complete)\n",
        "print_metainformation(meta_complete)\n",
        "dummy_columns = meta_complete['categorical_features']\n",
        "dummy_columns.remove(target)\n",
        "data_encoded = pd.get_dummies(data_complete, columns=dummy_columns)\n",
        "data_encoded.head(3)"
      ],
      "execution_count": null,
      "outputs": [
        {
          "name": "stdout",
          "output_type": "stream",
          "text": [
            "Selecting 63 features\n",
            "Available types: [dtype('int64') dtype('O') dtype('float64')]\n",
            "64 Features\n",
            "28 categorical features\n",
            "36 numerical features\n",
            "0 categorical features with NAs\n",
            "0 numerical features with NAs\n",
            "64 Complete features\n"
          ]
        },
        {
          "data": {
            "text/html": [
              "<div>\n",
              "<style scoped>\n",
              "    .dataframe tbody tr th:only-of-type {\n",
              "        vertical-align: middle;\n",
              "    }\n",
              "\n",
              "    .dataframe tbody tr th {\n",
              "        vertical-align: top;\n",
              "    }\n",
              "\n",
              "    .dataframe thead th {\n",
              "        text-align: right;\n",
              "    }\n",
              "</style>\n",
              "<table border=\"1\" class=\"dataframe\">\n",
              "  <thead>\n",
              "    <tr style=\"text-align: right;\">\n",
              "      <th></th>\n",
              "      <th>MSSubClass</th>\n",
              "      <th>LotArea</th>\n",
              "      <th>OverallQual</th>\n",
              "      <th>OverallCond</th>\n",
              "      <th>YearBuilt</th>\n",
              "      <th>YearRemodAdd</th>\n",
              "      <th>MasVnrArea</th>\n",
              "      <th>BsmtFinSF1</th>\n",
              "      <th>BsmtFinSF2</th>\n",
              "      <th>BsmtUnfSF</th>\n",
              "      <th>...</th>\n",
              "      <th>SaleType_ConLD</th>\n",
              "      <th>SaleType_ConLI</th>\n",
              "      <th>SaleType_ConLw</th>\n",
              "      <th>SaleType_New</th>\n",
              "      <th>SaleType_WD</th>\n",
              "      <th>SaleCondition_Abnorml</th>\n",
              "      <th>SaleCondition_Alloca</th>\n",
              "      <th>SaleCondition_Family</th>\n",
              "      <th>SaleCondition_Normal</th>\n",
              "      <th>SaleCondition_Partial</th>\n",
              "    </tr>\n",
              "  </thead>\n",
              "  <tbody>\n",
              "    <tr>\n",
              "      <th>0</th>\n",
              "      <td>60</td>\n",
              "      <td>10382</td>\n",
              "      <td>7</td>\n",
              "      <td>6</td>\n",
              "      <td>1973</td>\n",
              "      <td>1973</td>\n",
              "      <td>240</td>\n",
              "      <td>859</td>\n",
              "      <td>32</td>\n",
              "      <td>216</td>\n",
              "      <td>...</td>\n",
              "      <td>0</td>\n",
              "      <td>0</td>\n",
              "      <td>0</td>\n",
              "      <td>0</td>\n",
              "      <td>1</td>\n",
              "      <td>0</td>\n",
              "      <td>0</td>\n",
              "      <td>0</td>\n",
              "      <td>1</td>\n",
              "      <td>0</td>\n",
              "    </tr>\n",
              "    <tr>\n",
              "      <th>2</th>\n",
              "      <td>80</td>\n",
              "      <td>7750</td>\n",
              "      <td>7</td>\n",
              "      <td>5</td>\n",
              "      <td>2000</td>\n",
              "      <td>2000</td>\n",
              "      <td>0</td>\n",
              "      <td>250</td>\n",
              "      <td>0</td>\n",
              "      <td>134</td>\n",
              "      <td>...</td>\n",
              "      <td>0</td>\n",
              "      <td>0</td>\n",
              "      <td>0</td>\n",
              "      <td>0</td>\n",
              "      <td>1</td>\n",
              "      <td>0</td>\n",
              "      <td>0</td>\n",
              "      <td>0</td>\n",
              "      <td>1</td>\n",
              "      <td>0</td>\n",
              "    </tr>\n",
              "    <tr>\n",
              "      <th>3</th>\n",
              "      <td>60</td>\n",
              "      <td>9505</td>\n",
              "      <td>7</td>\n",
              "      <td>5</td>\n",
              "      <td>2001</td>\n",
              "      <td>2001</td>\n",
              "      <td>180</td>\n",
              "      <td>0</td>\n",
              "      <td>0</td>\n",
              "      <td>884</td>\n",
              "      <td>...</td>\n",
              "      <td>0</td>\n",
              "      <td>0</td>\n",
              "      <td>0</td>\n",
              "      <td>0</td>\n",
              "      <td>1</td>\n",
              "      <td>0</td>\n",
              "      <td>0</td>\n",
              "      <td>0</td>\n",
              "      <td>1</td>\n",
              "      <td>0</td>\n",
              "    </tr>\n",
              "  </tbody>\n",
              "</table>\n",
              "<p>3 rows × 203 columns</p>\n",
              "</div>"
            ],
            "text/plain": [
              "   MSSubClass  LotArea  OverallQual  OverallCond  YearBuilt  YearRemodAdd  \\\n",
              "0          60    10382            7            6       1973          1973   \n",
              "2          80     7750            7            5       2000          2000   \n",
              "3          60     9505            7            5       2001          2001   \n",
              "\n",
              "   MasVnrArea  BsmtFinSF1  BsmtFinSF2  BsmtUnfSF          ...            \\\n",
              "0         240         859          32        216          ...             \n",
              "2           0         250           0        134          ...             \n",
              "3         180           0           0        884          ...             \n",
              "\n",
              "   SaleType_ConLD  SaleType_ConLI  SaleType_ConLw  SaleType_New  SaleType_WD  \\\n",
              "0               0               0               0             0            1   \n",
              "2               0               0               0             0            1   \n",
              "3               0               0               0             0            1   \n",
              "\n",
              "   SaleCondition_Abnorml  SaleCondition_Alloca  SaleCondition_Family  \\\n",
              "0                      0                     0                     0   \n",
              "2                      0                     0                     0   \n",
              "3                      0                     0                     0   \n",
              "\n",
              "   SaleCondition_Normal  SaleCondition_Partial  \n",
              "0                     1                      0  \n",
              "2                     1                      0  \n",
              "3                     1                      0  \n",
              "\n",
              "[3 rows x 203 columns]"
            ]
          },
          "execution_count": 9,
          "metadata": {},
          "output_type": "execute_result"
        }
      ]
    },
    {
      "cell_type": "markdown",
      "metadata": {
        "id": "uzQLgLpp6n0K"
      },
      "source": [
        "How many occurences do we have from each class of the target variable?"
      ]
    },
    {
      "cell_type": "code",
      "metadata": {
        "id": "_sPbIvkB6n0L",
        "outputId": "7db02cdb-b21d-4ee3-e202-8ed82d42136e"
      },
      "source": [
        "sns.countplot(x='FireplaceQu', data=data_encoded);\n",
        "plt.show();"
      ],
      "execution_count": null,
      "outputs": [
        {
          "data": {
            "image/png": "[encoded data removed]",
            "text/plain": [
              "<Figure size 432x288 with 1 Axes>"
            ]
          },
          "metadata": {
            "needs_background": "light"
          },
          "output_type": "display_data"
        }
      ]
    },
    {
      "cell_type": "markdown",
      "metadata": {
        "id": "0IoueAx56n0M"
      },
      "source": [
        "Since we've very few occurences of classes `Ex`, `Fa` and `Po`, we will remove them from the training set, and we will train our model to learn to classify only between `TA` or `Gd`."
      ]
    },
    {
      "cell_type": "code",
      "metadata": {
        "id": "_TYRsaj46n0M",
        "outputId": "9cf6920b-6aaf-4de9-e59d-11ac021e1479"
      },
      "source": [
        "data_encoded = data_encoded[(data_encoded[target] != 'Ex') & \n",
        "                            (data_encoded[target] != 'Fa') & \n",
        "                            (data_encoded[target] != 'Po')]\n",
        "data_encoded[target] = data_encoded[target].map({'TA':0, 'Gd':1})\n",
        "sns.countplot(x='FireplaceQu', data=data_encoded);"
      ],
      "execution_count": null,
      "outputs": [
        {
          "data": {
            "image/png": "[encoded data removed]",
            "text/plain": [
              "<Figure size 432x288 with 1 Axes>"
            ]
          },
          "metadata": {
            "needs_background": "light"
          },
          "output_type": "display_data"
        }
      ]
    },
    {
      "cell_type": "markdown",
      "metadata": {
        "id": "rGXvwGxL6n0N"
      },
      "source": [
        "Set the list of features prepared"
      ]
    },
    {
      "cell_type": "code",
      "metadata": {
        "id": "EkyrZ2ON6n0N"
      },
      "source": [
        "features = list(data_encoded)\n",
        "features.remove(target)"
      ],
      "execution_count": null,
      "outputs": []
    },
    {
      "cell_type": "markdown",
      "metadata": {
        "id": "LapYhmki6n0O"
      },
      "source": [
        "### Recursive Feature Elimination\n",
        "Recursive Feature Elimination (RFE) is based on the idea to repeatedly construct a model and choose either the best or worst performing feature, setting the feature aside and then repeating the process with the rest of the features. This process is applied until all features in the dataset are exhausted. The goal of RFE is to select features by recursively considering smaller and smaller sets of features."
      ]
    },
    {
      "cell_type": "code",
      "metadata": {
        "id": "QwKKk1ta6n0O",
        "outputId": "8466da90-07d1-43fb-ab04-6ebcb3e333fa"
      },
      "source": [
        "from sklearn.exceptions import ConvergenceWarning\n",
        "import warnings\n",
        "warnings.filterwarnings(action='ignore', category=ConvergenceWarning)\n",
        "\n",
        "X = data_encoded.loc[:, features]\n",
        "y = data_encoded.loc[:, target]\n",
        "\n",
        "logreg = LogisticRegression(solver='lbfgs', max_iter=250)\n",
        "rfe = RFE(logreg, 15)\n",
        "rfe = rfe.fit(X, y)\n",
        "\n",
        "print('Selected features: {}'.format(list(data_encoded.loc[:, rfe.support_])))"
      ],
      "execution_count": null,
      "outputs": [
        {
          "name": "stdout",
          "output_type": "stream",
          "text": [
            "Selected features: ['LandContour_Bnk', 'Neighborhood_Crawfor', 'Neighborhood_Edwards', 'Neighborhood_NWAmes', 'Neighborhood_NoRidge', 'Neighborhood_Sawyer', 'HouseStyle_2Story', 'RoofStyle_Hip', 'RoofMatl_Metal', 'Exterior1st_CemntBd', 'Exterior1st_MetalSd', 'Exterior2nd_Brk Cmn', 'PavedDrive_P', 'SaleType_ConLw', 'SaleCondition_Normal']\n"
          ]
        }
      ]
    },
    {
      "cell_type": "markdown",
      "metadata": {
        "id": "aEcC-V596n0P"
      },
      "source": [
        "## Building the model\n",
        "\n",
        "Set the variables $X$ and $Y$ to the contents of the dataframe I want to use, and fit a `Logit` model. Print a summary to check the results. We're using the `statmodels` package because we want easy access to all the statistical indicators that logistic regression can lead to."
      ]
    },
    {
      "cell_type": "code",
      "metadata": {
        "id": "rvW-eMuQ6n0Q",
        "outputId": "13616acd-6057-4eab-a496-e91e36ce544a"
      },
      "source": [
        "X = data_encoded.loc[:, list(data_encoded.loc[:, rfe.support_])]\n",
        "y = data_encoded.loc[:, target]\n",
        "\n",
        "logit_model=sm.Logit(y, X)\n",
        "result=logit_model.fit(method='bfgs')\n",
        "print(result.summary2())"
      ],
      "execution_count": null,
      "outputs": [
        {
          "name": "stdout",
          "output_type": "stream",
          "text": [
            "Warning: Maximum number of iterations has been exceeded.\n",
            "         Current function value: 0.617490\n",
            "         Iterations: 35\n",
            "         Function evaluations: 37\n",
            "         Gradient evaluations: 37\n",
            "                           Results: Logit\n",
            "====================================================================\n",
            "Model:                 Logit             Pseudo R-squared:  0.103   \n",
            "Dependent Variable:    FireplaceQu       AIC:               885.8414\n",
            "Date:                  2019-03-07 07:47  BIC:               953.9569\n",
            "No. Observations:      693               Log-Likelihood:    -427.92 \n",
            "Df Model:              14                LL-Null:           -477.11 \n",
            "Df Residuals:          678               Scale:             1.0000  \n",
            "Converged:             0.0000                                       \n",
            "--------------------------------------------------------------------\n",
            "                      Coef.  Std.Err.    z    P>|z|   [0.025  0.975]\n",
            "--------------------------------------------------------------------\n",
            "LandContour_Bnk       0.2494   0.4210  0.5924 0.5536 -0.5757  1.0745\n",
            "Neighborhood_Crawfor  0.5756   0.3572  1.6114 0.1071 -0.1245  1.2758\n",
            "Neighborhood_Edwards  1.2920   0.5774  2.2375 0.0253  0.1603  2.4237\n",
            "Neighborhood_NWAmes  -1.3966   0.3278 -4.2603 0.0000 -2.0391 -0.7541\n",
            "Neighborhood_NoRidge -2.1248   0.5232 -4.0612 0.0000 -3.1502 -1.0993\n",
            "Neighborhood_Sawyer  -1.4246   0.5047 -2.8227 0.0048 -2.4137 -0.4354\n",
            "HouseStyle_2Story    -0.1497   0.1673 -0.8947 0.3710 -0.4777  0.1783\n",
            "RoofStyle_Hip         0.6867   0.1921  3.5752 0.0003  0.3102  1.0631\n",
            "RoofMatl_Metal       -0.3261   2.0392 -0.1599 0.8729 -4.3228  3.6706\n",
            "Exterior1st_CemntBd   1.0713   0.4362  2.4561 0.0140  0.2164  1.9261\n",
            "Exterior1st_MetalSd   0.5341   0.2790  1.9141 0.0556 -0.0128  1.0810\n",
            "Exterior2nd_Brk Cmn  -1.0012   1.1950 -0.8378 0.4021 -3.3434  1.3410\n",
            "PavedDrive_P          1.5465   0.7389  2.0930 0.0364  0.0983  2.9947\n",
            "SaleType_ConLw        0.2409   1.2079  0.1994 0.8419 -2.1265  2.6083\n",
            "SaleCondition_Normal -0.0482   0.1283 -0.3755 0.7073 -0.2995  0.2032\n",
            "====================================================================\n",
            "\n"
          ]
        },
        {
          "name": "stderr",
          "output_type": "stream",
          "text": [
            "/anaconda3/lib/python3.6/site-packages/statsmodels/base/model.py:496: ConvergenceWarning: Maximum Likelihood optimization failed to converge. Check mle_retvals\n",
            "  \"Check mle_retvals\", ConvergenceWarning)\n"
          ]
        }
      ]
    },
    {
      "cell_type": "markdown",
      "metadata": {
        "id": "c1ZnETjc6n0R"
      },
      "source": [
        "### P-Values and feature selection\n",
        "\n",
        "Remove those predictors with _p-values_ above 0.05\n",
        "\n",
        "Mark those features with a p-value higher thatn 0.05 (or close) to be removed from $X$, and run the logistic regression again to re-.check the p-values. From that point we'll be ready to run the model properly in sklearn."
      ]
    },
    {
      "cell_type": "code",
      "metadata": {
        "id": "GT5yfE-y6n0R",
        "outputId": "9da0d976-c3db-4448-9b8b-89a76fbd4567"
      },
      "source": [
        "to_remove = result.pvalues[result.pvalues > 0.05].index.tolist()\n",
        "X.drop(to_remove, inplace=True, axis=1)\n",
        "\n",
        "logit_model=sm.Logit(y, X)\n",
        "result=logit_model.fit(method='bfgs')\n",
        "print(result.summary2())"
      ],
      "execution_count": null,
      "outputs": [
        {
          "name": "stdout",
          "output_type": "stream",
          "text": [
            "Warning: Maximum number of iterations has been exceeded.\n",
            "         Current function value: 0.626167\n",
            "         Iterations: 35\n",
            "         Function evaluations: 37\n",
            "         Gradient evaluations: 37\n",
            "                           Results: Logit\n",
            "====================================================================\n",
            "Model:                 Logit             Pseudo R-squared:  0.090   \n",
            "Dependent Variable:    FireplaceQu       AIC:               881.8679\n",
            "Date:                  2019-03-07 07:47  BIC:               913.6551\n",
            "No. Observations:      693               Log-Likelihood:    -433.93 \n",
            "Df Model:              6                 LL-Null:           -477.11 \n",
            "Df Residuals:          686               Scale:             1.0000  \n",
            "Converged:             0.0000                                       \n",
            "--------------------------------------------------------------------\n",
            "                      Coef.  Std.Err.    z    P>|z|   [0.025  0.975]\n",
            "--------------------------------------------------------------------\n",
            "Neighborhood_Edwards  1.2222   0.5639  2.1674 0.0302  0.1170  2.3275\n",
            "Neighborhood_NWAmes  -1.5271   0.3239 -4.7149 0.0000 -2.1619 -0.8923\n",
            "Neighborhood_NoRidge -2.1543   0.4955 -4.3482 0.0000 -3.1254 -1.1833\n",
            "Neighborhood_Sawyer  -1.3592   0.4892 -2.7785 0.0055 -2.3179 -0.4004\n",
            "RoofStyle_Hip         0.7181   0.1803  3.9832 0.0001  0.3648  1.0715\n",
            "Exterior1st_CemntBd   1.0251   0.4296  2.3863 0.0170  0.1831  1.8671\n",
            "PavedDrive_P          1.6734   0.7361  2.2733 0.0230  0.2306  3.1162\n",
            "====================================================================\n",
            "\n"
          ]
        },
        {
          "name": "stderr",
          "output_type": "stream",
          "text": [
            "/anaconda3/lib/python3.6/site-packages/statsmodels/base/model.py:496: ConvergenceWarning: Maximum Likelihood optimization failed to converge. Check mle_retvals\n",
            "  \"Check mle_retvals\", ConvergenceWarning)\n"
          ]
        }
      ]
    },
    {
      "cell_type": "markdown",
      "metadata": {
        "id": "rEJ0DMke6n0T"
      },
      "source": [
        "### The Logit model\n",
        "\n",
        "Here we train the model and evaluate on the test set. The interpretation of the results obtained by calling the `classification_report` are as follows:\n",
        "\n",
        "The **precision** is the ratio tp / (tp + fp) where tp is the number of true positives and fp the number of false positives. The precision is intuitively the ability of the classifier to not label a sample as positive if it is negative.\n",
        "\n",
        "The **recall** is the ratio tp / (tp + fn) where tp is the number of true positives and fn the number of false negatives. The recall is intuitively the ability of the classifier to find all the positive samples.\n",
        "\n",
        "The **F-beta** score can be interpreted as a weighted harmonic mean of the precision and recall, where an F-beta score reaches its best value at 1 and worst score at 0.\n",
        "\n",
        "The F-beta score weights the recall more than the precision by a factor of beta. beta = 1.0 means recall and precision are equally important.\n",
        "\n",
        "The **support** is the number of occurrences of each class in y_test."
      ]
    },
    {
      "cell_type": "code",
      "metadata": {
        "id": "1uPCZDj66n0U",
        "outputId": "14928479-f06c-4985-d8e3-d3200132cda7"
      },
      "source": [
        "X_train, X_test, y_train, y_test = train_test_split(X, y, \n",
        "                                                    test_size=0.3, \n",
        "                                                    random_state=0)\n",
        "logreg = LogisticRegression(solver='lbfgs')\n",
        "logreg.fit(X_train, y_train)\n",
        "\n",
        "y_pred = logreg.predict(X_test)\n",
        "print('Accuracy on test: {:.2f}'.format(logreg.score(X_test, y_test)))\n",
        "print(confusion_matrix(y_test, y_pred))\n",
        "print(classification_report(y_test, y_pred))"
      ],
      "execution_count": null,
      "outputs": [
        {
          "name": "stdout",
          "output_type": "stream",
          "text": [
            "Accuracy on test: 0.62\n",
            "[[ 26  73]\n",
            " [  6 103]]\n",
            "              precision    recall  f1-score   support\n",
            "\n",
            "           0       0.81      0.26      0.40        99\n",
            "           1       0.59      0.94      0.72       109\n",
            "\n",
            "   micro avg       0.62      0.62      0.62       208\n",
            "   macro avg       0.70      0.60      0.56       208\n",
            "weighted avg       0.69      0.62      0.57       208\n",
            "\n"
          ]
        }
      ]
    },
    {
      "cell_type": "markdown",
      "metadata": {
        "id": "J0Zeidof6n0W"
      },
      "source": [
        "### ROC Curve\n",
        "\n",
        "The receiver operating characteristic (ROC) curve is another common tool used with binary classifiers. The dotted line represents the ROC curve of a purely random classifier; a good classifier stays as far away from that line as possible (toward the top-left corner)."
      ]
    },
    {
      "cell_type": "code",
      "metadata": {
        "id": "zDL_fABG6n0X"
      },
      "source": [
        "logit_roc_auc = roc_auc_score(y_test, logreg.predict(X_test))\n",
        "fpr, tpr, thresholds = roc_curve(y_test, logreg.predict_proba(X_test)[:,1])"
      ],
      "execution_count": null,
      "outputs": []
    },
    {
      "cell_type": "markdown",
      "metadata": {
        "id": "tkfz1QYK6n0X"
      },
      "source": [
        "Plot the FPR vs. TPR, and the diagonal line representing the null model."
      ]
    },
    {
      "cell_type": "code",
      "metadata": {
        "id": "HglPLts96n0X"
      },
      "source": [
        "def plot_roc(fpr, tpr, logit_roc_auc):\n",
        "    plt.figure()\n",
        "    plt.plot(fpr, tpr, label='Logistic Regression (area = %0.2f)' % logit_roc_auc)\n",
        "    plt.plot([0, 1], [0, 1], 'r--')\n",
        "    plt.xlim([0.0, 1.05])\n",
        "    plt.ylim([0.0, 1.05])\n",
        "    plt.xlabel('False Positive Rate')\n",
        "    plt.ylabel('True Positive Rate')\n",
        "    plt.title('ROC curve')\n",
        "    plt.legend(loc=\"lower right\")\n",
        "    # plt.savefig('Log_ROC')\n",
        "    plt.show();"
      ],
      "execution_count": null,
      "outputs": []
    },
    {
      "cell_type": "code",
      "metadata": {
        "scrolled": true,
        "id": "efHKW2eB6n0Y",
        "outputId": "92c7ca9d-a7ea-4729-ee40-94590e17723e"
      },
      "source": [
        "plot_roc(fpr, tpr, logit_roc_auc)"
      ],
      "execution_count": null,
      "outputs": [
        {
          "data": {
            "image/png": "[encoded data removed]",
            "text/plain": [
              "<Figure size 432x288 with 1 Axes>"
            ]
          },
          "metadata": {
            "needs_background": "light"
          },
          "output_type": "display_data"
        }
      ]
    },
    {
      "cell_type": "markdown",
      "metadata": {
        "id": "rOoZLtLq6n0Z"
      },
      "source": [
        "The results are very poor, and what we've got shouldn't be used in production. The proposal from this point is:\n",
        "  1. to know more about how the predictions are made in logistic regression\n",
        "  2. apply a logit to predict if the price of a house will be higher or lower than a given value"
      ]
    },
    {
      "cell_type": "markdown",
      "metadata": {
        "id": "SmXm2IpU6n0a"
      },
      "source": [
        "### Explore logit predictions\n",
        "\n",
        "What you've seen is that we irectly call the method `predict` in `logit`, which will tell me to which class each sample is classified: 0 or 1. To accomplish this, the model produces two probabilities"
      ]
    },
    {
      "cell_type": "code",
      "metadata": {
        "id": "moe7GOKm6n0a"
      },
      "source": [
        "pred_proba_df = pd.DataFrame(logreg.predict_proba(X_test))\n",
        "threshold_list = np.arange(0.05, 1.0, 0.05)\n",
        "accuracy_list = np.array([])\n",
        "for threshold in threshold_list:\n",
        "    y_test_pred = pred_proba_df.applymap(lambda prob: 1 if prob > threshold else 0)\n",
        "    test_accuracy = accuracy_score(y_test.values,\n",
        "                                   y_test_pred[1].values.reshape(-1, 1))\n",
        "    accuracy_list = np.append(accuracy_list, test_accuracy)"
      ],
      "execution_count": null,
      "outputs": []
    },
    {
      "cell_type": "markdown",
      "metadata": {
        "id": "y04-Yenc6n0b"
      },
      "source": [
        "And the plot of the array of accuracy values got from each of the probabilities."
      ]
    },
    {
      "cell_type": "code",
      "metadata": {
        "id": "2nfMg4KW6n0b",
        "outputId": "8f7e5729-f33e-44b8-a149-3086cea93356"
      },
      "source": [
        "plt.plot(range(accuracy_list.shape[0]), accuracy_list, 'o-', label='Accuracy')\n",
        "plt.title('Accuracy for different threshold values')\n",
        "plt.xlabel('Threshold')\n",
        "plt.ylabel('Accuracy')\n",
        "plt.xticks([i for i in range(1, accuracy_list.shape[0], 2)], \n",
        "           np.round(threshold_list[1::2], 1))\n",
        "plt.grid()\n",
        "plt.show();"
      ],
      "execution_count": null,
      "outputs": [
        {
          "data": {
            "image/png": "[encoded data removed]",
            "text/plain": [
              "<Figure size 432x288 with 1 Axes>"
            ]
          },
          "metadata": {
            "needs_background": "light"
          },
          "output_type": "display_data"
        }
      ]
    },
    {
      "cell_type": "markdown",
      "metadata": {
        "id": "z4B0GfOL6n0c"
      },
      "source": [
        "## Default Dataset\n",
        "\n",
        "A simulated data set containing information on ten thousand customers. The aim here is to predict which customers will default on their credit card debt. A data frame with 10000 observations on the following 4 variables.\n",
        "\n",
        "`default`\n",
        "    A factor with levels No and Yes indicating whether the customer defaulted on their debt\n",
        "    \n",
        "`student`\n",
        "    A factor with levels No and Yes indicating whether the customer is a student\n",
        "    \n",
        "`balance`\n",
        "    The average balance that the customer has remaining on their credit card after making their monthly payment\n",
        "    \n",
        "`income`\n",
        "    Income of customer\n"
      ]
    },
    {
      "cell_type": "code",
      "metadata": {
        "id": "cygb2_su6n0c",
        "outputId": "ed76d755-d589-4797-82a3-4b008718aa53"
      },
      "source": [
        "data = pd.read_csv('data/default.csv', sep=';')\n",
        "data.head()"
      ],
      "execution_count": null,
      "outputs": [
        {
          "data": {
            "text/html": [
              "<div>\n",
              "<style scoped>\n",
              "    .dataframe tbody tr th:only-of-type {\n",
              "        vertical-align: middle;\n",
              "    }\n",
              "\n",
              "    .dataframe tbody tr th {\n",
              "        vertical-align: top;\n",
              "    }\n",
              "\n",
              "    .dataframe thead th {\n",
              "        text-align: right;\n",
              "    }\n",
              "</style>\n",
              "<table border=\"1\" class=\"dataframe\">\n",
              "  <thead>\n",
              "    <tr style=\"text-align: right;\">\n",
              "      <th></th>\n",
              "      <th>default</th>\n",
              "      <th>student</th>\n",
              "      <th>balance</th>\n",
              "      <th>income</th>\n",
              "    </tr>\n",
              "  </thead>\n",
              "  <tbody>\n",
              "    <tr>\n",
              "      <th>0</th>\n",
              "      <td>No</td>\n",
              "      <td>No</td>\n",
              "      <td>729.526495</td>\n",
              "      <td>44361.62507</td>\n",
              "    </tr>\n",
              "    <tr>\n",
              "      <th>1</th>\n",
              "      <td>No</td>\n",
              "      <td>Yes</td>\n",
              "      <td>817.180407</td>\n",
              "      <td>12106.13470</td>\n",
              "    </tr>\n",
              "    <tr>\n",
              "      <th>2</th>\n",
              "      <td>No</td>\n",
              "      <td>No</td>\n",
              "      <td>1073.549164</td>\n",
              "      <td>31767.13895</td>\n",
              "    </tr>\n",
              "    <tr>\n",
              "      <th>3</th>\n",
              "      <td>No</td>\n",
              "      <td>No</td>\n",
              "      <td>529.250605</td>\n",
              "      <td>35704.49394</td>\n",
              "    </tr>\n",
              "    <tr>\n",
              "      <th>4</th>\n",
              "      <td>No</td>\n",
              "      <td>No</td>\n",
              "      <td>785.655883</td>\n",
              "      <td>38463.49588</td>\n",
              "    </tr>\n",
              "  </tbody>\n",
              "</table>\n",
              "</div>"
            ],
            "text/plain": [
              "  default student      balance       income\n",
              "0      No      No   729.526495  44361.62507\n",
              "1      No     Yes   817.180407  12106.13470\n",
              "2      No      No  1073.549164  31767.13895\n",
              "3      No      No   529.250605  35704.49394\n",
              "4      No      No   785.655883  38463.49588"
            ]
          },
          "execution_count": 25,
          "metadata": {},
          "output_type": "execute_result"
        }
      ]
    },
    {
      "cell_type": "markdown",
      "metadata": {
        "id": "44NbjISO6n0d"
      },
      "source": [
        "Let's build a class column with the proper values on it (0 and 1) instead of the strings with Yes and No."
      ]
    },
    {
      "cell_type": "code",
      "metadata": {
        "id": "yJ32aqJ26n0e",
        "outputId": "ef8cf649-6383-412e-9cf6-157552549ce5"
      },
      "source": [
        "data.default = data.default.map({'No': 0, 'Yes': 1})\n",
        "data.student = data.student.map({'No': 0, 'Yes': 1})\n",
        "data.head()"
      ],
      "execution_count": null,
      "outputs": [
        {
          "data": {
            "text/html": [
              "<div>\n",
              "<style scoped>\n",
              "    .dataframe tbody tr th:only-of-type {\n",
              "        vertical-align: middle;\n",
              "    }\n",
              "\n",
              "    .dataframe tbody tr th {\n",
              "        vertical-align: top;\n",
              "    }\n",
              "\n",
              "    .dataframe thead th {\n",
              "        text-align: right;\n",
              "    }\n",
              "</style>\n",
              "<table border=\"1\" class=\"dataframe\">\n",
              "  <thead>\n",
              "    <tr style=\"text-align: right;\">\n",
              "      <th></th>\n",
              "      <th>default</th>\n",
              "      <th>student</th>\n",
              "      <th>balance</th>\n",
              "      <th>income</th>\n",
              "    </tr>\n",
              "  </thead>\n",
              "  <tbody>\n",
              "    <tr>\n",
              "      <th>0</th>\n",
              "      <td>0</td>\n",
              "      <td>0</td>\n",
              "      <td>729.526495</td>\n",
              "      <td>44361.62507</td>\n",
              "    </tr>\n",
              "    <tr>\n",
              "      <th>1</th>\n",
              "      <td>0</td>\n",
              "      <td>1</td>\n",
              "      <td>817.180407</td>\n",
              "      <td>12106.13470</td>\n",
              "    </tr>\n",
              "    <tr>\n",
              "      <th>2</th>\n",
              "      <td>0</td>\n",
              "      <td>0</td>\n",
              "      <td>1073.549164</td>\n",
              "      <td>31767.13895</td>\n",
              "    </tr>\n",
              "    <tr>\n",
              "      <th>3</th>\n",
              "      <td>0</td>\n",
              "      <td>0</td>\n",
              "      <td>529.250605</td>\n",
              "      <td>35704.49394</td>\n",
              "    </tr>\n",
              "    <tr>\n",
              "      <th>4</th>\n",
              "      <td>0</td>\n",
              "      <td>0</td>\n",
              "      <td>785.655883</td>\n",
              "      <td>38463.49588</td>\n",
              "    </tr>\n",
              "  </tbody>\n",
              "</table>\n",
              "</div>"
            ],
            "text/plain": [
              "   default  student      balance       income\n",
              "0        0        0   729.526495  44361.62507\n",
              "1        0        1   817.180407  12106.13470\n",
              "2        0        0  1073.549164  31767.13895\n",
              "3        0        0   529.250605  35704.49394\n",
              "4        0        0   785.655883  38463.49588"
            ]
          },
          "execution_count": 26,
          "metadata": {},
          "output_type": "execute_result"
        }
      ]
    },
    {
      "cell_type": "markdown",
      "metadata": {
        "id": "vfCrJEWU6n0e"
      },
      "source": [
        "We are interested in predicting whether an individual will default on his or her credit card payment, on the basis of annual income and monthly credit card balance.\n",
        "\n",
        "It is worth noting that figure below displays a very pronounced relationship between the predictor balance and the response default. In most real applications, the relationship between the predictor and the response will not be nearly so strong."
      ]
    },
    {
      "cell_type": "code",
      "metadata": {
        "id": "xz7JHRWW6n0f"
      },
      "source": [
        "def plot_descriptive(data):\n",
        "    fig = plt.figure(figsize=(9, 4))\n",
        "    gs = GridSpec(1, 3, width_ratios=[3, 1, 1])\n",
        "\n",
        "    ax0 = plt.subplot(gs[0])\n",
        "    ax0 = plt.scatter(data.balance[data.default==0], \n",
        "                      data.income[data.default==0], \n",
        "                      label='default=No',\n",
        "                      marker='.', c='red', alpha=0.5)\n",
        "    ax0 = plt.scatter(data.balance[data.default==1], \n",
        "                      data.income[data.default==1],\n",
        "                      label='default=Yes',\n",
        "                      marker='+', c='green', alpha=0.7)\n",
        "    ax0 = plt.xlabel('balance')\n",
        "    ax0 = plt.ylabel('income')\n",
        "    ax0 = plt.legend(loc='best')\n",
        "    ax0 = plt.subplot(gs[1])\n",
        "    ax1 = sns.boxplot(x=\"default\", y=\"balance\", data=data)\n",
        "    ax0 = plt.subplot(gs[2])\n",
        "    ax2 = sns.boxplot(x=\"default\", y=\"income\", data=data)\n",
        "\n",
        "    plt.tight_layout()\n",
        "    plt.show()"
      ],
      "execution_count": null,
      "outputs": []
    },
    {
      "cell_type": "code",
      "metadata": {
        "id": "SGsb0y0Z6n0f",
        "outputId": "5139e158-92f3-413b-ad72-8edc93bbe707"
      },
      "source": [
        "plot_descriptive(data)"
      ],
      "execution_count": null,
      "outputs": [
        {
          "data": {
            "image/png": "[encoded data removed]",
            "text/plain": [
              "<Figure size 648x288 with 3 Axes>"
            ]
          },
          "metadata": {
            "needs_background": "light"
          },
          "output_type": "display_data"
        }
      ]
    },
    {
      "cell_type": "markdown",
      "metadata": {
        "id": "hjVNG40l6n0g"
      },
      "source": [
        "Consider again the Default data set, where the response `default` falls into one of two categories, Yes or No. Rather than modeling this response $Y$ directly, logistic regression models the probability that $Y$ belongs to a particular category.\n",
        "\n",
        "For example, the probability of default given balance can be written as\n",
        "\n",
        "$$Pr(default = Yes|balance)$$\n",
        "\n",
        "The values of $Pr(default = Yes|balance)$ –$p(balance)$–,  will range between 0 and 1. Then for any given value of `balance`, a prediction can be made for `default`. For example, one might predict `default = Yes` for any individual for whom $p(balance) > 0.5$."
      ]
    },
    {
      "cell_type": "code",
      "metadata": {
        "id": "3DxZop2F6n0h"
      },
      "source": [
        "def plot_classes(show=True):\n",
        "    plt.scatter(data.balance[data.default==0], \n",
        "                data.default[data.default==0], \n",
        "                marker='o', color='red', alpha=0.5)\n",
        "    plt.scatter(data.balance[data.default==1], \n",
        "                data.default[data.default==1], \n",
        "                marker='+', color='green', alpha=0.7)\n",
        "    plt.xlabel('Balance')\n",
        "    plt.ylabel('Probability of default')\n",
        "    plt.yticks([0, 1], [0, 1])\n",
        "    if show is True:\n",
        "        plt.show();"
      ],
      "execution_count": null,
      "outputs": []
    },
    {
      "cell_type": "code",
      "metadata": {
        "id": "xQ0md6Mb6n0h",
        "outputId": "444cb016-2c6e-4d86-fc49-197939c5a03e"
      },
      "source": [
        "plot_classes()"
      ],
      "execution_count": null,
      "outputs": [
        {
          "data": {
            "image/png": "[encoded data removed]",
            "text/plain": [
              "<Figure size 432x288 with 1 Axes>"
            ]
          },
          "metadata": {
            "needs_background": "light"
          },
          "output_type": "display_data"
        }
      ]
    },
    {
      "cell_type": "markdown",
      "metadata": {
        "id": "CgChjLKJ6n0i"
      },
      "source": [
        "Build the model, and keep it on `logreg`."
      ]
    },
    {
      "cell_type": "code",
      "metadata": {
        "id": "fl_spsWs6n0i",
        "outputId": "f28230a3-9bd2-4809-d65c-61940bbe8051"
      },
      "source": [
        "X_train, X_test, y_train, y_test = train_test_split(data.balance, \n",
        "                                                    data.default,\n",
        "                                                    test_size=0.3, \n",
        "                                                    random_state=0)\n",
        "logreg = LogisticRegression(solver='lbfgs')\n",
        "logreg.fit(X_train.values.reshape(-1, 1), y_train)\n",
        "\n",
        "y_pred = logreg.predict(X_test.values.reshape(-1, 1))\n",
        "acc_test = logreg.score(X_test.values.reshape(-1, 1), y_test)\n",
        "\n",
        "print('Accuracy on test: {:.2f}'.format(acc_test))\n",
        "print(confusion_matrix(y_test, y_pred))\n",
        "print(classification_report(y_test, y_pred))"
      ],
      "execution_count": null,
      "outputs": [
        {
          "name": "stdout",
          "output_type": "stream",
          "text": [
            "Accuracy on test: 0.97\n",
            "[[2879    8]\n",
            " [  80   33]]\n",
            "              precision    recall  f1-score   support\n",
            "\n",
            "           0       0.97      1.00      0.98      2887\n",
            "           1       0.80      0.29      0.43       113\n",
            "\n",
            "   micro avg       0.97      0.97      0.97      3000\n",
            "   macro avg       0.89      0.64      0.71      3000\n",
            "weighted avg       0.97      0.97      0.96      3000\n",
            "\n"
          ]
        }
      ]
    },
    {
      "cell_type": "markdown",
      "metadata": {
        "id": "hL4uBLVL6n0j"
      },
      "source": [
        "And now represent where is the model setting the separation function between the two classes."
      ]
    },
    {
      "cell_type": "code",
      "metadata": {
        "id": "B4O_CSye6n0j"
      },
      "source": [
        "def plot_sigmoid():\n",
        "    plt.figure(figsize=(10,4))\n",
        "    plt.subplot(1, 2, 1)\n",
        "    plot_classes(show=False)\n",
        "    plt.plot(sigm.x.values, sigm.y.values, color='black', linewidth=3);\n",
        "    plt.title('Sigmoid')\n",
        "\n",
        "    plt.subplot(1, 2, 2)\n",
        "    plot_classes(show=False)\n",
        "    plt.plot(sigm.x.values, sigm.y.values, color='black', linewidth=3);\n",
        "    plt.xlim(1925, 1990)\n",
        "    plt.title('Zooming the Sigmoid')\n",
        "    plt.tight_layout()\n",
        "    plt.show()"
      ],
      "execution_count": null,
      "outputs": []
    },
    {
      "cell_type": "code",
      "metadata": {
        "id": "Ffb1Z-vm6n0k",
        "outputId": "ee4ed27f-39cb-498a-d1b7-d64f46c35cc6"
      },
      "source": [
        "def model(x):\n",
        "    return 1 / (1 + np.exp(-x))\n",
        "\n",
        "y_func = model(X_test.values * logreg.coef_ + logreg.intercept_).ravel()\n",
        "sigm = pd.DataFrame({'x': list(X_test.values), 'y': list(y_pred)}).\\\n",
        "                    sort_values(by=['x'])\n",
        "plot_sigmoid()"
      ],
      "execution_count": null,
      "outputs": [
        {
          "data": {
            "image/png": "[encoded data removed]",
            "text/plain": [
              "<Figure size 720x288 with 2 Axes>"
            ]
          },
          "metadata": {
            "needs_background": "light"
          },
          "output_type": "display_data"
        }
      ]
    },
    {
      "cell_type": "markdown",
      "metadata": {
        "id": "V7_uSeZa6n0l"
      },
      "source": [
        "## Next steps\n",
        "\n",
        "- Explore multinomial logistic regression with sklearn\n",
        "- Explore SKLearn pipelines to find the optimal parameters of Logit\n",
        "- Explore Lasso and Ridge Regression with Linear Regression problems\n",
        "- Continue reading by exploring GLM (Generalized Linear Models)."
      ]
    }
  ]
}