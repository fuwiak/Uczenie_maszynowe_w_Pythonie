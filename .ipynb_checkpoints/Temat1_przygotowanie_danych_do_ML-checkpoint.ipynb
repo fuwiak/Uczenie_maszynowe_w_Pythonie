{
 "cells": [
  {
   "cell_type": "markdown",
   "metadata": {
    "id": "3ZOcQdB3bcW4"
   },
   "source": [
    "# Temat1 przygotowanie_danych\n"
   ]
  },
  {
   "cell_type": "markdown",
   "metadata": {
    "id": "Wkd0Pefdd3q1"
   },
   "source": [
    "# Wstęp \n",
    "Wstępna analiza ma na podstawie dostarczonych danych ma pan pozwolić zrozumieć dane, w celu pozniejszego\n",
    "\n",
    "Przykładowe kroki:\n",
    "- Krótki opis danych wejściowych.\n",
    "- Transformacja surowych danych(uzupełnianie braków, usunięcie kolumn ze zbyt dużą liczbą braków lub nie wnoszących nic do analizy).\n",
    "- stworzenie nowych zmiennych na podstawie już \"doprowadzonych do ładu\", często dopiero nowe zmienne posiadają wartość predykcyjną.\n",
    "- Wykonanie eksploracji i wizualizacji danych, ten krok pozwoli nam odpowiedzięc na wiele pytań, oraz może pokazać informacje, ktore się widocznie na pierwszy rzut oka.\n",
    "- Selekcja kolumn w celu ich póżniejszego modelowania."
   ]
  },
  {
   "cell_type": "markdown",
   "metadata": {
    "id": "0BjbKZo_bcW_"
   },
   "source": [
    "## Zbiór IRIS\n",
    "\n",
    "\n"
   ]
  },
  {
   "cell_type": "markdown",
   "metadata": {
    "id": "N3D4WwAZbcXB"
   },
   "source": [
    "### Pobranie i prezentacja tekstowa zbioru IRIS"
   ]
  },
  {
   "cell_type": "code",
   "execution_count": null,
   "metadata": {
    "colab": {
     "base_uri": "https://localhost:8080/",
     "height": 202
    },
    "id": "WAxEzBfgbcXC",
    "outputId": "987b4d84-836f-4f90-9ae4-5858987564bd",
    "pycharm": {
     "is_executing": true
    }
   },
   "outputs": [],
   "source": [
    "import pandas as pd\n",
    "import matplotlib.pylab as plt\n",
    "import seaborn as sns\n",
    "\n",
    "\n",
    "data = pd.read_csv('http://archive.ics.uci.edu/ml/machine-learning-databases/iris/iris.data', names=['sepal_length','sepal_width','petal_length','petal_width','target'])\n",
    "data.columns = ['sepal length', 'sepal width', 'petal length', 'petal width', 'class']\n",
    "\n",
    "data.head()"
   ]
  },
  {
   "cell_type": "markdown",
   "metadata": {},
   "source": [
    "from IPython.display import Image\n",
    "from IPython.core.display import HTML \n",
    "Image(url= \"https://github.com/fuwiak/Uczenie_maszynowe_w_Pythonie/blob/main/IRIS.png\")"
   ]
  },
  {
   "cell_type": "code",
   "execution_count": null,
   "metadata": {},
   "outputs": [],
   "source": []
  },
  {
   "cell_type": "markdown",
   "metadata": {
    "id": "4_DhodhzbcXJ"
   },
   "source": [
    "### Podstawowa statystyka dotycząca danych"
   ]
  },
  {
   "cell_type": "code",
   "execution_count": null,
   "metadata": {
    "colab": {
     "base_uri": "https://localhost:8080/"
    },
    "id": "qGI-2ArFbcXK",
    "outputId": "e6d62a55-2af4-405c-9fce-57b65f628efe",
    "pycharm": {
     "is_executing": true
    }
   },
   "outputs": [],
   "source": [
    "data['class'].value_counts()  # podsumowanie wystąpień klas\n"
   ]
  },
  {
   "cell_type": "code",
   "execution_count": null,
   "metadata": {
    "colab": {
     "base_uri": "https://localhost:8080/",
     "height": 385
    },
    "id": "6O69-kaAb0x5",
    "outputId": "5326250d-6026-494a-c1b6-6821472661b7",
    "pycharm": {
     "is_executing": true
    }
   },
   "outputs": [],
   "source": [
    "data.describe(include='all')  # podsumowanie statystyk w formie czytelnej tabeli"
   ]
  },
  {
   "cell_type": "markdown",
   "metadata": {
    "id": "Xed9XLiBbcXM"
   },
   "source": [
    "### macierz kowariancji i korelacji"
   ]
  },
  {
   "cell_type": "code",
   "execution_count": null,
   "metadata": {
    "colab": {
     "base_uri": "https://localhost:8080/",
     "height": 188
    },
    "id": "5J3aMj66bcXN",
    "outputId": "2f248089-d7f6-4dbd-ffab-28e3b24e5aa7",
    "pycharm": {
     "is_executing": true
    }
   },
   "outputs": [],
   "source": [
    "print('Macierz kowariancji:')\n",
    "data.cov()"
   ]
  },
  {
   "cell_type": "code",
   "execution_count": null,
   "metadata": {
    "colab": {
     "base_uri": "https://localhost:8080/",
     "height": 188
    },
    "id": "3D41nhipbcXO",
    "outputId": "8ea21aa5-5e4c-4c0c-b52a-44763e92f7b8",
    "pycharm": {
     "is_executing": true
    }
   },
   "outputs": [],
   "source": [
    "print('Macierz korelacji:')\n",
    "data.corr()"
   ]
  },
  {
   "cell_type": "code",
   "execution_count": null,
   "metadata": {
    "colab": {
     "base_uri": "https://localhost:8080/",
     "height": 722
    },
    "id": "R2CUF_wJb7Qi",
    "outputId": "8d9b4c82-674c-4aca-daa0-8e27b6c9b076",
    "pycharm": {
     "is_executing": true
    }
   },
   "outputs": [],
   "source": [
    "plt.figure(figsize=(16,12))\n",
    "sns.heatmap(data.corr(), annot = True)"
   ]
  },
  {
   "cell_type": "markdown",
   "metadata": {
    "id": "GEPIK1l8bcXP"
   },
   "source": [
    "### Wizualizacja danych"
   ]
  },
  {
   "cell_type": "code",
   "execution_count": null,
   "metadata": {
    "colab": {
     "base_uri": "https://localhost:8080/",
     "height": 298
    },
    "id": "i4_wC_rfbcXQ",
    "outputId": "e16a9c2b-d50d-482d-8b68-a55070e43477",
    "pycharm": {
     "is_executing": true
    }
   },
   "outputs": [],
   "source": [
    "#histogramy\n",
    "\n",
    "import numpy as np\n",
    "import matplotlib.pyplot as plt\n",
    "\n",
    "\n",
    "\n",
    "ax = plt.subplot(2,2,1)\n",
    "bins = np.linspace(4, 8, 9)\n",
    "plt.hist(data['sepal length'], bins=bins, align=\"mid\", alpha=0.5, histtype='bar', ec='black')\n",
    "plt.ylabel('wystąpień')\n",
    "plt.xlabel('sepal length')\n",
    "plt.grid(True)\n",
    "\n",
    "\n",
    "ax = plt.subplot(2,2,2)\n",
    "bins = np.linspace(2, 4.5, 6)\n",
    "plt.hist(data['sepal width'], bins=bins, align=\"mid\", alpha=0.5, histtype='bar', ec='black')\n",
    "plt.xlabel('sepal width')\n",
    "plt.ylabel('wystąpień')\n",
    "plt.grid(True)\n",
    "\n",
    "ax = plt.subplot(2,2,3)\n",
    "bins = np.linspace(3, 7, 5)\n",
    "plt.hist(data['petal length'], bins=bins, align=\"mid\", alpha=0.5, histtype='bar', ec='black')\n",
    "plt.xlabel('petal width')\n",
    "plt.ylabel('wystąpień')\n",
    "plt.grid(True)\n",
    "\n",
    "ax = plt.subplot(2,2,4)\n",
    "bins = np.linspace(0, 2.5, 6)\n",
    "plt.hist(data['petal width'], bins=bins, align=\"mid\", alpha=0.5, histtype='bar', ec='black')\n",
    "plt.xlabel('petal width')\n",
    "plt.ylabel('wystąpień')\n",
    "plt.grid(True)\n",
    "\n",
    "plt.tight_layout(pad=1.0)\n",
    "\n",
    "\n",
    "\n"
   ]
  },
  {
   "cell_type": "code",
   "execution_count": null,
   "metadata": {
    "id": "b1wBBHIkBqki",
    "pycharm": {
     "is_executing": true
    }
   },
   "outputs": [],
   "source": []
  },
  {
   "cell_type": "code",
   "execution_count": null,
   "metadata": {
    "id": "-TWmF2meiXqg",
    "pycharm": {
     "is_executing": true
    }
   },
   "outputs": [],
   "source": [
    "#jak histogramy, to i musza byc wykresy slupkowe"
   ]
  },
  {
   "cell_type": "code",
   "execution_count": null,
   "metadata": {
    "colab": {
     "base_uri": "https://localhost:8080/",
     "height": 528
    },
    "id": "SEyjUfGjh3ru",
    "outputId": "0e8d053c-22c6-4278-90ae-c987698cf7b5",
    "pycharm": {
     "is_executing": true
    }
   },
   "outputs": [],
   "source": [
    "col = 'class'\n",
    "\n",
    "plt.figure(figsize=[15,7])\n",
    "plt.xlabel(\"0 - nie spłaci, 1 - spłaci\")\n",
    "plt.ylabel(\"liczba wystąpień danej klasy\")\n",
    "plt.title(\"Rozklad zmiennej loan_status\")\n",
    "sns.countplot(x=col, data=data)\n",
    "plt.plot()\n",
    "data['class'].value_counts()  # podsumowanie wystąpień klas\n"
   ]
  },
  {
   "cell_type": "code",
   "execution_count": null,
   "metadata": {
    "colab": {
     "base_uri": "https://localhost:8080/",
     "height": 282
    },
    "id": "r7L0lViKbcXT",
    "outputId": "4eb6b94a-7706-4720-931c-07f1faa6a7f4",
    "pycharm": {
     "is_executing": true
    }
   },
   "outputs": [],
   "source": [
    "%matplotlib inline\n",
    "data.boxplot()"
   ]
  },
  {
   "cell_type": "code",
   "execution_count": null,
   "metadata": {
    "colab": {
     "base_uri": "https://localhost:8080/",
     "height": 716
    },
    "id": "dWfeqC0abcXV",
    "outputId": "f2ef03f6-c8f8-495f-bfeb-4837f2a76664",
    "pycharm": {
     "is_executing": true
    }
   },
   "outputs": [],
   "source": [
    "import matplotlib.pyplot as plt\n",
    "\n",
    "fig, axes = plt.subplots(3, 2, figsize=(12,12))\n",
    "index = 0\n",
    "for i in range(3):\n",
    "    for j in range(i+1,4):\n",
    "        ax1 = int(index/2)\n",
    "        ax2 = index % 2\n",
    "        axes[ax1][ax2].scatter(data[data.columns[i]], data[data.columns[j]])\n",
    "        axes[ax1][ax2].set_xlabel(data.columns[i])\n",
    "        axes[ax1][ax2].set_ylabel(data.columns[j])\n",
    "        index = index + 1"
   ]
  },
  {
   "cell_type": "code",
   "execution_count": null,
   "metadata": {
    "colab": {
     "base_uri": "https://localhost:8080/",
     "height": 716
    },
    "id": "u8R4QTXMbcXW",
    "outputId": "36459c1a-b912-4f19-f76d-ed7330347fc7",
    "pycharm": {
     "is_executing": true
    }
   },
   "outputs": [],
   "source": [
    "import matplotlib.pyplot as plt\n",
    "\n",
    "fig, axes = plt.subplots(3, 2, figsize=(12,12))\n",
    "index = 0\n",
    "for i in range(3):\n",
    "    for j in range(i+1,4):\n",
    "        ax1 = int(index/2)\n",
    "        ax2 = index % 2\n",
    "        axes[ax1][ax2].scatter(data[data.columns[i]][:50], data[data.columns[j]][:50], color=\"red\", )\n",
    "        axes[ax1][ax2].scatter(data[data.columns[i]][50:100], data[data.columns[j]][50:100], color=\"green\")\n",
    "        axes[ax1][ax2].scatter(data[data.columns[i]][100:150], data[data.columns[j]][100:150], color=\"blue\")\n",
    "        axes[ax1][ax2].set_xlabel(data.columns[i])\n",
    "        axes[ax1][ax2].set_ylabel(data.columns[j])\n",
    "        index = index + 1"
   ]
  },
  {
   "cell_type": "markdown",
   "metadata": {
    "id": "ZddACNtXbcXY"
   },
   "source": [
    "## Zbiór breast cancer"
   ]
  },
  {
   "cell_type": "markdown",
   "metadata": {
    "id": "pL9z4o3QbcXZ"
   },
   "source": [
    "### Pobranie danych i podstawowa charakterystyka"
   ]
  },
  {
   "cell_type": "code",
   "execution_count": null,
   "metadata": {
    "colab": {
     "base_uri": "https://localhost:8080/",
     "height": 254
    },
    "id": "6CtzDC37bcXa",
    "outputId": "2ee8aebe-2ae2-4151-ef66-a10d73eccb1e",
    "pycharm": {
     "is_executing": true
    }
   },
   "outputs": [],
   "source": [
    "import pandas as pd\n",
    "data = pd.read_csv('https://archive.ics.uci.edu/ml/machine-learning-databases/breast-cancer-wisconsin/breast-cancer-wisconsin.data', header=None)\n",
    "data.columns = ['Sample code', 'Clump Thickness', 'Uniformity of Cell Size', 'Uniformity of Cell Shape',\n",
    "                'Marginal Adhesion', 'Single Epithelial Cell Size', 'Bare Nuclei', 'Bland Chromatin',\n",
    "                'Normal Nucleoli', 'Mitoses','Class']\n",
    "\n",
    "data = data.drop(['Sample code'], axis=1)\n",
    "print('Liczba elementów zbioru = %d' % (data.shape[0]))\n",
    "print('Liczba atrybutów (cech) = %d' % (data.shape[1]))\n",
    "data.head()"
   ]
  },
  {
   "cell_type": "code",
   "execution_count": null,
   "metadata": {
    "id": "DauKjprXBBlU",
    "pycharm": {
     "is_executing": true
    }
   },
   "outputs": [],
   "source": [
    "data = data.replace('?',np.NaN)"
   ]
  },
  {
   "cell_type": "code",
   "execution_count": null,
   "metadata": {
    "colab": {
     "base_uri": "https://localhost:8080/"
    },
    "id": "iDycMIq3foKs",
    "outputId": "f1c129d6-bd15-4db7-c1ca-0f63b472a549",
    "pycharm": {
     "is_executing": true
    }
   },
   "outputs": [],
   "source": [
    "#liczba kolumn\n",
    "len(data.columns)"
   ]
  },
  {
   "cell_type": "code",
   "execution_count": null,
   "metadata": {
    "colab": {
     "base_uri": "https://localhost:8080/",
     "height": 355
    },
    "id": "yRMd_Gehfqwy",
    "outputId": "84d72b46-070a-4880-d0f9-5daefdf3a337",
    "pycharm": {
     "is_executing": true
    }
   },
   "outputs": [],
   "source": [
    "#liczba brakow w columns\n",
    "temp=data.isnull().sum()\n",
    "temp = pd.DataFrame(temp)\n",
    "mapping = {temp.columns[0]:'Count'}\n",
    "temp = temp.rename(columns=mapping)\n",
    "temp.style.set_properties(subset=['Count'], **{'width': '1000px'})"
   ]
  },
  {
   "cell_type": "code",
   "execution_count": null,
   "metadata": {
    "colab": {
     "base_uri": "https://localhost:8080/",
     "height": 355
    },
    "id": "Lk3WFM_xf3an",
    "outputId": "d7be5b82-1042-47c2-b4a2-1d0e089ec14d",
    "pycharm": {
     "is_executing": true
    }
   },
   "outputs": [],
   "source": [
    "# w rozkladzie procentowym\n",
    "temp[\"procent_brakow\"]=(temp[\"Count\"]/len(data))*100\n",
    "temp['procent_brakow'].to_frame().style.set_properties(subset=['procent_brakow'], **{'width': '1000px'})\n"
   ]
  },
  {
   "cell_type": "markdown",
   "metadata": {
    "id": "WotUI0qokVYu"
   },
   "source": [
    "# Uzupełnianie braków\n",
    "Uzupełnianie braków w kolumnach wg określonej strategii:\n",
    "- mean - uzupełnianie braków za pomocą średniej, stosuje się tylko dla danych ilościowych\n",
    "- mode - uzupełnianie braków za pomocą mody, raczej dla wartości dyskretnych, można stosować dla danych kategorycznych\n",
    "- 0 - uzupełnianie braków za pomocą 0, stosuje się w przypadku, gdzie wartość 0 ma jasną interpretację.\n",
    "- specific value - uzywamy w przypadku gdy chcemy użyć jakieś customowej wartości, np 33 lub dwa, ważne żeby wartość była tego samego typu co uzupełniania kolumna.\n",
    "- next_row, previous_row\n",
    "  "
   ]
  },
  {
   "cell_type": "code",
   "execution_count": null,
   "metadata": {
    "id": "bzKceNJ3kTPa",
    "pycharm": {
     "is_executing": true
    }
   },
   "outputs": [],
   "source": [
    "# df.fillna(method=\"backfill\", inplace=True) # previous row\n",
    "# df.fillna(method=\"ffill\", inplace=True) #next row\n",
    "# df.fillna(0, inplace=True) #fill by 0\n",
    "# df.fillna(spefic_value, inplace=True) specific_value\n",
    "# df.fillna(df.mean(), inplace=True) mean\n",
    "# df.fillna(df.mode(dropna=True), inplace=True)\n",
    "# df.interpolate()\n"
   ]
  },
  {
   "cell_type": "markdown",
   "metadata": {
    "id": "-dHKsyTylxR_"
   },
   "source": [
    "W naszym datasecie nie ma brakow danych, wiec stworzmy na szybko spreparowany dataset, by pokazac mozliwosci uzupelniania brakow"
   ]
  },
  {
   "cell_type": "code",
   "execution_count": null,
   "metadata": {
    "colab": {
     "base_uri": "https://localhost:8080/",
     "height": 232
    },
    "id": "2HxBWG04l9dN",
    "outputId": "ecea9c8b-e290-4ea1-a897-d56d566c426d",
    "pycharm": {
     "is_executing": true
    }
   },
   "outputs": [],
   "source": [
    "ratings = [['Jan',5,np.NaN,2,1],['Maria',np.NaN,5,3,2],['Robert',4,4,np.NaN,3],['Ela',2,np.NaN,np.NaN,5],['Stanisław',1,2,3,4],['Adam',2,1,5,np.NaN]]\n",
    "titles = ['kinoman','Szczęki','Star Wars','Egzorcysta','Omen']\n",
    "movies = pd.DataFrame(ratings,columns=titles)\n",
    "movies"
   ]
  },
  {
   "cell_type": "code",
   "execution_count": null,
   "metadata": {
    "colab": {
     "base_uri": "https://localhost:8080/",
     "height": 232
    },
    "id": "gGWoTsYInVqT",
    "outputId": "b0be2e77-0485-47ef-c9ef-1f9afe3761de",
    "pycharm": {
     "is_executing": true
    }
   },
   "outputs": [],
   "source": [
    "movies.fillna(method=\"backfill\")\n"
   ]
  },
  {
   "cell_type": "code",
   "execution_count": null,
   "metadata": {
    "colab": {
     "base_uri": "https://localhost:8080/",
     "height": 232
    },
    "id": "nX6-rM3wne1T",
    "outputId": "0114bac5-03c9-45d0-c1cf-f1abe157643b",
    "pycharm": {
     "is_executing": true
    }
   },
   "outputs": [],
   "source": [
    "movies.fillna(method=\"ffill\")\n"
   ]
  },
  {
   "cell_type": "code",
   "execution_count": null,
   "metadata": {
    "colab": {
     "base_uri": "https://localhost:8080/",
     "height": 232
    },
    "id": "wcjHp0rFn3xY",
    "outputId": "ef5d3d8f-9c4f-485c-ead5-a69dec0b1f1d",
    "pycharm": {
     "is_executing": true
    }
   },
   "outputs": [],
   "source": [
    "movies.fillna(0) "
   ]
  },
  {
   "cell_type": "code",
   "execution_count": null,
   "metadata": {
    "colab": {
     "base_uri": "https://localhost:8080/",
     "height": 232
    },
    "id": "4O7ahkk_oEt3",
    "outputId": "d8e34516-d6cb-4c79-87be-c4552b98b2c4",
    "pycharm": {
     "is_executing": true
    }
   },
   "outputs": [],
   "source": [
    "movies.fillna(-1) "
   ]
  },
  {
   "cell_type": "code",
   "execution_count": null,
   "metadata": {
    "colab": {
     "base_uri": "https://localhost:8080/",
     "height": 232
    },
    "id": "GkGbcbEJobli",
    "outputId": "c332e392-ad71-460a-c8b0-3ee94bdcd342",
    "pycharm": {
     "is_executing": true
    }
   },
   "outputs": [],
   "source": [
    "movies.fillna(movies.mean()) #mean"
   ]
  },
  {
   "cell_type": "code",
   "execution_count": null,
   "metadata": {
    "colab": {
     "base_uri": "https://localhost:8080/",
     "height": 232
    },
    "id": "YcFn2v5kosIi",
    "outputId": "4f965f57-6ca7-46e3-edf9-30078c0a7960",
    "pycharm": {
     "is_executing": true
    }
   },
   "outputs": [],
   "source": [
    "movies"
   ]
  },
  {
   "cell_type": "code",
   "execution_count": null,
   "metadata": {
    "colab": {
     "base_uri": "https://localhost:8080/",
     "height": 232
    },
    "id": "1hG2AGObq1YL",
    "outputId": "905b8665-8882-407d-ed92-a44c54371563",
    "pycharm": {
     "is_executing": true
    }
   },
   "outputs": [],
   "source": [
    "movies.interpolate()"
   ]
  },
  {
   "cell_type": "code",
   "execution_count": null,
   "metadata": {
    "colab": {
     "base_uri": "https://localhost:8080/",
     "height": 232
    },
    "id": "YcHeNz3nukme",
    "outputId": "d8afe16b-6279-4d10-c9e8-a14079c52c4e",
    "pycharm": {
     "is_executing": true
    }
   },
   "outputs": [],
   "source": [
    "fill_mode = lambda col: col.fillna(col.mode().iloc[0])\n",
    "movies.apply(fill_mode, axis=0)"
   ]
  },
  {
   "cell_type": "code",
   "execution_count": null,
   "metadata": {
    "colab": {
     "base_uri": "https://localhost:8080/"
    },
    "id": "bsDa3g2Ao_i8",
    "outputId": "8ec68ede-cc90-4e2a-fb6a-0f40a223cc68",
    "pycharm": {
     "is_executing": true
    }
   },
   "outputs": [],
   "source": [
    "#one column\n",
    "num = movies[\"Egzorcysta\"].mode().iloc[0]\n",
    "\n",
    "movies[\"Egzorcysta\"].fillna(num)"
   ]
  },
  {
   "cell_type": "markdown",
   "metadata": {
    "id": "B8f4sb9Rw6ET"
   },
   "source": [
    "# Usuwanie kolumn"
   ]
  },
  {
   "cell_type": "code",
   "execution_count": null,
   "metadata": {
    "colab": {
     "base_uri": "https://localhost:8080/",
     "height": 232
    },
    "id": "owsgoAAjw5M3",
    "outputId": "cd9913fd-290c-488b-aa3f-859a1651ed80",
    "pycharm": {
     "is_executing": true
    }
   },
   "outputs": [],
   "source": [
    "ratings = [['Jan',5,np.NaN,2,1],['Maria',np.NaN,5,3,2],['Robert',4,4,np.NaN,3],['Ela',2,np.NaN,np.NaN,np.NaN],['Stanisław',1,2,np.NaN,4],['Adam',2,1,5,np.NaN]]\n",
    "titles = ['kinoman','Szczęki','Star Wars','Egzorcysta','Omen']\n",
    "movies2 = pd.DataFrame(ratings,columns=titles)\n",
    "movies2"
   ]
  },
  {
   "cell_type": "code",
   "execution_count": null,
   "metadata": {
    "colab": {
     "base_uri": "https://localhost:8080/",
     "height": 232
    },
    "id": "XW6Aogo8w5PY",
    "outputId": "eb2d07d0-7d25-4031-bb04-8955cc136732",
    "pycharm": {
     "is_executing": true
    }
   },
   "outputs": [],
   "source": [
    "movies2.dropna(how='any',axis=1,thresh=5) #conajmniej 5 elementow nie pustych\n"
   ]
  },
  {
   "cell_type": "code",
   "execution_count": null,
   "metadata": {
    "colab": {
     "base_uri": "https://localhost:8080/",
     "height": 232
    },
    "id": "7IhsqwSV-GJ6",
    "outputId": "6c7fe09f-e9a9-4772-ff6e-a7b9f2661f14",
    "pycharm": {
     "is_executing": true
    }
   },
   "outputs": [],
   "source": [
    "ratings = [['Jan',5,5,5,5],['Maria',5,5,3,2],['Robert',5,4,np.NaN,3],['Ela',5,np.NaN,np.NaN,np.NaN],['Stanisław',5,2,np.NaN,4],['Adam',5,1,5,np.NaN]]\n",
    "titles = ['kinoman','Szczęki','Star Wars','Egzorcysta','Omen']\n",
    "movies3 = pd.DataFrame(ratings,columns=titles)\n",
    "movies3\n",
    "\n",
    "\n",
    "\n"
   ]
  },
  {
   "cell_type": "code",
   "execution_count": null,
   "metadata": {
    "colab": {
     "base_uri": "https://localhost:8080/",
     "height": 232
    },
    "id": "bBL1V6ri-GDg",
    "outputId": "fc49dffd-12d2-4f86-9f64-e7c0d92bb1ae",
    "pycharm": {
     "is_executing": true
    }
   },
   "outputs": [],
   "source": [
    "movies3.loc[:, movies3.apply(pd.Series.nunique) != 1] #usuniecie kolumn z ta sama wartoscia"
   ]
  },
  {
   "cell_type": "markdown",
   "metadata": {
    "id": "j5aAl2Kh-v9r"
   },
   "source": [
    "Zad1"
   ]
  },
  {
   "cell_type": "code",
   "execution_count": null,
   "metadata": {
    "id": "vEto8BsV-vjJ",
    "pycharm": {
     "is_executing": true
    }
   },
   "outputs": [],
   "source": [
    "#uzyj zmiennej movies2, pokaz jaki procent w kazdej kolumnie stanowia braki\n",
    "#uzupelnij braki wartoscia maksymalna z odpowiedniej kolumny\n"
   ]
  },
  {
   "cell_type": "markdown",
   "metadata": {
    "id": "cjst3Y7-g7P2"
   },
   "source": [
    "# Selekcja kolumn tekstowych"
   ]
  },
  {
   "cell_type": "code",
   "execution_count": null,
   "metadata": {
    "colab": {
     "base_uri": "https://localhost:8080/",
     "height": 414
    },
    "id": "Xlux2wTPg6CD",
    "outputId": "63439c04-d8af-4195-d20d-594628587ac5",
    "pycharm": {
     "is_executing": true
    }
   },
   "outputs": [],
   "source": [
    "data.select_dtypes(include='object')"
   ]
  },
  {
   "cell_type": "markdown",
   "metadata": {
    "id": "vYuNoVHmhGAO"
   },
   "source": [
    "# Selekcja kolumn liczbowych"
   ]
  },
  {
   "cell_type": "code",
   "execution_count": null,
   "metadata": {
    "colab": {
     "base_uri": "https://localhost:8080/",
     "height": 414
    },
    "id": "szA3-oXthEVM",
    "outputId": "8eaa6298-a42b-45bd-a3e2-7c5e4068d0c0",
    "pycharm": {
     "is_executing": true
    }
   },
   "outputs": [],
   "source": [
    "data.select_dtypes(exclude='object')"
   ]
  },
  {
   "cell_type": "markdown",
   "metadata": {
    "id": "r36lc0GDji15"
   },
   "source": [
    "# Wybieranie kolumn wg konkretnego typu zmiennej"
   ]
  },
  {
   "cell_type": "code",
   "execution_count": null,
   "metadata": {
    "id": "cJlK3TN6jiGv",
    "pycharm": {
     "is_executing": true
    }
   },
   "outputs": [],
   "source": [
    "numerics = ['int16', 'int32', 'int64', 'float16', 'float32', 'float64']\n",
    "numerical_columns = data.select_dtypes(include=numerics)"
   ]
  },
  {
   "cell_type": "code",
   "execution_count": null,
   "metadata": {
    "id": "7OD6AFEMj7vB",
    "pycharm": {
     "is_executing": true
    }
   },
   "outputs": [],
   "source": []
  },
  {
   "cell_type": "markdown",
   "metadata": {
    "id": "kithGzUOhR7G"
   },
   "source": [
    "# Zmiana typu zmiennej"
   ]
  },
  {
   "cell_type": "code",
   "execution_count": null,
   "metadata": {
    "id": "F2zdGtUVhWTs",
    "pycharm": {
     "is_executing": true
    }
   },
   "outputs": [],
   "source": [
    "data['Bare Nuclei'] = data['Bare Nuclei'].astype(float)"
   ]
  },
  {
   "cell_type": "code",
   "execution_count": null,
   "metadata": {
    "colab": {
     "base_uri": "https://localhost:8080/"
    },
    "id": "AWPPlM3Uhe_6",
    "outputId": "776fe5ec-90a5-4cad-c050-94c1e27557a5",
    "pycharm": {
     "is_executing": true
    }
   },
   "outputs": [],
   "source": [
    "data['Bare Nuclei'].dtype"
   ]
  },
  {
   "cell_type": "markdown",
   "metadata": {
    "id": "Gfo_bNh8B5B2"
   },
   "source": [
    "# Standaryzacja"
   ]
  },
  {
   "cell_type": "code",
   "execution_count": null,
   "metadata": {
    "colab": {
     "base_uri": "https://localhost:8080/",
     "height": 298
    },
    "id": "fPeEe9hDB4Y2",
    "outputId": "dc2446bc-c433-46ef-8d43-532f2b811797",
    "pycharm": {
     "is_executing": true
    }
   },
   "outputs": [],
   "source": [
    "data = pd.read_csv('http://archive.ics.uci.edu/ml/machine-learning-databases/iris/iris.data', names=['sepal_length','sepal_width','petal_length','petal_width','target'])\n",
    "data.columns = ['sepal length', 'sepal width', 'petal length', 'petal width', 'class']\n",
    "ax = plt.subplot(1,1,1)\n",
    "bins = np.linspace(0, 2.5, 6)\n",
    "plt.hist(data['petal width'], bins=bins, align=\"mid\", alpha=0.5, histtype='bar', ec='black')\n",
    "plt.xlabel('petal width')\n",
    "plt.ylabel('wystąpień')\n",
    "plt.grid(True)\n",
    "\n",
    "plt.tight_layout(pad=1.0)"
   ]
  },
  {
   "cell_type": "code",
   "execution_count": null,
   "metadata": {
    "id": "a8w4SBVvCMol",
    "pycharm": {
     "is_executing": true
    }
   },
   "outputs": [],
   "source": [
    "def standarization(df):\n",
    "    standarized = df.apply(lambda x: (x - x.mean()) /max(x))\n",
    "    return standarized"
   ]
  },
  {
   "cell_type": "code",
   "execution_count": null,
   "metadata": {
    "colab": {
     "base_uri": "https://localhost:8080/",
     "height": 298
    },
    "id": "sNzpb86ACVtC",
    "outputId": "ec792123-e069-4e2c-d7a0-b3db8dcfd84d",
    "pycharm": {
     "is_executing": true
    }
   },
   "outputs": [],
   "source": [
    "temp = data['petal width']\n",
    "temp_std = (data['petal width']-data['petal width'].mean())/data['petal width'].std()\n",
    "ax = plt.subplot(1,1,1)\n",
    "bins = np.linspace(0, 2.5, 6)\n",
    "plt.hist(temp_std, bins=bins, align=\"mid\", alpha=0.5, histtype='bar', ec='black')\n",
    "plt.title(\"petal width standarized\")\n",
    "plt.xlabel('petal width')\n",
    "plt.ylabel('wystąpień')\n",
    "plt.grid(True)\n",
    "\n",
    "plt.tight_layout(pad=1.0)"
   ]
  },
  {
   "cell_type": "code",
   "execution_count": null,
   "metadata": {
    "id": "V3zdcdehDg-L",
    "pycharm": {
     "is_executing": true
    }
   },
   "outputs": [],
   "source": [
    "#zad2 - wykonaj normalizacje(przez co rozumiem podzielenie kolumny przez jej wartosc maksymalna z kolumny)\n",
    "#uzyj do tego kolumny data[\"Clump Thickness\"] ze zbiory cancer\n",
    "#ustaw 3 wykresy(subploty) obok siebie - oryginalny Clump, znormalizowany, standaryzowane.\n",
    "#Czy i gdzie widac roznice miedzy danymi wykresami?\n",
    "\n"
   ]
  }
 ],
 "metadata": {
  "colab": {
   "collapsed_sections": [],
   "name": "Temat1_przygotowanie_danych_do_ML.ipynb",
   "provenance": []
  },
  "kernelspec": {
   "display_name": "Python 3",
   "language": "python",
   "name": "python3"
  },
  "language_info": {
   "codemirror_mode": {
    "name": "ipython",
    "version": 3
   },
   "file_extension": ".py",
   "mimetype": "text/x-python",
   "name": "python",
   "nbconvert_exporter": "python",
   "pygments_lexer": "ipython3",
   "version": "3.7.6"
  }
 },
 "nbformat": 4,
 "nbformat_minor": 1
}
